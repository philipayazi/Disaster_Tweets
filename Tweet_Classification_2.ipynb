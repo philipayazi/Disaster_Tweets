{
  "nbformat": 4,
  "nbformat_minor": 0,
  "metadata": {
    "accelerator": "GPU",
    "colab": {
      "name": "Copy of Copy of Disaster_Tweets.ipynb",
      "provenance": [],
      "collapsed_sections": [
        "3UN3aAi1qt9g",
        "3Z5ds3V5qt-a"
      ],
      "toc_visible": true,
      "include_colab_link": true
    },
    "kernelspec": {
      "display_name": "Python [conda env:DisasterTweets] *",
      "language": "python",
      "name": "conda-env-DisasterTweets-py"
    },
    "language_info": {
      "codemirror_mode": {
        "name": "ipython",
        "version": 3
      },
      "file_extension": ".py",
      "mimetype": "text/x-python",
      "name": "python",
      "nbconvert_exporter": "python",
      "pygments_lexer": "ipython3",
      "version": "3.7.6"
    }
  },
  "cells": [
    {
      "cell_type": "markdown",
      "metadata": {
        "id": "view-in-github",
        "colab_type": "text"
      },
      "source": [
        "<a href=\"https://colab.research.google.com/github/philipayazi/Disaster_Tweets/blob/master/Tweet_Classification_2.ipynb\" target=\"_parent\"><img src=\"https://colab.research.google.com/assets/colab-badge.svg\" alt=\"Open In Colab\"/></a>"
      ]
    },
    {
      "cell_type": "code",
      "metadata": {
        "colab_type": "code",
        "id": "Y16PDSXLqt7F",
        "colab": {}
      },
      "source": [
        "# import libraries\n",
        "from gensim.parsing.preprocessing import preprocess_string\n",
        "from gensim.parsing.preprocessing import strip_punctuation,strip_multiple_whitespaces,remove_stopwords\n",
        "import pandas as pd\n",
        "from gensim.corpora import Dictionary\n",
        "import numpy as np\n",
        "import xgboost\n",
        "from sklearn.model_selection import train_test_split\n",
        "from sklearn.metrics import classification_report, confusion_matrix, roc_curve\n",
        "import matplotlib.pyplot as plt\n",
        "\n",
        "\n",
        "from sklearn.model_selection import train_test_split\n",
        "from sklearn.preprocessing import StandardScaler\n",
        "from sklearn.feature_extraction.text import CountVectorizer\n",
        "from sklearn.feature_extraction.text import TfidfVectorizer\n",
        "\n",
        "from sklearn.linear_model import LogisticRegression\n",
        "from sklearn.ensemble import RandomForestClassifier\n",
        "from sklearn.metrics import classification_report\n",
        "from sklearn.metrics import confusion_matrix\n",
        "\n",
        "from sklearn.model_selection import GridSearchCV\n",
        "from sklearn.model_selection import RandomizedSearchCV\n",
        "\n",
        "from scipy.stats import uniform\n",
        "from scipy.stats import randint\n",
        "\n",
        "from gensim.parsing.preprocessing import preprocess_string\n",
        "from gensim.parsing.preprocessing import strip_punctuation,strip_multiple_whitespaces,remove_stopwords\n",
        "from gensim.corpora import Dictionary\n",
        "\n",
        "import xgboost as xgb\n"
      ],
      "execution_count": null,
      "outputs": []
    },
    {
      "cell_type": "code",
      "metadata": {
        "colab_type": "code",
        "id": "2tia8-8jqt7R",
        "colab": {}
      },
      "source": [
        "# read data from github\n",
        "\n",
        "url = \"https://github.com/philipayazi/Disaster_Tweets/raw/master/nlp-getting-started/train.csv\"\n",
        "train_df = pd.read_csv(url)"
      ],
      "execution_count": null,
      "outputs": []
    },
    {
      "cell_type": "code",
      "metadata": {
        "colab_type": "code",
        "id": "d4J7_p5Vqt7Y",
        "colab": {
          "base_uri": "https://localhost:8080/",
          "height": 204
        },
        "outputId": "e5de466f-d932-44de-8bc9-2818db68e355"
      },
      "source": [
        "# observe how the data looks\n",
        "train_df.head()"
      ],
      "execution_count": null,
      "outputs": [
        {
          "output_type": "execute_result",
          "data": {
            "text/html": [
              "<div>\n",
              "<style scoped>\n",
              "    .dataframe tbody tr th:only-of-type {\n",
              "        vertical-align: middle;\n",
              "    }\n",
              "\n",
              "    .dataframe tbody tr th {\n",
              "        vertical-align: top;\n",
              "    }\n",
              "\n",
              "    .dataframe thead th {\n",
              "        text-align: right;\n",
              "    }\n",
              "</style>\n",
              "<table border=\"1\" class=\"dataframe\">\n",
              "  <thead>\n",
              "    <tr style=\"text-align: right;\">\n",
              "      <th></th>\n",
              "      <th>id</th>\n",
              "      <th>keyword</th>\n",
              "      <th>location</th>\n",
              "      <th>text</th>\n",
              "      <th>target</th>\n",
              "    </tr>\n",
              "  </thead>\n",
              "  <tbody>\n",
              "    <tr>\n",
              "      <th>0</th>\n",
              "      <td>1</td>\n",
              "      <td>NaN</td>\n",
              "      <td>NaN</td>\n",
              "      <td>Our Deeds are the Reason of this #earthquake M...</td>\n",
              "      <td>1</td>\n",
              "    </tr>\n",
              "    <tr>\n",
              "      <th>1</th>\n",
              "      <td>4</td>\n",
              "      <td>NaN</td>\n",
              "      <td>NaN</td>\n",
              "      <td>Forest fire near La Ronge Sask. Canada</td>\n",
              "      <td>1</td>\n",
              "    </tr>\n",
              "    <tr>\n",
              "      <th>2</th>\n",
              "      <td>5</td>\n",
              "      <td>NaN</td>\n",
              "      <td>NaN</td>\n",
              "      <td>All residents asked to 'shelter in place' are ...</td>\n",
              "      <td>1</td>\n",
              "    </tr>\n",
              "    <tr>\n",
              "      <th>3</th>\n",
              "      <td>6</td>\n",
              "      <td>NaN</td>\n",
              "      <td>NaN</td>\n",
              "      <td>13,000 people receive #wildfires evacuation or...</td>\n",
              "      <td>1</td>\n",
              "    </tr>\n",
              "    <tr>\n",
              "      <th>4</th>\n",
              "      <td>7</td>\n",
              "      <td>NaN</td>\n",
              "      <td>NaN</td>\n",
              "      <td>Just got sent this photo from Ruby #Alaska as ...</td>\n",
              "      <td>1</td>\n",
              "    </tr>\n",
              "  </tbody>\n",
              "</table>\n",
              "</div>"
            ],
            "text/plain": [
              "   id keyword  ...                                               text target\n",
              "0   1     NaN  ...  Our Deeds are the Reason of this #earthquake M...      1\n",
              "1   4     NaN  ...             Forest fire near La Ronge Sask. Canada      1\n",
              "2   5     NaN  ...  All residents asked to 'shelter in place' are ...      1\n",
              "3   6     NaN  ...  13,000 people receive #wildfires evacuation or...      1\n",
              "4   7     NaN  ...  Just got sent this photo from Ruby #Alaska as ...      1\n",
              "\n",
              "[5 rows x 5 columns]"
            ]
          },
          "metadata": {
            "tags": []
          },
          "execution_count": 3
        }
      ]
    },
    {
      "cell_type": "code",
      "metadata": {
        "colab_type": "code",
        "id": "D9FgPfYqqt7i",
        "colab": {}
      },
      "source": [
        "# clean tweets of white spaces, punctuations, stopwords, and make all letters lowercase\n",
        "custom_filters = [lambda x: x.lower(),\n",
        "                  strip_multiple_whitespaces,\n",
        "                  strip_punctuation,\n",
        "                  remove_stopwords]\n",
        "\n",
        "def clean_string(row):\n",
        "    return preprocess_string(row['text'], custom_filters)"
      ],
      "execution_count": null,
      "outputs": []
    },
    {
      "cell_type": "code",
      "metadata": {
        "colab_type": "code",
        "id": "N5J02jA9qt7p",
        "colab": {
          "base_uri": "https://localhost:8080/",
          "height": 204
        },
        "outputId": "8b342bde-3068-43d1-87bf-a3359883535c"
      },
      "source": [
        "# append cleaned tweets to dataframe\n",
        "train_df['cleaned_tweets'] = train_df.apply(clean_string, axis=1)\n",
        "\n",
        "train_df.head()"
      ],
      "execution_count": null,
      "outputs": [
        {
          "output_type": "execute_result",
          "data": {
            "text/html": [
              "<div>\n",
              "<style scoped>\n",
              "    .dataframe tbody tr th:only-of-type {\n",
              "        vertical-align: middle;\n",
              "    }\n",
              "\n",
              "    .dataframe tbody tr th {\n",
              "        vertical-align: top;\n",
              "    }\n",
              "\n",
              "    .dataframe thead th {\n",
              "        text-align: right;\n",
              "    }\n",
              "</style>\n",
              "<table border=\"1\" class=\"dataframe\">\n",
              "  <thead>\n",
              "    <tr style=\"text-align: right;\">\n",
              "      <th></th>\n",
              "      <th>id</th>\n",
              "      <th>keyword</th>\n",
              "      <th>location</th>\n",
              "      <th>text</th>\n",
              "      <th>target</th>\n",
              "      <th>cleaned_tweets</th>\n",
              "    </tr>\n",
              "  </thead>\n",
              "  <tbody>\n",
              "    <tr>\n",
              "      <th>0</th>\n",
              "      <td>1</td>\n",
              "      <td>NaN</td>\n",
              "      <td>NaN</td>\n",
              "      <td>Our Deeds are the Reason of this #earthquake M...</td>\n",
              "      <td>1</td>\n",
              "      <td>[deeds, reason, earthquake, allah, forgive]</td>\n",
              "    </tr>\n",
              "    <tr>\n",
              "      <th>1</th>\n",
              "      <td>4</td>\n",
              "      <td>NaN</td>\n",
              "      <td>NaN</td>\n",
              "      <td>Forest fire near La Ronge Sask. Canada</td>\n",
              "      <td>1</td>\n",
              "      <td>[forest, near, la, ronge, sask, canada]</td>\n",
              "    </tr>\n",
              "    <tr>\n",
              "      <th>2</th>\n",
              "      <td>5</td>\n",
              "      <td>NaN</td>\n",
              "      <td>NaN</td>\n",
              "      <td>All residents asked to 'shelter in place' are ...</td>\n",
              "      <td>1</td>\n",
              "      <td>[residents, asked, shelter, place, notified, o...</td>\n",
              "    </tr>\n",
              "    <tr>\n",
              "      <th>3</th>\n",
              "      <td>6</td>\n",
              "      <td>NaN</td>\n",
              "      <td>NaN</td>\n",
              "      <td>13,000 people receive #wildfires evacuation or...</td>\n",
              "      <td>1</td>\n",
              "      <td>[13, 000, people, receive, wildfires, evacuati...</td>\n",
              "    </tr>\n",
              "    <tr>\n",
              "      <th>4</th>\n",
              "      <td>7</td>\n",
              "      <td>NaN</td>\n",
              "      <td>NaN</td>\n",
              "      <td>Just got sent this photo from Ruby #Alaska as ...</td>\n",
              "      <td>1</td>\n",
              "      <td>[got, sent, photo, ruby, alaska, smoke, wildfi...</td>\n",
              "    </tr>\n",
              "  </tbody>\n",
              "</table>\n",
              "</div>"
            ],
            "text/plain": [
              "   id keyword  ... target                                     cleaned_tweets\n",
              "0   1     NaN  ...      1        [deeds, reason, earthquake, allah, forgive]\n",
              "1   4     NaN  ...      1            [forest, near, la, ronge, sask, canada]\n",
              "2   5     NaN  ...      1  [residents, asked, shelter, place, notified, o...\n",
              "3   6     NaN  ...      1  [13, 000, people, receive, wildfires, evacuati...\n",
              "4   7     NaN  ...      1  [got, sent, photo, ruby, alaska, smoke, wildfi...\n",
              "\n",
              "[5 rows x 6 columns]"
            ]
          },
          "metadata": {
            "tags": []
          },
          "execution_count": 5
        }
      ]
    },
    {
      "cell_type": "code",
      "metadata": {
        "colab_type": "code",
        "id": "y6mEjNgOqt7v",
        "colab": {}
      },
      "source": [
        "# convert cleaned_tweets column to a list so that we can create a 2D array\n",
        "# cleaned_tweets_lst = train_df['cleaned_tweets'].to_list()"
      ],
      "execution_count": null,
      "outputs": []
    },
    {
      "cell_type": "code",
      "metadata": {
        "colab_type": "code",
        "id": "qhaoVZNpqt72",
        "colab": {}
      },
      "source": [
        "# make cleaned_tweets_lst a list of lists i.e. a 2D array\n",
        "# cleaned_tweets_lst = [' '.join(cleaned_tweet) for cleaned_tweet in cleaned_tweets_lst]"
      ],
      "execution_count": null,
      "outputs": []
    },
    {
      "cell_type": "code",
      "metadata": {
        "colab_type": "code",
        "id": "RKlJSvOHqt7-",
        "colab": {}
      },
      "source": [
        "# convert cleaned_tweets column to dictionary\n",
        "# dct = Dictionary(train_df.cleaned_tweets)"
      ],
      "execution_count": null,
      "outputs": []
    },
    {
      "cell_type": "code",
      "metadata": {
        "colab_type": "code",
        "id": "T2L1HNxFqt8D",
        "colab": {}
      },
      "source": [
        "# convert dictionary to matrix\n",
        "# gen_corpus = [dct.doc2bow(line) for line in train_df.cleaned_tweets]"
      ],
      "execution_count": null,
      "outputs": []
    },
    {
      "cell_type": "code",
      "metadata": {
        "colab_type": "code",
        "id": "PdFUNyY25-gX",
        "colab": {}
      },
      "source": [
        "# gen_corpus[:5]"
      ],
      "execution_count": null,
      "outputs": []
    },
    {
      "cell_type": "code",
      "metadata": {
        "colab_type": "code",
        "id": "IcaY4EIvqt8J",
        "colab": {}
      },
      "source": [
        "# create model\n",
        "from gensim.models import TfidfModel\n",
        "# td_model = TfidfModel(gen_corpus)"
      ],
      "execution_count": null,
      "outputs": []
    },
    {
      "cell_type": "code",
      "metadata": {
        "colab_type": "code",
        "id": "MXSHh5dkqt8Q",
        "colab": {}
      },
      "source": [
        "# model"
      ],
      "execution_count": null,
      "outputs": []
    },
    {
      "cell_type": "code",
      "metadata": {
        "colab_type": "code",
        "id": "zrXSn_IEqt8V",
        "colab": {}
      },
      "source": [
        "# fit model\n",
        "# vector = model[corpus]"
      ],
      "execution_count": null,
      "outputs": []
    },
    {
      "cell_type": "code",
      "metadata": {
        "colab_type": "code",
        "id": "kenkS4FEqt8b",
        "colab": {}
      },
      "source": [
        "# print(vector)"
      ],
      "execution_count": null,
      "outputs": []
    },
    {
      "cell_type": "code",
      "metadata": {
        "colab_type": "code",
        "id": "DClU2aRLqt8j",
        "colab": {}
      },
      "source": [
        "# vector_0 = model[corpus[0]]"
      ],
      "execution_count": null,
      "outputs": []
    },
    {
      "cell_type": "code",
      "metadata": {
        "colab_type": "code",
        "id": "czei8ajqqt8p",
        "colab": {}
      },
      "source": [
        "# vector_1 = model[corpus[1]]"
      ],
      "execution_count": null,
      "outputs": []
    },
    {
      "cell_type": "code",
      "metadata": {
        "colab_type": "code",
        "id": "Ej2XQPKJqt8w",
        "colab": {}
      },
      "source": [
        "# The above code does not seem to be correct because it is treating redundent words as unique. Create dictionary of\n",
        "# frequency counts of unique words\n",
        "# from collections import defaultdict\n",
        "# frequency = defaultdict(int)\n",
        "# for text in train_df.cleaned_tweets:\n",
        "#     for token in text:\n",
        "#         frequency[token] += 1"
      ],
      "execution_count": null,
      "outputs": []
    },
    {
      "cell_type": "code",
      "metadata": {
        "colab_type": "code",
        "id": "6DU2jk3xqt83",
        "colab": {}
      },
      "source": [
        "# convert default dictionary to dictionary\n",
        "# frequency = dict(frequency)"
      ],
      "execution_count": null,
      "outputs": []
    },
    {
      "cell_type": "markdown",
      "metadata": {
        "colab_type": "text",
        "id": "JibnR8TjHzTb"
      },
      "source": [
        "#EDA of Data Set"
      ]
    },
    {
      "cell_type": "code",
      "metadata": {
        "colab_type": "code",
        "id": "i1997FsbH8KI",
        "colab": {}
      },
      "source": [
        "# Determine if training data set is balanced\n",
        "target_count = train_df.groupby('target').count().drop(columns = ['id', 'keyword', 'location', 'text'], axis=1)"
      ],
      "execution_count": null,
      "outputs": []
    },
    {
      "cell_type": "code",
      "metadata": {
        "colab_type": "code",
        "id": "btDyzCjBH7-w",
        "colab": {
          "base_uri": "https://localhost:8080/",
          "height": 138
        },
        "outputId": "5278748a-a43f-4eac-d986-c679f88a74a7"
      },
      "source": [
        "# Data shows 57% to 43% disaster non related to related tweets\n",
        "target_count"
      ],
      "execution_count": null,
      "outputs": [
        {
          "output_type": "execute_result",
          "data": {
            "text/html": [
              "<div>\n",
              "<style scoped>\n",
              "    .dataframe tbody tr th:only-of-type {\n",
              "        vertical-align: middle;\n",
              "    }\n",
              "\n",
              "    .dataframe tbody tr th {\n",
              "        vertical-align: top;\n",
              "    }\n",
              "\n",
              "    .dataframe thead th {\n",
              "        text-align: right;\n",
              "    }\n",
              "</style>\n",
              "<table border=\"1\" class=\"dataframe\">\n",
              "  <thead>\n",
              "    <tr style=\"text-align: right;\">\n",
              "      <th></th>\n",
              "      <th>cleaned_tweets</th>\n",
              "      <th>corpus</th>\n",
              "    </tr>\n",
              "    <tr>\n",
              "      <th>target</th>\n",
              "      <th></th>\n",
              "      <th></th>\n",
              "    </tr>\n",
              "  </thead>\n",
              "  <tbody>\n",
              "    <tr>\n",
              "      <th>0</th>\n",
              "      <td>4342</td>\n",
              "      <td>4342</td>\n",
              "    </tr>\n",
              "    <tr>\n",
              "      <th>1</th>\n",
              "      <td>3271</td>\n",
              "      <td>3271</td>\n",
              "    </tr>\n",
              "  </tbody>\n",
              "</table>\n",
              "</div>"
            ],
            "text/plain": [
              "        cleaned_tweets  corpus\n",
              "target                        \n",
              "0                 4342    4342\n",
              "1                 3271    3271"
            ]
          },
          "metadata": {
            "tags": []
          },
          "execution_count": 127
        }
      ]
    },
    {
      "cell_type": "code",
      "metadata": {
        "colab_type": "code",
        "id": "MeYSqwOSPo0L",
        "colab": {}
      },
      "source": [
        "target_pct = round(target_count.div(target_count['cleaned_tweets'].sum()) * 100, 2)"
      ],
      "execution_count": null,
      "outputs": []
    },
    {
      "cell_type": "code",
      "metadata": {
        "colab_type": "code",
        "id": "1gupD9A5H778",
        "colab": {}
      },
      "source": [
        "target_pct = target_pct.rename(columns={'cleaned_tweets': \"percent\"})"
      ],
      "execution_count": null,
      "outputs": []
    },
    {
      "cell_type": "code",
      "metadata": {
        "colab_type": "code",
        "id": "PD44Y-T2O22P",
        "colab": {}
      },
      "source": [
        "target_pct = target_pct.reset_index()"
      ],
      "execution_count": null,
      "outputs": []
    },
    {
      "cell_type": "code",
      "metadata": {
        "colab_type": "code",
        "id": "env8UizR1A4F",
        "colab": {}
      },
      "source": [
        "target_pct = target_pct.replace({\"target\":{0: \"False\", 1: \"True\"}})"
      ],
      "execution_count": null,
      "outputs": []
    },
    {
      "cell_type": "code",
      "metadata": {
        "colab_type": "code",
        "id": "Tf6wqf8PL2xK",
        "colab": {}
      },
      "source": [
        "from matplotlib import pyplot as plt    \n",
        "\n",
        "fig = plt.figure(figsize=(10,10))\n",
        "plt.bar(target_pct['target'], target_pct['percent'])\n",
        "fig.suptitle('Percentage of True vs False Classificatins \\n of Tweets Related to Disasters', fontsize=20, y=.95)\n",
        "plt.xlabel('Disaster', fontsize=18)\n",
        "plt.ylabel('Percentage of Tweets', fontsize=18)\n",
        "plt.xticks(fontsize=14)\n",
        "plt.yticks(fontsize=14)\n",
        "fig.savefig('classification_balance.png')"
      ],
      "execution_count": null,
      "outputs": []
    },
    {
      "cell_type": "markdown",
      "metadata": {
        "id": "ffEJ5CU_Sz_P",
        "colab_type": "text"
      },
      "source": [
        "#Split dat into TRAIN test TEST sets"
      ]
    },
    {
      "cell_type": "code",
      "metadata": {
        "id": "Fi4GWoqGS_rY",
        "colab_type": "code",
        "colab": {}
      },
      "source": [
        "X_train_list, X_test_list, y_train_list, y_test_list = train_test_split(cleaned_tweets_lst, initial_df['target'], test_size =0.3, random_state =42)"
      ],
      "execution_count": null,
      "outputs": []
    },
    {
      "cell_type": "markdown",
      "metadata": {
        "colab_type": "text",
        "id": "3UN3aAi1qt9g"
      },
      "source": [
        "# All of these analyses are on dense vectors. We need to analyze sparse vectors"
      ]
    },
    {
      "cell_type": "code",
      "metadata": {
        "colab_type": "code",
        "id": "jGns2sxhqt9i",
        "colab": {}
      },
      "source": [
        "from sklearn.feature_extraction.text import CountVectorizer\n",
        "from sklearn.model_selection import train_test_split"
      ],
      "execution_count": null,
      "outputs": []
    },
    {
      "cell_type": "code",
      "metadata": {
        "colab_type": "code",
        "id": "fHBWA2Szqt9m",
        "colab": {}
      },
      "source": [
        "X_train_split, X_test_split, y_train_split, y_test_split = train_test_split(cleaned_tweets_lst, train_df['target'], test_size = 0.3, random_state = 42)"
      ],
      "execution_count": null,
      "outputs": []
    },
    {
      "cell_type": "code",
      "metadata": {
        "colab_type": "code",
        "id": "gdIypiXdqt9r",
        "colab": {}
      },
      "source": [
        "train_corpus = X_train_split\n",
        "\n",
        "train_vectorizer = CountVectorizer()\n",
        "\n",
        "X_train = train_vectorizer.fit_transform(train_corpus)"
      ],
      "execution_count": null,
      "outputs": []
    },
    {
      "cell_type": "code",
      "metadata": {
        "colab_type": "code",
        "id": "XEFydgaSqt9y",
        "colab": {}
      },
      "source": [
        "test_corpus = X_test_split\n",
        "\n",
        "X_test = train_vectorizer.transform(test_corpus)"
      ],
      "execution_count": null,
      "outputs": []
    },
    {
      "cell_type": "code",
      "metadata": {
        "colab_type": "code",
        "id": "JufGDFHIqt93",
        "colab": {
          "base_uri": "https://localhost:8080/"
        },
        "outputId": "a40a1c99-dd6c-40be-c18a-995de3b61017"
      },
      "source": [
        "X_train_shaped = X_train.shape\n",
        "\n",
        "X_train_shaped"
      ],
      "execution_count": null,
      "outputs": [
        {
          "output_type": "execute_result",
          "data": {
            "text/plain": [
              "(5329, 16712)"
            ]
          },
          "metadata": {
            "tags": []
          },
          "execution_count": 30
        }
      ]
    },
    {
      "cell_type": "code",
      "metadata": {
        "colab_type": "code",
        "id": "ge1HO8-Mqt98",
        "colab": {
          "base_uri": "https://localhost:8080/"
        },
        "outputId": "85f0aceb-4f6d-45ee-a8f8-e1ea790e1eea"
      },
      "source": [
        "X_test_shaped = X_test.shape\n",
        "\n",
        "X_test_shaped"
      ],
      "execution_count": null,
      "outputs": [
        {
          "output_type": "execute_result",
          "data": {
            "text/plain": [
              "(2284, 16712)"
            ]
          },
          "metadata": {
            "tags": []
          },
          "execution_count": 31
        }
      ]
    },
    {
      "cell_type": "code",
      "metadata": {
        "colab_type": "code",
        "id": "M5ihpgRnqt-B",
        "colab": {}
      },
      "source": [
        "train_vectorizer.vocabulary_"
      ],
      "execution_count": null,
      "outputs": []
    },
    {
      "cell_type": "code",
      "metadata": {
        "colab_type": "code",
        "id": "-IBpG96Qqt-I",
        "colab": {}
      },
      "source": [
        "feature_names = train_vectorizer.get_feature_names()"
      ],
      "execution_count": null,
      "outputs": []
    },
    {
      "cell_type": "code",
      "metadata": {
        "colab_type": "code",
        "id": "agKMPc3hqt-N",
        "colab": {}
      },
      "source": [
        "sparse_vectors = X_train.toarray()"
      ],
      "execution_count": null,
      "outputs": []
    },
    {
      "cell_type": "code",
      "metadata": {
        "colab_type": "code",
        "id": "YNifxwR8qt-S",
        "colab": {}
      },
      "source": [
        "sparse_vectors[0]"
      ],
      "execution_count": null,
      "outputs": []
    },
    {
      "cell_type": "markdown",
      "metadata": {
        "colab_type": "text",
        "id": "3Z5ds3V5qt-a"
      },
      "source": [
        "# Logistic Regression"
      ]
    },
    {
      "cell_type": "code",
      "metadata": {
        "colab_type": "code",
        "id": "tQeTqUSoqt-b",
        "colab": {}
      },
      "source": [
        "# from sklearn.linear_model import LogisticRegression"
      ],
      "execution_count": null,
      "outputs": []
    },
    {
      "cell_type": "code",
      "metadata": {
        "colab_type": "code",
        "id": "k3iydBHVqt-i",
        "colab": {}
      },
      "source": [
        "# model = LogisticRegression().fit(X_train, y_train_split)"
      ],
      "execution_count": null,
      "outputs": []
    },
    {
      "cell_type": "code",
      "metadata": {
        "colab_type": "code",
        "id": "m4wHH5Rrqt-o",
        "colab": {
          "base_uri": "https://localhost:8080/",
          "height": 35
        },
        "outputId": "9a46c53e-e294-404a-899e-1e2b65864ac5"
      },
      "source": [
        "# model.score(X_train, y_train_split)"
      ],
      "execution_count": null,
      "outputs": [
        {
          "output_type": "execute_result",
          "data": {
            "text/plain": [
              "0.9711015199849878"
            ]
          },
          "metadata": {
            "tags": []
          },
          "execution_count": 38
        }
      ]
    },
    {
      "cell_type": "code",
      "metadata": {
        "colab_type": "code",
        "id": "0q4xohFNqt-u",
        "colab": {
          "base_uri": "https://localhost:8080/",
          "height": 35
        },
        "outputId": "0408d325-d51c-47c5-fe93-e190540dc68d"
      },
      "source": [
        "# model.predict(X_test)"
      ],
      "execution_count": null,
      "outputs": [
        {
          "output_type": "execute_result",
          "data": {
            "text/plain": [
              "array([0, 0, 1, ..., 1, 1, 0])"
            ]
          },
          "metadata": {
            "tags": []
          },
          "execution_count": 39
        }
      ]
    },
    {
      "cell_type": "code",
      "metadata": {
        "colab_type": "code",
        "id": "-Ijj-q2Hqt-4",
        "colab": {
          "base_uri": "https://localhost:8080/",
          "height": 35
        },
        "outputId": "9f192011-b5ec-4a87-9721-e7abc33cbdea"
      },
      "source": [
        "# model.score(X_test, y_test_split)"
      ],
      "execution_count": null,
      "outputs": [
        {
          "output_type": "execute_result",
          "data": {
            "text/plain": [
              "0.7981611208406305"
            ]
          },
          "metadata": {
            "tags": []
          },
          "execution_count": 40
        }
      ]
    },
    {
      "cell_type": "markdown",
      "metadata": {
        "id": "BapkzuYQQQbl",
        "colab_type": "text"
      },
      "source": [
        "## Feature Engieering via \"CountVectorizer\"  \n",
        "\n",
        "- From List to Matrix via \"CountVectorizer\" \n",
        "\n",
        "- List shape: N_tweets x 1\n",
        "- Matrix shape: N_tweets x N_WordsInCorpus"
      ]
    },
    {
      "cell_type": "code",
      "metadata": {
        "id": "wim5BotGQQbm",
        "colab_type": "code",
        "colab": {}
      },
      "source": [
        "train_vectorizer = CountVectorizer()\n",
        "Xcv_train_matrix = train_vectorizer.fit_transform(X_train_list)\n",
        "Xcv_test_matrix = train_vectorizer.transform(X_test_list)"
      ],
      "execution_count": null,
      "outputs": []
    },
    {
      "cell_type": "code",
      "metadata": {
        "id": "AKcdY9SYQQbs",
        "colab_type": "code",
        "colab": {}
      },
      "source": [
        "# # Scale feature data (most likely not needed for CV features)\n",
        "\n",
        "# x_scaler = StandardScaler(with_mean=False).fit(Xcv_train_matrix)\n",
        "\n",
        "# Xcv_train_matrix = x_scaler.transform(Xcv_train_matrix)\n",
        "# Xcv_test_matrix = x_scaler.transform(Xcv_test_matrix)"
      ],
      "execution_count": null,
      "outputs": []
    },
    {
      "cell_type": "code",
      "metadata": {
        "id": "I2jMDqd-QQbz",
        "colab_type": "code",
        "colab": {}
      },
      "source": [
        "print('Train matrix shape', Xcv_train_matrix.shape)\n",
        "print('Test matrix shape', Xcv_test_matrix.shape)"
      ],
      "execution_count": null,
      "outputs": []
    },
    {
      "cell_type": "code",
      "metadata": {
        "id": "IXZ4CsTSQQb3",
        "colab_type": "code",
        "colab": {}
      },
      "source": [
        "feature_names = train_vectorizer.get_feature_names()\n",
        "#print(feature_names)\n",
        "train_vectorizer.vocabulary_\n"
      ],
      "execution_count": null,
      "outputs": []
    },
    {
      "cell_type": "code",
      "metadata": {
        "id": "kYWBxN6EQQb9",
        "colab_type": "code",
        "colab": {}
      },
      "source": [
        "sparse_vectors = Xcv_train_matrix.toarray()\n",
        "\n",
        "Tweet_nbr =0;\n",
        "Word_nbr =1820;  #e.g., 1820 = 'australia'\n",
        "\n",
        "sparse_vectors[0,1820]  # we get ones (or twos) at the right place"
      ],
      "execution_count": null,
      "outputs": []
    },
    {
      "cell_type": "markdown",
      "metadata": {
        "id": "afIF_P_wQQcC",
        "colab_type": "text"
      },
      "source": [
        "## Features: CountVectorizer, Classifier: Logistic Regression"
      ]
    },
    {
      "cell_type": "code",
      "metadata": {
        "scrolled": false,
        "id": "Y7n622NOQQcD",
        "colab_type": "code",
        "colab": {},
        "outputId": "fdbadac0-c86d-4691-fc3a-0c91ba61965b"
      },
      "source": [
        "model_CV_LR =LogisticRegression(n_jobs=-1).fit(Xcv_train_matrix, y_train_list)\n",
        "\n",
        "CV_LR_score_train =model_CV_LR.score(Xcv_train_matrix, y_train_list)\n",
        "#model_LR.predict(Xcv_test_matrix)\n",
        "CV_LR_score_test =model_CV_LR.score(Xcv_test_matrix, y_test_list)\n",
        "\n",
        "print('score for test data:', CV_LR_score_test)\n",
        "print(classification_report(y_test_list, model_CV_LR.predict(Xcv_test_matrix)) )"
      ],
      "execution_count": null,
      "outputs": [
        {
          "output_type": "error",
          "ename": "NameError",
          "evalue": "name 'LogisticRegression' is not defined",
          "traceback": [
            "\u001b[1;31m---------------------------------------------------------------------------\u001b[0m",
            "\u001b[1;31mNameError\u001b[0m                                 Traceback (most recent call last)",
            "\u001b[1;32m<ipython-input-2-e1314ac9664a>\u001b[0m in \u001b[0;36m<module>\u001b[1;34m\u001b[0m\n\u001b[1;32m----> 1\u001b[1;33m \u001b[0mmodel_CV_LR\u001b[0m \u001b[1;33m=\u001b[0m\u001b[0mLogisticRegression\u001b[0m\u001b[1;33m(\u001b[0m\u001b[0mn_jobs\u001b[0m\u001b[1;33m=\u001b[0m\u001b[1;33m-\u001b[0m\u001b[1;36m1\u001b[0m\u001b[1;33m)\u001b[0m\u001b[1;33m.\u001b[0m\u001b[0mfit\u001b[0m\u001b[1;33m(\u001b[0m\u001b[0mXcv_train_matrix\u001b[0m\u001b[1;33m,\u001b[0m \u001b[0my_train_list\u001b[0m\u001b[1;33m)\u001b[0m\u001b[1;33m\u001b[0m\u001b[1;33m\u001b[0m\u001b[0m\n\u001b[0m\u001b[0;32m      2\u001b[0m \u001b[1;33m\u001b[0m\u001b[0m\n\u001b[0;32m      3\u001b[0m \u001b[0mCV_LR_score_train\u001b[0m \u001b[1;33m=\u001b[0m\u001b[0mmodel_CV_LR\u001b[0m\u001b[1;33m.\u001b[0m\u001b[0mscore\u001b[0m\u001b[1;33m(\u001b[0m\u001b[0mXcv_train_matrix\u001b[0m\u001b[1;33m,\u001b[0m \u001b[0my_train_list\u001b[0m\u001b[1;33m)\u001b[0m\u001b[1;33m\u001b[0m\u001b[1;33m\u001b[0m\u001b[0m\n\u001b[0;32m      4\u001b[0m \u001b[1;31m#model_LR.predict(Xcv_test_matrix)\u001b[0m\u001b[1;33m\u001b[0m\u001b[1;33m\u001b[0m\u001b[1;33m\u001b[0m\u001b[0m\n\u001b[0;32m      5\u001b[0m \u001b[0mCV_LR_score_test\u001b[0m \u001b[1;33m=\u001b[0m\u001b[0mmodel_CV_LR\u001b[0m\u001b[1;33m.\u001b[0m\u001b[0mscore\u001b[0m\u001b[1;33m(\u001b[0m\u001b[0mXcv_test_matrix\u001b[0m\u001b[1;33m,\u001b[0m \u001b[0my_test_list\u001b[0m\u001b[1;33m)\u001b[0m\u001b[1;33m\u001b[0m\u001b[1;33m\u001b[0m\u001b[0m\n",
            "\u001b[1;31mNameError\u001b[0m: name 'LogisticRegression' is not defined"
          ]
        }
      ]
    },
    {
      "cell_type": "markdown",
      "metadata": {
        "id": "AySDxnWlQQcH",
        "colab_type": "text"
      },
      "source": [
        "## Features: TFIDF,  Classifier: Logistic Regression"
      ]
    },
    {
      "cell_type": "code",
      "metadata": {
        "id": "z2649bXCQQcI",
        "colab_type": "code",
        "colab": {}
      },
      "source": [
        "train_vectorizer = TfidfVectorizer()"
      ],
      "execution_count": null,
      "outputs": []
    },
    {
      "cell_type": "code",
      "metadata": {
        "id": "b30b95bJQQcL",
        "colab_type": "code",
        "colab": {}
      },
      "source": [
        "Xtf_train_matrix = train_vectorizer.fit_transform(X_train_list)\n",
        "Xtf_test_matrix = train_vectorizer.transform(X_test_list)"
      ],
      "execution_count": null,
      "outputs": []
    },
    {
      "cell_type": "code",
      "metadata": {
        "id": "XBoWCWL5QQcP",
        "colab_type": "code",
        "colab": {}
      },
      "source": [
        "# # Scale feature data (most likely not needed for CV features)\n",
        "# x_scaler = StandardScaler(with_mean=False).fit(Xtf_train_matrix)\n",
        "\n",
        "# Xtf_train_matrix = x_scaler.transform(Xtf_train_matrix)\n",
        "# Xtf_test_matrix = x_scaler.transform(Xtf_test_matrix)"
      ],
      "execution_count": null,
      "outputs": []
    },
    {
      "cell_type": "code",
      "metadata": {
        "id": "habpNDcaQQcT",
        "colab_type": "code",
        "colab": {}
      },
      "source": [
        "print('Train matrix shape', Xtf_train_matrix.shape)\n",
        "print('Test matrix shape', Xtf_test_matrix.shape)"
      ],
      "execution_count": null,
      "outputs": []
    },
    {
      "cell_type": "code",
      "metadata": {
        "id": "5RS5fhl3QQcZ",
        "colab_type": "code",
        "colab": {}
      },
      "source": [
        "Xtf_train_matrix[0,1820]"
      ],
      "execution_count": null,
      "outputs": []
    },
    {
      "cell_type": "code",
      "metadata": {
        "id": "mi59FHFQQQcg",
        "colab_type": "code",
        "colab": {}
      },
      "source": [
        "Xtf_train_matrix[0,276]  #w/out scaling was: 0.19644613494912055"
      ],
      "execution_count": null,
      "outputs": []
    },
    {
      "cell_type": "code",
      "metadata": {
        "id": "eh37C4ZyQQcl",
        "colab_type": "code",
        "colab": {}
      },
      "source": [
        "feature_names = train_vectorizer.get_feature_names()\n",
        "## print(feature_names)\n",
        "train_vectorizer.vocabulary_"
      ],
      "execution_count": null,
      "outputs": []
    },
    {
      "cell_type": "code",
      "metadata": {
        "id": "yzyPBMqgQQcq",
        "colab_type": "code",
        "colab": {}
      },
      "source": [
        "model_TF_LR =LogisticRegression(n_jobs=-1).fit(Xtf_train_matrix, y_train_list)"
      ],
      "execution_count": null,
      "outputs": []
    },
    {
      "cell_type": "code",
      "metadata": {
        "id": "BwSrheE5QQcv",
        "colab_type": "code",
        "colab": {}
      },
      "source": [
        "TF_LR_score_train =model_TF_LR.score(Xtf_train_matrix, y_train_list)\n",
        "\n",
        "TF_LR_score_test =model_TF_LR.score(Xtf_test_matrix, y_test_list)\n",
        "\n",
        "print('score for test data:', TF_LR_score_test)\n",
        "print(classification_report(y_test_list, model_TF_LR.predict(Xtf_test_matrix)) )"
      ],
      "execution_count": null,
      "outputs": []
    },
    {
      "cell_type": "markdown",
      "metadata": {
        "id": "Iaw9q8D7QQcz",
        "colab_type": "text"
      },
      "source": [
        "## Features: TFIDF,  Classifier: Randon Forest"
      ]
    },
    {
      "cell_type": "code",
      "metadata": {
        "id": "5WOtGw6bQQcz",
        "colab_type": "code",
        "colab": {}
      },
      "source": [
        "model_TF_RF =RandomForestClassifier(n_jobs=-1).fit(Xtf_train_matrix, y_train_list)"
      ],
      "execution_count": null,
      "outputs": []
    },
    {
      "cell_type": "code",
      "metadata": {
        "id": "ZgPxn1-2QQc3",
        "colab_type": "code",
        "colab": {}
      },
      "source": [
        "TF_RF_score_train =model_TF_RF.score(Xtf_train_matrix, y_train_list)\n",
        "\n",
        "TF_RF_score_test =model_TF_RF.score(Xtf_test_matrix, y_test_list)\n",
        "\n",
        "print('score for test data:', TF_RF_score_test)\n",
        "print(classification_report(y_test_list, model_TF_RF.predict(Xtf_test_matrix)) )"
      ],
      "execution_count": null,
      "outputs": []
    },
    {
      "cell_type": "code",
      "metadata": {
        "id": "-7_dgFyRQQc7",
        "colab_type": "code",
        "colab": {}
      },
      "source": [
        "model_TF_RF.feature_importances_"
      ],
      "execution_count": null,
      "outputs": []
    },
    {
      "cell_type": "code",
      "metadata": {
        "id": "_swqtj0DQQc_",
        "colab_type": "code",
        "colab": {}
      },
      "source": [
        "feat_sortedlist =sorted(zip(model_TF_RF.feature_importances_, feature_names), reverse=True)\n",
        "\n",
        "# top 10 features\n",
        "feat_sortedlist[0:12]"
      ],
      "execution_count": null,
      "outputs": []
    },
    {
      "cell_type": "markdown",
      "metadata": {
        "id": "NQUj8DOSQQdE",
        "colab_type": "text"
      },
      "source": [
        "## Features: TFIDF,  Classifier: XGBooster"
      ]
    },
    {
      "cell_type": "code",
      "metadata": {
        "id": "pB_LAlBaQQdF",
        "colab_type": "code",
        "colab": {}
      },
      "source": [
        "model_TF_XGB = xgb.XGBClassifier(objective=\"binary:logistic\", n_jobs=-1, random_state= 42)\n",
        "model_TF_XGB.fit(Xtf_train_matrix, y_train_list)"
      ],
      "execution_count": null,
      "outputs": []
    },
    {
      "cell_type": "code",
      "metadata": {
        "id": "oXkfe_74QQdJ",
        "colab_type": "code",
        "colab": {}
      },
      "source": [
        "y_pred = model_TF_XGB.predict(Xtf_test_matrix)\n",
        "#print(confusion_matrix(y_test_list, y_pred))\n",
        "\n",
        "TF_XGB_score_train =model_TF_XGB.score(Xtf_train_matrix, y_train_list)\n",
        "TF_XGB_score_test =model_TF_XGB.score(Xtf_test_matrix, y_test_list)\n",
        "\n",
        "print('score for test data:', TF_XGB_score_test)\n",
        "print(classification_report(y_test_list, model_TF_XGB.predict(Xtf_test_matrix)) )"
      ],
      "execution_count": null,
      "outputs": []
    },
    {
      "cell_type": "markdown",
      "metadata": {
        "id": "yEhsRtzNQQdM",
        "colab_type": "text"
      },
      "source": [
        "## Features: CountVectorizer,  Classifier: XGBooster"
      ]
    },
    {
      "cell_type": "code",
      "metadata": {
        "id": "1NcfesorQQdN",
        "colab_type": "code",
        "colab": {}
      },
      "source": [
        "model_CV_XGB = xgb.XGBClassifier(objective=\"binary:logistic\", n_jobs=-1, random_state= 42)\n",
        "model_CV_XGB.fit(Xcv_train_matrix, y_train_list)"
      ],
      "execution_count": null,
      "outputs": []
    },
    {
      "cell_type": "code",
      "metadata": {
        "id": "uVVRPMJZQQdQ",
        "colab_type": "code",
        "colab": {}
      },
      "source": [
        "y_pred = model_TF_XGB.predict(Xcv_test_matrix)\n",
        "#print(confusion_matrix(y_test_list, y_pred))\n",
        "\n",
        "CV_XGB_score_train =model_CV_XGB.score(Xcv_train_matrix, y_train_list)\n",
        "CV_XGB_score_test =model_CV_XGB.score(Xcv_test_matrix, y_test_list)\n",
        "\n",
        "print('score for test data:', CV_XGB_score_test)\n",
        "print(classification_report(y_test_list, model_CV_XGB.predict(Xcv_test_matrix)) )"
      ],
      "execution_count": null,
      "outputs": []
    },
    {
      "cell_type": "markdown",
      "metadata": {
        "id": "Ss35NGIuQQdT",
        "colab_type": "text"
      },
      "source": [
        "## Features: CountVectorizer,  Classifier: Randon Forest"
      ]
    },
    {
      "cell_type": "code",
      "metadata": {
        "id": "Yr4H6CXZQQdU",
        "colab_type": "code",
        "colab": {},
        "outputId": "e49f17af-3d1e-4a74-eb83-a48454b13911"
      },
      "source": [
        "CV_RF_score_train =model_CV_RF.score(Xcv_train_matrix, y_train_list)\n",
        "\n",
        "CV_RF_score_test =model_CV_RF.score(Xcv_test_matrix, y_test_list)\n",
        "\n",
        "print('score for test data:', CV_RF_score_test)\n",
        "print(classification_report(y_test_list, model_CV_RF.predict(Xcv_test_matrix)) )"
      ],
      "execution_count": null,
      "outputs": [
        {
          "output_type": "error",
          "ename": "NameError",
          "evalue": "name 'model_CV_RF' is not defined",
          "traceback": [
            "\u001b[1;31m---------------------------------------------------------------------------\u001b[0m",
            "\u001b[1;31mNameError\u001b[0m                                 Traceback (most recent call last)",
            "\u001b[1;32m<ipython-input-3-351edaba3fab>\u001b[0m in \u001b[0;36m<module>\u001b[1;34m\u001b[0m\n\u001b[1;32m----> 1\u001b[1;33m \u001b[0mCV_RF_score_train\u001b[0m \u001b[1;33m=\u001b[0m\u001b[0mmodel_CV_RF\u001b[0m\u001b[1;33m.\u001b[0m\u001b[0mscore\u001b[0m\u001b[1;33m(\u001b[0m\u001b[0mXcv_train_matrix\u001b[0m\u001b[1;33m,\u001b[0m \u001b[0my_train_list\u001b[0m\u001b[1;33m)\u001b[0m\u001b[1;33m\u001b[0m\u001b[1;33m\u001b[0m\u001b[0m\n\u001b[0m\u001b[0;32m      2\u001b[0m \u001b[1;33m\u001b[0m\u001b[0m\n\u001b[0;32m      3\u001b[0m \u001b[0mCV_RF_score_test\u001b[0m \u001b[1;33m=\u001b[0m\u001b[0mmodel_CV_RF\u001b[0m\u001b[1;33m.\u001b[0m\u001b[0mscore\u001b[0m\u001b[1;33m(\u001b[0m\u001b[0mXcv_test_matrix\u001b[0m\u001b[1;33m,\u001b[0m \u001b[0my_test_list\u001b[0m\u001b[1;33m)\u001b[0m\u001b[1;33m\u001b[0m\u001b[1;33m\u001b[0m\u001b[0m\n\u001b[0;32m      4\u001b[0m \u001b[1;33m\u001b[0m\u001b[0m\n\u001b[0;32m      5\u001b[0m \u001b[0mprint\u001b[0m\u001b[1;33m(\u001b[0m\u001b[1;34m'score for test data:'\u001b[0m\u001b[1;33m,\u001b[0m \u001b[0mCV_RF_score_test\u001b[0m\u001b[1;33m)\u001b[0m\u001b[1;33m\u001b[0m\u001b[1;33m\u001b[0m\u001b[0m\n",
            "\u001b[1;31mNameError\u001b[0m: name 'model_CV_RF' is not defined"
          ]
        }
      ]
    },
    {
      "cell_type": "markdown",
      "metadata": {
        "id": "kKJB5kWpQQdX",
        "colab_type": "text"
      },
      "source": [
        "## Summary of results so far"
      ]
    },
    {
      "cell_type": "code",
      "metadata": {
        "id": "WFc_Yd7DQQdY",
        "colab_type": "code",
        "colab": {}
      },
      "source": [
        "print('--------- CV features ------------------------')\n",
        "print('score for CV->LR:', CV_LR_score_test)\n",
        "print('score for CV->RF:', CV_RF_score_test)\n",
        "print('score for CV->XGB:', CV_XGB_score_test)\n",
        "\n",
        "print('--------- TFIDF features ---------------------')\n",
        "print('score for TF->LR:', TF_LR_score_test)\n",
        "print('score for TF->RF:', TF_RF_score_test)\n",
        "print('score for TF->XGB:', TF_XGB_score_test)\n"
      ],
      "execution_count": null,
      "outputs": []
    },
    {
      "cell_type": "markdown",
      "metadata": {
        "id": "wS5SXSF9QQdb",
        "colab_type": "text"
      },
      "source": [
        "## Tune CV+LR  --- HyperParameter tuning via \"GridSearch\""
      ]
    },
    {
      "cell_type": "code",
      "metadata": {
        "id": "XrV6hbNEQQdb",
        "colab_type": "code",
        "colab": {}
      },
      "source": [
        "model =LogisticRegression(n_jobs=-1)    # gstmodel: grid search tuned model\n",
        "\n",
        "# Create the GridSearch estimator along with a parameter object containing the values to adjust\n",
        "param_grid = {'C': [.1, .2, .5, 1, 2, 3, 5, 10], \n",
        "              'solver': ['newton-cg', 'lbfgs', 'liblinear']} \n",
        "\n",
        "grid = GridSearchCV(model, param_grid, verbose=3, n_jobs=-1)\n",
        "\n",
        "grid.fit(Xcv_train_matrix, y_train_list)\n",
        "\n",
        "print(grid.best_params_)\n",
        "\n",
        "# score with the tuned model\n",
        "GST_CV_LR_score_test =grid.score(Xcv_test_matrix, y_test_list)\n",
        "print(GST_CV_LR_score_test)\n",
        "\n",
        "# # Calculate classification report for Tuned Model\n",
        "# predictions = grid.predict(Xcv_test_matrix)\n",
        "# from sklearn.metrics import classification_report\n",
        "# print(classification_report(y_test, predictions,\n",
        "#                             target_names=[\"blue\", \"red\"]))"
      ],
      "execution_count": null,
      "outputs": []
    },
    {
      "cell_type": "code",
      "metadata": {
        "id": "X9RVv0IWQQde",
        "colab_type": "code",
        "colab": {}
      },
      "source": [
        "print(classification_report(y_test_list, grid.predict(Xcv_test_matrix)) )"
      ],
      "execution_count": null,
      "outputs": []
    },
    {
      "cell_type": "markdown",
      "metadata": {
        "id": "JOLQlpLYQQdm",
        "colab_type": "text"
      },
      "source": [
        "## Tune TF+LR  --- HyperParameter tuning via \"GridSearch\""
      ]
    },
    {
      "cell_type": "code",
      "metadata": {
        "id": "pzQWVeIFQQdn",
        "colab_type": "code",
        "colab": {}
      },
      "source": [
        "model =LogisticRegression(n_jobs=-1)    \n",
        "param_grid = {'C': [.1, .2, .5, 1, 2, 3, 5, 10], \n",
        "              'solver': ['newton-cg', 'lbfgs', 'liblinear']} \n",
        "grid = GridSearchCV(model, param_grid, verbose=3, n_jobs=-1)\n",
        "grid.fit(Xtf_train_matrix, y_train_list)\n",
        "print(grid.best_params_)\n",
        "\n",
        "# score with the tuned model\n",
        "GST_TF_LR_score_test =grid.score(Xtf_test_matrix, y_test_list)\n",
        "print(GST_TF_LR_score_test)"
      ],
      "execution_count": null,
      "outputs": []
    },
    {
      "cell_type": "code",
      "metadata": {
        "id": "b2G6yINRQQdq",
        "colab_type": "code",
        "colab": {}
      },
      "source": [
        "print(classification_report(y_test_list, grid.predict(Xtf_test_matrix)) )"
      ],
      "execution_count": null,
      "outputs": []
    },
    {
      "cell_type": "markdown",
      "metadata": {
        "id": "2apyjmjuQQdu",
        "colab_type": "text"
      },
      "source": [
        "## Tune CV+RF  --- HyperParameter tuning via \"GridSearch\""
      ]
    },
    {
      "cell_type": "code",
      "metadata": {
        "id": "9sPH4s0sQQdu",
        "colab_type": "code",
        "colab": {}
      },
      "source": [
        "model =RandomForestClassifier(n_jobs=-1)    \n",
        "\n",
        "param_grid = {'n_estimators': [50, 100],     \n",
        "              'max_features': ['sqrt', 'log2']} \n",
        "grid = GridSearchCV(model, param_grid, verbose=3, n_jobs=-1)\n",
        "\n",
        "grid.fit(Xcv_train_matrix, y_train_list)\n",
        "\n",
        "print(grid.best_params_)\n",
        "\n",
        "# score with the tuned model\n",
        "GST_CV_RF_score_test =grid.score(Xcv_test_matrix, y_test_list)\n",
        "\n",
        "print(GST_CV_RF_score_test)"
      ],
      "execution_count": null,
      "outputs": []
    },
    {
      "cell_type": "code",
      "metadata": {
        "id": "LDEXN6VKQQdx",
        "colab_type": "code",
        "colab": {}
      },
      "source": [
        "print(classification_report(y_test_list, grid.predict(Xcv_test_matrix)) )"
      ],
      "execution_count": null,
      "outputs": []
    },
    {
      "cell_type": "markdown",
      "metadata": {
        "id": "KPscbEwjQQd0",
        "colab_type": "text"
      },
      "source": [
        "## Tune TF+RF  --- HyperParameter tuning via \"GridSearch\""
      ]
    },
    {
      "cell_type": "code",
      "metadata": {
        "id": "s2NFoJd2QQd0",
        "colab_type": "code",
        "colab": {}
      },
      "source": [
        "model =RandomForestClassifier(n_jobs=-1)    \n",
        "\n",
        "param_grid = {'n_estimators': [50, 100],     \n",
        "              'max_features': ['sqrt', 'log2']} \n",
        "grid = GridSearchCV(model, param_grid, verbose=3, n_jobs=-1)\n",
        "\n",
        "grid.fit(Xtf_train_matrix, y_train_list)\n",
        "\n",
        "print(grid.best_params_)\n",
        "\n",
        "# score with the tuned model\n",
        "GST_TF_RF_score_test =grid.score(Xtf_test_matrix, y_test_list)\n",
        "\n",
        "print(GST_TF_RF_score_test)"
      ],
      "execution_count": null,
      "outputs": []
    },
    {
      "cell_type": "code",
      "metadata": {
        "id": "iQMdwLROQQd6",
        "colab_type": "code",
        "colab": {},
        "outputId": "756e06e2-1f7c-406f-fc8b-79ccd458f2ba"
      },
      "source": [
        "print(classification_report(y_test_list, grid.predict(Xtf_test_matrix)) )"
      ],
      "execution_count": null,
      "outputs": [
        {
          "output_type": "error",
          "ename": "NameError",
          "evalue": "name 'classification_report' is not defined",
          "traceback": [
            "\u001b[1;31m---------------------------------------------------------------------------\u001b[0m",
            "\u001b[1;31mNameError\u001b[0m                                 Traceback (most recent call last)",
            "\u001b[1;32m<ipython-input-4-cd58db4bca69>\u001b[0m in \u001b[0;36m<module>\u001b[1;34m\u001b[0m\n\u001b[1;32m----> 1\u001b[1;33m \u001b[0mprint\u001b[0m\u001b[1;33m(\u001b[0m\u001b[0mclassification_report\u001b[0m\u001b[1;33m(\u001b[0m\u001b[0my_test_list\u001b[0m\u001b[1;33m,\u001b[0m \u001b[0mgrid\u001b[0m\u001b[1;33m.\u001b[0m\u001b[0mpredict\u001b[0m\u001b[1;33m(\u001b[0m\u001b[0mXtf_test_matrix\u001b[0m\u001b[1;33m)\u001b[0m\u001b[1;33m)\u001b[0m \u001b[1;33m)\u001b[0m\u001b[1;33m\u001b[0m\u001b[1;33m\u001b[0m\u001b[0m\n\u001b[0m",
            "\u001b[1;31mNameError\u001b[0m: name 'classification_report' is not defined"
          ]
        }
      ]
    },
    {
      "cell_type": "markdown",
      "metadata": {
        "id": "k3i77UezQQd-",
        "colab_type": "text"
      },
      "source": [
        "## Tune CV+XGB  --- HyperParameter tuning via \"GridSearch\""
      ]
    },
    {
      "cell_type": "code",
      "metadata": {
        "id": "YYUsOwDbQQd_",
        "colab_type": "code",
        "colab": {}
      },
      "source": [
        "model = xgb.XGBClassifier(objective=\"binary:logistic\", n_jobs=-1, random_state= 42)\n",
        "model"
      ],
      "execution_count": null,
      "outputs": []
    },
    {
      "cell_type": "code",
      "metadata": {
        "id": "s78Ag723QQeD",
        "colab_type": "code",
        "colab": {}
      },
      "source": [
        "param_grid = {'n_estimators': [100, 150],   \n",
        "              'learning_rate': ['.1', '.3']} \n",
        "\n",
        "grid = GridSearchCV(model, param_grid, verbose=3, n_jobs=-1)\n",
        "\n",
        "grid.fit(Xcv_train_matrix, y_train_list)\n",
        "\n",
        "print(grid.best_params_)\n",
        "\n",
        "# score with the tuned model\n",
        "GST_CV_XGB_score_test =grid.score(Xcv_test_matrix, y_test_list)\n",
        "\n",
        "print(GST_CV_XGB_score_test)"
      ],
      "execution_count": null,
      "outputs": []
    },
    {
      "cell_type": "code",
      "metadata": {
        "id": "UoXfBJKjQQeH",
        "colab_type": "code",
        "colab": {}
      },
      "source": [
        "print(classification_report(y_test_list, grid.predict(Xcv_test_matrix)) )"
      ],
      "execution_count": null,
      "outputs": []
    },
    {
      "cell_type": "markdown",
      "metadata": {
        "id": "o2PfyD-DQQeM",
        "colab_type": "text"
      },
      "source": [
        "## Tune TF+XGB  --- HyperParameter tuning via \"GridSearch\""
      ]
    },
    {
      "cell_type": "code",
      "metadata": {
        "id": "25AKzBQtQQeM",
        "colab_type": "code",
        "colab": {}
      },
      "source": [
        "model = xgb.XGBClassifier(objective=\"binary:logistic\", n_jobs=-1, random_state= 42)\n",
        "model"
      ],
      "execution_count": null,
      "outputs": []
    },
    {
      "cell_type": "code",
      "metadata": {
        "id": "GZy2buFpQQeP",
        "colab_type": "code",
        "colab": {}
      },
      "source": [
        "param_grid = {'n_estimators': [100, 150],   \n",
        "              'learning_rate': ['.1', '.3']} \n",
        "\n",
        "grid = GridSearchCV(model, param_grid, verbose=3, n_jobs=-1)\n",
        "\n",
        "grid.fit(Xtf_train_matrix, y_train_list)\n",
        "\n",
        "print(grid.best_params_)\n",
        "\n",
        "# score with the tuned model\n",
        "GST_TF_XGB_score_test =grid.score(Xtf_test_matrix, y_test_list)\n",
        "\n",
        "print(GST_TF_XGB_score_test)"
      ],
      "execution_count": null,
      "outputs": []
    },
    {
      "cell_type": "code",
      "metadata": {
        "id": "HH2UAmbXQQeT",
        "colab_type": "code",
        "colab": {}
      },
      "source": [
        "print(classification_report(y_test_list, grid.predict(Xtf_test_matrix)) )"
      ],
      "execution_count": null,
      "outputs": []
    },
    {
      "cell_type": "markdown",
      "metadata": {
        "id": "7CT7usnYQQea",
        "colab_type": "text"
      },
      "source": [
        "## Results"
      ]
    },
    {
      "cell_type": "code",
      "metadata": {
        "id": "UDAu2vwrQQea",
        "colab_type": "code",
        "colab": {}
      },
      "source": [
        "print(' ')\n",
        "print('*** Default Params')\n",
        "print('--------- CV features ------------------------')\n",
        "print('score for CV->LR:', CV_LR_score_test)\n",
        "print('score for CV->RF:', CV_RF_score_test)\n",
        "print('score for CV->XGB:', CV_XGB_score_test)\n",
        "\n",
        "print('--------- TFIDF features ---------------------')\n",
        "print('score for TF->LR:', TF_LR_score_test)\n",
        "print('score for TF->RF:', TF_RF_score_test)\n",
        "print('score for TF->XGB:', TF_XGB_score_test)"
      ],
      "execution_count": null,
      "outputs": []
    },
    {
      "cell_type": "code",
      "metadata": {
        "id": "CzN0Z_3jQQeg",
        "colab_type": "code",
        "colab": {}
      },
      "source": [
        "print(' ')\n",
        "print('*** Optimized Params via GridSearchCV')\n",
        "\n",
        "print('--------- CV features ------------------------')\n",
        "print('score for GST_CV->LR:', GST_CV_LR_score_test)\n",
        "print('score for GST_CV->RF:', GST_CV_RF_score_test)\n",
        "print('score for GST_CV->XGB:', GST_CV_XGB_score_test)\n",
        "\n",
        "print('--------- TFIDF features ---------------------')\n",
        "print('score for GST_TF->LR:', GST_TF_LR_score_test)\n",
        "print('score for GST_TF->RF:', GST_TF_RF_score_test)\n",
        "print('score for GST_TF->XGB:', GST_TF_XGB_score_test)"
      ],
      "execution_count": null,
      "outputs": []
    },
    {
      "cell_type": "markdown",
      "metadata": {
        "id": "8P6GVr_qQQej",
        "colab_type": "text"
      },
      "source": [
        "## HyperParameter tuning via \"RandomizedSearchCV\""
      ]
    },
    {
      "cell_type": "markdown",
      "metadata": {
        "id": "0GX_oALpQQek",
        "colab_type": "text"
      },
      "source": [
        "### CV+LR "
      ]
    },
    {
      "cell_type": "code",
      "metadata": {
        "id": "dklsfHKvQQek",
        "colab_type": "code",
        "colab": {}
      },
      "source": [
        "model =LogisticRegression(n_jobs=-1)\n",
        "# Create the GridSearch estimator along with a parameter object containing the values to adjust\n",
        "dist = dict(C=uniform(loc=0, scale=4), solver =['newton-cg', 'lbfgs', 'liblinear'])\n",
        "mdl = RandomizedSearchCV(model, dist, random_state= 1708, verbose=3, n_jobs =-1)\n",
        "\n",
        "srch =mdl.fit(Xcv_train_matrix, y_train_list)\n",
        "print(srch.best_params_)\n",
        "\n",
        "# score with the tuned model\n",
        "RST_CV_LR_score_test =srch.score(Xcv_test_matrix, y_test_list)\n",
        "print(RST_CV_LR_score_test)"
      ],
      "execution_count": null,
      "outputs": []
    },
    {
      "cell_type": "code",
      "metadata": {
        "id": "dz1MHCjYQQen",
        "colab_type": "code",
        "colab": {},
        "outputId": "0c23af00-f07c-4a37-f439-f460dbbd1b70"
      },
      "source": [
        "print(classification_report(y_test_list, srch.predict(Xcv_test_matrix)) )"
      ],
      "execution_count": null,
      "outputs": [
        {
          "output_type": "error",
          "ename": "NameError",
          "evalue": "name 'classification_report' is not defined",
          "traceback": [
            "\u001b[1;31m---------------------------------------------------------------------------\u001b[0m",
            "\u001b[1;31mNameError\u001b[0m                                 Traceback (most recent call last)",
            "\u001b[1;32m<ipython-input-5-164155849325>\u001b[0m in \u001b[0;36m<module>\u001b[1;34m\u001b[0m\n\u001b[1;32m----> 1\u001b[1;33m \u001b[0mprint\u001b[0m\u001b[1;33m(\u001b[0m\u001b[0mclassification_report\u001b[0m\u001b[1;33m(\u001b[0m\u001b[0my_test_list\u001b[0m\u001b[1;33m,\u001b[0m \u001b[0msrch\u001b[0m\u001b[1;33m.\u001b[0m\u001b[0mpredict\u001b[0m\u001b[1;33m(\u001b[0m\u001b[0mXcv_test_matrix\u001b[0m\u001b[1;33m)\u001b[0m\u001b[1;33m)\u001b[0m \u001b[1;33m)\u001b[0m\u001b[1;33m\u001b[0m\u001b[1;33m\u001b[0m\u001b[0m\n\u001b[0m",
            "\u001b[1;31mNameError\u001b[0m: name 'classification_report' is not defined"
          ]
        }
      ]
    },
    {
      "cell_type": "markdown",
      "metadata": {
        "id": "WO5O_sW3QQeq",
        "colab_type": "text"
      },
      "source": [
        "### TF+LR"
      ]
    },
    {
      "cell_type": "code",
      "metadata": {
        "id": "WPCH2AGnQQer",
        "colab_type": "code",
        "colab": {}
      },
      "source": [
        "model =LogisticRegression(n_jobs=-1)\n",
        "# Create the GridSearch estimator along with a parameter object containing the values to adjust\n",
        "dist = dict(C=uniform(loc=0, scale=4), solver =['newton-cg', 'lbfgs', 'liblinear'])\n",
        "mdl = RandomizedSearchCV(model, dist, random_state= 1708, verbose=3, n_jobs =-1)\n",
        "\n",
        "srch =mdl.fit(Xtf_train_matrix, y_train_list)\n",
        "print(srch.best_params_)\n",
        "\n",
        "# score with the tuned model\n",
        "RST_TF_LR_score_test =srch.score(Xtf_test_matrix, y_test_list)\n",
        "print(RST_TF_LR_score_test)"
      ],
      "execution_count": null,
      "outputs": []
    },
    {
      "cell_type": "code",
      "metadata": {
        "id": "zTWGEV9VQQet",
        "colab_type": "code",
        "colab": {}
      },
      "source": [
        "print(classification_report(y_test_list, srch.predict(Xtf_test_matrix)) )"
      ],
      "execution_count": null,
      "outputs": []
    },
    {
      "cell_type": "markdown",
      "metadata": {
        "id": "WvIv2nLPQQew",
        "colab_type": "text"
      },
      "source": [
        "### CV+RF"
      ]
    },
    {
      "cell_type": "code",
      "metadata": {
        "id": "WOOUpRhCQQex",
        "colab_type": "code",
        "colab": {}
      },
      "source": [
        "model =RandomForestClassifier()\n",
        "\n",
        "dist = dict(n_estimators = randint(1,200), max_features =['sqrt', 'log2'])\n",
        "\n",
        "mdl = RandomizedSearchCV(model, dist, random_state= 1708, verbose=3, n_jobs =-1)\n",
        "\n",
        "srch =mdl.fit(Xcv_train_matrix, y_train_list)\n",
        "print(srch.best_params_)\n",
        "\n",
        "# score with the tuned model\n",
        "RST_CV_RF_score_test =srch.score(Xcv_test_matrix, y_test_list)\n",
        "print(RST_CV_RF_score_test)"
      ],
      "execution_count": null,
      "outputs": []
    },
    {
      "cell_type": "code",
      "metadata": {
        "id": "vQ6DXcdCQQe0",
        "colab_type": "code",
        "colab": {}
      },
      "source": [
        "print(classification_report(y_test_list, srch.predict(Xcv_test_matrix)) )"
      ],
      "execution_count": null,
      "outputs": []
    },
    {
      "cell_type": "markdown",
      "metadata": {
        "id": "kh_5H_glQQe2",
        "colab_type": "text"
      },
      "source": [
        "### TF+RF"
      ]
    },
    {
      "cell_type": "code",
      "metadata": {
        "id": "9fWDoyYhQQe3",
        "colab_type": "code",
        "colab": {}
      },
      "source": [
        "model =RandomForestClassifier()\n",
        "\n",
        "dist = dict(n_estimators = randint(1,200), max_features =['sqrt', 'log2'])\n",
        "\n",
        "mdl = RandomizedSearchCV(model, dist, random_state= 1708, verbose=3, n_jobs =-1)\n",
        "\n",
        "srch =mdl.fit(Xtf_train_matrix, y_train_list)\n",
        "print(srch.best_params_)\n",
        "\n",
        "# score with the tuned model\n",
        "RST_TF_RF_score_test =srch.score(Xtf_test_matrix, y_test_list)\n",
        "print(RST_TF_RF_score_test)"
      ],
      "execution_count": null,
      "outputs": []
    },
    {
      "cell_type": "code",
      "metadata": {
        "id": "dGXi-U8_QQe6",
        "colab_type": "code",
        "colab": {}
      },
      "source": [
        "print(classification_report(y_test_list, srch.predict(Xtf_test_matrix)) )"
      ],
      "execution_count": null,
      "outputs": []
    },
    {
      "cell_type": "markdown",
      "metadata": {
        "id": "EI_0vam2QQe9",
        "colab_type": "text"
      },
      "source": [
        "### CV+XGB"
      ]
    },
    {
      "cell_type": "code",
      "metadata": {
        "id": "NtstHIp0QQe9",
        "colab_type": "code",
        "colab": {},
        "outputId": "79b28908-55ee-4b56-ca75-6510ba3c6378"
      },
      "source": [
        "model =xgb.XGBClassifier(objective=\"binary:logistic\", n_jobs=-1, random_state= 42)\n",
        "\n",
        "dist = dict(n_estimators = randint(1,300), learning_rate =uniform(loc=0.05, scale=.5))\n",
        "\n",
        "mdl = RandomizedSearchCV(model, dist, random_state= 1708, verbose=3, n_jobs =-1)\n",
        "\n",
        "srch =mdl.fit(Xcv_train_matrix, y_train_list)\n",
        "print(srch.best_params_)\n",
        "\n",
        "# score with the tuned model\n",
        "RST_CV_XGB_score_test =srch.score(Xcv_test_matrix, y_test_list)\n",
        "print(RST_CV_XGB_score_test)"
      ],
      "execution_count": null,
      "outputs": [
        {
          "output_type": "error",
          "ename": "NameError",
          "evalue": "name 'xgb' is not defined",
          "traceback": [
            "\u001b[1;31m---------------------------------------------------------------------------\u001b[0m",
            "\u001b[1;31mNameError\u001b[0m                                 Traceback (most recent call last)",
            "\u001b[1;32m<ipython-input-6-eb54d8cfb0cc>\u001b[0m in \u001b[0;36m<module>\u001b[1;34m\u001b[0m\n\u001b[1;32m----> 1\u001b[1;33m \u001b[0mmodel\u001b[0m \u001b[1;33m=\u001b[0m\u001b[0mxgb\u001b[0m\u001b[1;33m.\u001b[0m\u001b[0mXGBClassifier\u001b[0m\u001b[1;33m(\u001b[0m\u001b[0mobjective\u001b[0m\u001b[1;33m=\u001b[0m\u001b[1;34m\"binary:logistic\"\u001b[0m\u001b[1;33m,\u001b[0m \u001b[0mn_jobs\u001b[0m\u001b[1;33m=\u001b[0m\u001b[1;33m-\u001b[0m\u001b[1;36m1\u001b[0m\u001b[1;33m,\u001b[0m \u001b[0mrandom_state\u001b[0m\u001b[1;33m=\u001b[0m \u001b[1;36m42\u001b[0m\u001b[1;33m)\u001b[0m\u001b[1;33m\u001b[0m\u001b[1;33m\u001b[0m\u001b[0m\n\u001b[0m\u001b[0;32m      2\u001b[0m \u001b[1;33m\u001b[0m\u001b[0m\n\u001b[0;32m      3\u001b[0m \u001b[0mdist\u001b[0m \u001b[1;33m=\u001b[0m \u001b[0mdict\u001b[0m\u001b[1;33m(\u001b[0m\u001b[0mn_estimators\u001b[0m \u001b[1;33m=\u001b[0m \u001b[0mrandint\u001b[0m\u001b[1;33m(\u001b[0m\u001b[1;36m1\u001b[0m\u001b[1;33m,\u001b[0m\u001b[1;36m300\u001b[0m\u001b[1;33m)\u001b[0m\u001b[1;33m,\u001b[0m \u001b[0mlearning_rate\u001b[0m \u001b[1;33m=\u001b[0m\u001b[0muniform\u001b[0m\u001b[1;33m(\u001b[0m\u001b[0mloc\u001b[0m\u001b[1;33m=\u001b[0m\u001b[1;36m0.05\u001b[0m\u001b[1;33m,\u001b[0m \u001b[0mscale\u001b[0m\u001b[1;33m=\u001b[0m\u001b[1;36m.5\u001b[0m\u001b[1;33m)\u001b[0m\u001b[1;33m)\u001b[0m\u001b[1;33m\u001b[0m\u001b[1;33m\u001b[0m\u001b[0m\n\u001b[0;32m      4\u001b[0m \u001b[1;33m\u001b[0m\u001b[0m\n\u001b[0;32m      5\u001b[0m \u001b[0mmdl\u001b[0m \u001b[1;33m=\u001b[0m \u001b[0mRandomizedSearchCV\u001b[0m\u001b[1;33m(\u001b[0m\u001b[0mmodel\u001b[0m\u001b[1;33m,\u001b[0m \u001b[0mdist\u001b[0m\u001b[1;33m,\u001b[0m \u001b[0mrandom_state\u001b[0m\u001b[1;33m=\u001b[0m \u001b[1;36m1708\u001b[0m\u001b[1;33m,\u001b[0m \u001b[0mverbose\u001b[0m\u001b[1;33m=\u001b[0m\u001b[1;36m3\u001b[0m\u001b[1;33m,\u001b[0m \u001b[0mn_jobs\u001b[0m \u001b[1;33m=\u001b[0m\u001b[1;33m-\u001b[0m\u001b[1;36m1\u001b[0m\u001b[1;33m)\u001b[0m\u001b[1;33m\u001b[0m\u001b[1;33m\u001b[0m\u001b[0m\n",
            "\u001b[1;31mNameError\u001b[0m: name 'xgb' is not defined"
          ]
        }
      ]
    },
    {
      "cell_type": "code",
      "metadata": {
        "id": "gEtNJVMHQQfA",
        "colab_type": "code",
        "colab": {}
      },
      "source": [
        "print(classification_report(y_test_list, srch.predict(Xcv_test_matrix)) )"
      ],
      "execution_count": null,
      "outputs": []
    },
    {
      "cell_type": "markdown",
      "metadata": {
        "id": "PZ_2ogVEQQfD",
        "colab_type": "text"
      },
      "source": [
        "## TF+XGB "
      ]
    },
    {
      "cell_type": "code",
      "metadata": {
        "id": "faOW-eICQQfG",
        "colab_type": "code",
        "colab": {}
      },
      "source": [
        "model =xgb.XGBClassifier(objective=\"binary:logistic\", n_jobs=-1, random_state= 42)\n",
        "\n",
        "dist = dict(n_estimators = randint(1,300), learning_rate =uniform(loc=0.05, scale=.5))\n",
        "\n",
        "mdl = RandomizedSearchCV(model, dist, random_state= 1708, verbose=3, n_jobs =-1)\n",
        "\n",
        "srch =mdl.fit(Xtf_train_matrix, y_train_list)\n",
        "print(srch.best_params_)\n",
        "\n",
        "# score with the tuned model\n",
        "RST_TF_XGB_score_test =srch.score(Xtf_test_matrix, y_test_list)\n",
        "print(RST_TF_XGB_score_test)"
      ],
      "execution_count": null,
      "outputs": []
    },
    {
      "cell_type": "code",
      "metadata": {
        "id": "jNOX9u6UQQfK",
        "colab_type": "code",
        "colab": {}
      },
      "source": [
        "print(classification_report(y_test_list, srch.predict(Xtf_test_matrix)) )"
      ],
      "execution_count": null,
      "outputs": []
    },
    {
      "cell_type": "code",
      "metadata": {
        "id": "-nz8YbJ4QQfR",
        "colab_type": "code",
        "colab": {}
      },
      "source": [
        "y_pred =srch.predict(Xtf_test_matrix)\n",
        "confusion_matrix(y_test_list, y_pred)"
      ],
      "execution_count": null,
      "outputs": []
    },
    {
      "cell_type": "code",
      "metadata": {
        "id": "hdc5vVGAQQfW",
        "colab_type": "code",
        "colab": {}
      },
      "source": [
        "print(' ')\n",
        "print('*** Optimized Params via RandomizedSearchCV')\n",
        "\n",
        "print('--------- CV features ------------------------')\n",
        "print('score for RST_CV->LR:', RST_CV_LR_score_test)\n",
        "print('score for RST_CV->RF:', RST_CV_RF_score_test)\n",
        "print('score for RST_CV->XGB:', RST_CV_XGB_score_test)\n",
        "\n",
        "print('--------- TFIDF features ---------------------')\n",
        "print('score for RST_TF->LR:', RST_TF_LR_score_test)\n",
        "print('score for RST_TF->RF:', RST_TF_RF_score_test)\n",
        "print('score for RST_TF->XGB:', RST_TF_XGB_score_test)\n"
      ],
      "execution_count": null,
      "outputs": []
    },
    {
      "cell_type": "code",
      "metadata": {
        "id": "unfCtMmnQQfZ",
        "colab_type": "code",
        "colab": {}
      },
      "source": [
        ""
      ],
      "execution_count": null,
      "outputs": []
    },
    {
      "cell_type": "markdown",
      "metadata": {
        "colab_type": "text",
        "id": "P6sH50nxG7Vl"
      },
      "source": [
        "# Word2Vec model using Spacy"
      ]
    },
    {
      "cell_type": "code",
      "metadata": {
        "colab_type": "code",
        "id": "NyJFj_OfG45N",
        "colab": {}
      },
      "source": [
        "import spacy\n",
        "import gensim.downloader as api\n",
        "from gensim.test.utils import get_tmpfile\n",
        "from gensim.models import Word2Vec"
      ],
      "execution_count": null,
      "outputs": []
    },
    {
      "cell_type": "code",
      "metadata": {
        "colab_type": "code",
        "id": "xeQatlUEPMZF",
        "colab": {}
      },
      "source": [
        "# Download Spacy trained model \n",
        "# !python -m spacy download en_core_web_lg"
      ],
      "execution_count": null,
      "outputs": []
    },
    {
      "cell_type": "code",
      "metadata": {
        "colab_type": "code",
        "id": "Omx-AN4SPXot",
        "colab": {}
      },
      "source": [
        "# Load spacy trained model\n",
        "nlp = spacy.load(\"en_core_web_lg\")"
      ],
      "execution_count": null,
      "outputs": []
    },
    {
      "cell_type": "code",
      "metadata": {
        "colab_type": "code",
        "id": "6VeYiHkziRjU",
        "colab": {
          "base_uri": "https://localhost:8080/",
          "height": 72
        },
        "outputId": "be129d19-6ad6-48fd-dbce-e35a7852e388"
      },
      "source": [
        "# review train corpus\n",
        "train_corpus[:3]"
      ],
      "execution_count": null,
      "outputs": [
        {
          "output_type": "execute_result",
          "data": {
            "text/plain": [
              "['ashes 2015 australia\\x89ûªs collapse trent bridge worst history england bundled australia 60 http t t5trhjuau0',\n",
              " 'great michigan technique camp b1g thanks bmurph1019 hail youtsey termn8r13 goblue wrestleon http t oaskgki6qj',\n",
              " 'cnn tennessee movie theater shooting suspect killed police http t di8elzswnr']"
            ]
          },
          "metadata": {
            "tags": []
          },
          "execution_count": 44
        }
      ]
    },
    {
      "cell_type": "code",
      "metadata": {
        "colab_type": "code",
        "id": "6xRLX7tsiVry",
        "colab": {}
      },
      "source": [
        "# convert to list\n",
        "train_df['corpus'] = cleaned_tweets_lst"
      ],
      "execution_count": null,
      "outputs": []
    },
    {
      "cell_type": "code",
      "metadata": {
        "colab_type": "code",
        "id": "uEYtpP2O2Pjt",
        "colab": {
          "base_uri": "https://localhost:8080/",
          "height": 198
        },
        "outputId": "11148dd9-0fbd-42ee-bf51-aa07aa270b38"
      },
      "source": [
        "train_df.head()"
      ],
      "execution_count": null,
      "outputs": [
        {
          "output_type": "execute_result",
          "data": {
            "text/html": [
              "<div>\n",
              "<style scoped>\n",
              "    .dataframe tbody tr th:only-of-type {\n",
              "        vertical-align: middle;\n",
              "    }\n",
              "\n",
              "    .dataframe tbody tr th {\n",
              "        vertical-align: top;\n",
              "    }\n",
              "\n",
              "    .dataframe thead th {\n",
              "        text-align: right;\n",
              "    }\n",
              "</style>\n",
              "<table border=\"1\" class=\"dataframe\">\n",
              "  <thead>\n",
              "    <tr style=\"text-align: right;\">\n",
              "      <th></th>\n",
              "      <th>id</th>\n",
              "      <th>keyword</th>\n",
              "      <th>location</th>\n",
              "      <th>text</th>\n",
              "      <th>target</th>\n",
              "      <th>cleaned_tweets</th>\n",
              "      <th>corpus</th>\n",
              "    </tr>\n",
              "  </thead>\n",
              "  <tbody>\n",
              "    <tr>\n",
              "      <th>0</th>\n",
              "      <td>1</td>\n",
              "      <td>NaN</td>\n",
              "      <td>NaN</td>\n",
              "      <td>Our Deeds are the Reason of this #earthquake M...</td>\n",
              "      <td>1</td>\n",
              "      <td>[deeds, reason, earthquake, allah, forgive]</td>\n",
              "      <td>deeds reason earthquake allah forgive</td>\n",
              "    </tr>\n",
              "    <tr>\n",
              "      <th>1</th>\n",
              "      <td>4</td>\n",
              "      <td>NaN</td>\n",
              "      <td>NaN</td>\n",
              "      <td>Forest fire near La Ronge Sask. Canada</td>\n",
              "      <td>1</td>\n",
              "      <td>[forest, near, la, ronge, sask, canada]</td>\n",
              "      <td>forest near la ronge sask canada</td>\n",
              "    </tr>\n",
              "    <tr>\n",
              "      <th>2</th>\n",
              "      <td>5</td>\n",
              "      <td>NaN</td>\n",
              "      <td>NaN</td>\n",
              "      <td>All residents asked to 'shelter in place' are ...</td>\n",
              "      <td>1</td>\n",
              "      <td>[residents, asked, shelter, place, notified, o...</td>\n",
              "      <td>residents asked shelter place notified officer...</td>\n",
              "    </tr>\n",
              "    <tr>\n",
              "      <th>3</th>\n",
              "      <td>6</td>\n",
              "      <td>NaN</td>\n",
              "      <td>NaN</td>\n",
              "      <td>13,000 people receive #wildfires evacuation or...</td>\n",
              "      <td>1</td>\n",
              "      <td>[13, 000, people, receive, wildfires, evacuati...</td>\n",
              "      <td>13 000 people receive wildfires evacuation ord...</td>\n",
              "    </tr>\n",
              "    <tr>\n",
              "      <th>4</th>\n",
              "      <td>7</td>\n",
              "      <td>NaN</td>\n",
              "      <td>NaN</td>\n",
              "      <td>Just got sent this photo from Ruby #Alaska as ...</td>\n",
              "      <td>1</td>\n",
              "      <td>[got, sent, photo, ruby, alaska, smoke, wildfi...</td>\n",
              "      <td>got sent photo ruby alaska smoke wildfires pou...</td>\n",
              "    </tr>\n",
              "  </tbody>\n",
              "</table>\n",
              "</div>"
            ],
            "text/plain": [
              "   id  ...                                             corpus\n",
              "0   1  ...              deeds reason earthquake allah forgive\n",
              "1   4  ...                   forest near la ronge sask canada\n",
              "2   5  ...  residents asked shelter place notified officer...\n",
              "3   6  ...  13 000 people receive wildfires evacuation ord...\n",
              "4   7  ...  got sent photo ruby alaska smoke wildfires pou...\n",
              "\n",
              "[5 rows x 7 columns]"
            ]
          },
          "metadata": {
            "tags": []
          },
          "execution_count": 46
        }
      ]
    },
    {
      "cell_type": "code",
      "metadata": {
        "colab_type": "code",
        "id": "bPrhbfxm2XBw",
        "colab": {}
      },
      "source": [
        "# tokenize each tweet and append to train_tweet_tokens\n",
        "# This should create 2D array\n",
        "\n",
        "\n",
        "# train each tweet in dataframe with model\n",
        "# tweet_tokens = []\n",
        "# for tweet in train_df['corpus']:\n",
        "#   tweet_tokens.append(nlp(tweet))\n",
        "\n",
        "train_tweet_tokens = []\n",
        "for tweet in train_corpus:\n",
        "  train_tweet_tokens.append(nlp(tweet))"
      ],
      "execution_count": null,
      "outputs": []
    },
    {
      "cell_type": "code",
      "metadata": {
        "colab_type": "code",
        "id": "Je6JXlKu54H-",
        "colab": {}
      },
      "source": [
        "# Try to handle out of vocabulary words\n",
        "\n",
        "# oov_words = []\n",
        "\n",
        "# for token in train_tweet_tokens:\n",
        "#   if token.is_oov == True:\n",
        "#     oov_words.append(token.text)"
      ],
      "execution_count": null,
      "outputs": []
    },
    {
      "cell_type": "code",
      "metadata": {
        "colab_type": "code",
        "id": "ZHPyTvLw4v1n",
        "colab": {}
      },
      "source": [
        "# Vectorize each token in train_tweet_tokens and append to train_tweet_vectors\n",
        "\n",
        "# tweet_vectors = []\n",
        "# for token in tweet_tokens:\n",
        "#   tweet_vectors.append(token.vector)\n",
        "\n",
        "train_tweet_vectors = []\n",
        "for token in train_tweet_tokens:\n",
        "  train_tweet_vectors.append(token.vector)"
      ],
      "execution_count": null,
      "outputs": []
    },
    {
      "cell_type": "markdown",
      "metadata": {
        "colab_type": "text",
        "id": "tgY6SHTVFPKV"
      },
      "source": [
        "#Embedding: Word2Vec, Classifier: Logistic Regression"
      ]
    },
    {
      "cell_type": "code",
      "metadata": {
        "colab_type": "code",
        "id": "mbsrRgpyg0SG",
        "colab": {}
      },
      "source": [
        "# Load logistic regression and fit the model to the training data\n",
        "w2v_lr = LogisticRegression(n_jobs=-1).fit(train_tweet_vectors, y_train_split)"
      ],
      "execution_count": null,
      "outputs": []
    },
    {
      "cell_type": "code",
      "metadata": {
        "colab_type": "code",
        "id": "gV_HNSCpCEvY",
        "colab": {
          "base_uri": "https://localhost:8080/",
          "height": 35
        },
        "outputId": "8362c83c-0fd4-4ef9-e07f-3a6c293bbdd1"
      },
      "source": [
        "# Check the training accuracy\n",
        "w2v_lr.score(train_tweet_vectors, y_train_split)"
      ],
      "execution_count": null,
      "outputs": [
        {
          "output_type": "execute_result",
          "data": {
            "text/plain": [
              "0.8166635391255395"
            ]
          },
          "metadata": {
            "tags": []
          },
          "execution_count": 51
        }
      ]
    },
    {
      "cell_type": "code",
      "metadata": {
        "colab_type": "code",
        "id": "wT_tPLVYBG2E",
        "colab": {}
      },
      "source": [
        "# tokenize every tweet in test_corpus and append to test_tweet_tokens\n",
        "\n",
        "test_tweet_tokens = []\n",
        "for tweet in test_corpus:\n",
        "  test_tweet_tokens.append(nlp(tweet))"
      ],
      "execution_count": null,
      "outputs": []
    },
    {
      "cell_type": "code",
      "metadata": {
        "colab_type": "code",
        "id": "RbU74B-rBGls",
        "colab": {}
      },
      "source": [
        "test_tweet_tokens[:5]"
      ],
      "execution_count": null,
      "outputs": []
    },
    {
      "cell_type": "code",
      "metadata": {
        "colab_type": "code",
        "id": "jojvghyQBGd-",
        "colab": {}
      },
      "source": [
        "# Vectorize every tweet token and append to test_tweet_vectors\n",
        "test_tweet_vectors = []\n",
        "for token in test_tweet_tokens:\n",
        "  test_tweet_vectors.append(token.vector)"
      ],
      "execution_count": null,
      "outputs": []
    },
    {
      "cell_type": "code",
      "metadata": {
        "colab_type": "code",
        "id": "hRdxItGrBGWy",
        "colab": {}
      },
      "source": [
        "# run fitted model on test data\n",
        "w2v_lr_test_score = w2v_lr.score(test_tweet_vectors, y_test_split)"
      ],
      "execution_count": null,
      "outputs": []
    },
    {
      "cell_type": "code",
      "metadata": {
        "colab_type": "code",
        "id": "JmA4iczqC6eY",
        "colab": {
          "base_uri": "https://localhost:8080/",
          "height": 199
        },
        "outputId": "14258fbf-9631-4e5d-ae0a-d792c3fb4f67"
      },
      "source": [
        "# Check accuracy of model\n",
        "print('test score = ', w2v_lr_test_score)\n",
        "print(classification_report(y_test_split, w2v_lr.predict(test_tweet_vectors)))"
      ],
      "execution_count": null,
      "outputs": [
        {
          "output_type": "stream",
          "text": [
            "test score =  0.7933450087565674\n",
            "              precision    recall  f1-score   support\n",
            "\n",
            "           0       0.81      0.84      0.82      1318\n",
            "           1       0.77      0.73      0.75       966\n",
            "\n",
            "    accuracy                           0.79      2284\n",
            "   macro avg       0.79      0.78      0.79      2284\n",
            "weighted avg       0.79      0.79      0.79      2284\n",
            "\n"
          ],
          "name": "stdout"
        }
      ]
    },
    {
      "cell_type": "code",
      "metadata": {
        "colab_type": "code",
        "id": "VuXKR39sbaNq",
        "colab": {}
      },
      "source": [
        "# With hyper tuned parameters"
      ],
      "execution_count": null,
      "outputs": []
    },
    {
      "cell_type": "code",
      "metadata": {
        "colab_type": "code",
        "id": "6omVAFLvbd9I",
        "colab": {
          "base_uri": "https://localhost:8080/",
          "height": 199
        },
        "outputId": "248b9b8d-3053-4f77-ff6f-39836b2f2d16"
      },
      "source": [
        "# Load libraries and hypertune the parameters\n",
        "# RandomSearchCV is used to reduce time\n",
        "\n",
        "from sklearn.model_selection import RandomizedSearchCV\n",
        "from scipy.stats import uniform\n",
        "from scipy.stats import randint\n",
        "dist = dict(C=uniform(loc=0, scale=4),solver =['liblinear', 'newton-cg', 'lbfgs', 'sag', 'saga'], multi_class=['ovr'], l1_ratio=np.linspace(0, 1, num=50))\n",
        "rdm_mdl_w2v_lr = RandomizedSearchCV(w2v_lr, dist, iid= True, random_state = 61, verbose = 3, n_jobs=-1)\n",
        "\n",
        "rdm_mdl_w2v_lr_search = rdm_mdl_w2v_lr.fit(train_tweet_vectors, y_train_split)\n",
        "print(rdm_mdl_w2v_lr_search.best_params_)\n",
        "\n",
        "rdm_mdl_w2v_lr_test_score = rdm_mdl_w2v_lr_search.score(test_tweet_vectors, y_test_split)\n",
        "print(rdm_mdl_w2v_lr_test_score)"
      ],
      "execution_count": null,
      "outputs": [
        {
          "output_type": "stream",
          "text": [
            "Fitting 5 folds for each of 10 candidates, totalling 50 fits\n"
          ],
          "name": "stdout"
        },
        {
          "output_type": "stream",
          "text": [
            "[Parallel(n_jobs=-1)]: Using backend LokyBackend with 2 concurrent workers.\n",
            "[Parallel(n_jobs=-1)]: Done  28 tasks      | elapsed:   25.7s\n",
            "[Parallel(n_jobs=-1)]: Done  50 out of  50 | elapsed:   36.6s finished\n",
            "/usr/local/lib/python3.6/dist-packages/sklearn/model_selection/_search.py:823: FutureWarning: The parameter 'iid' is deprecated in 0.22 and will be removed in 0.24.\n",
            "  \"removed in 0.24.\", FutureWarning\n",
            "/usr/local/lib/python3.6/dist-packages/sklearn/linear_model/_logistic.py:1501: UserWarning: l1_ratio parameter is only used when penalty is 'elasticnet'. Got (penalty=l2)\n",
            "  \"(penalty={})\".format(self.penalty))\n"
          ],
          "name": "stderr"
        },
        {
          "output_type": "stream",
          "text": [
            "{'C': 1.1274755903429812, 'l1_ratio': 0.9183673469387754, 'multi_class': 'ovr', 'solver': 'newton-cg'}\n",
            "0.7933450087565674\n"
          ],
          "name": "stdout"
        }
      ]
    },
    {
      "cell_type": "code",
      "metadata": {
        "colab_type": "code",
        "id": "PTEdUJSgjPXv",
        "colab": {
          "base_uri": "https://localhost:8080/",
          "height": 181
        },
        "outputId": "779bfa4b-3048-4f8c-8b5f-bad9a36c2742"
      },
      "source": [
        "# Check accuracy of hypertuned parameters\n",
        "print(classification_report(y_test_split, rdm_mdl_w2v_lr_search.predict(test_tweet_vectors)))"
      ],
      "execution_count": null,
      "outputs": [
        {
          "output_type": "stream",
          "text": [
            "              precision    recall  f1-score   support\n",
            "\n",
            "           0       0.81      0.84      0.82      1318\n",
            "           1       0.77      0.73      0.75       966\n",
            "\n",
            "    accuracy                           0.79      2284\n",
            "   macro avg       0.79      0.78      0.79      2284\n",
            "weighted avg       0.79      0.79      0.79      2284\n",
            "\n"
          ],
          "name": "stdout"
        }
      ]
    },
    {
      "cell_type": "code",
      "metadata": {
        "colab_type": "code",
        "id": "lGpvmFOejc40",
        "colab": {}
      },
      "source": [
        "# identify confidence scores and create roc curve\n",
        "conf_scores = rdm_mdl_w2v_lr_search.decision_function(test_tweet_vectors)\n",
        "\n",
        "roc_curve_lr = roc_curve(y_test_split, conf_scores)"
      ],
      "execution_count": null,
      "outputs": []
    },
    {
      "cell_type": "code",
      "metadata": {
        "colab_type": "code",
        "id": "sgrgzED6HQdV",
        "colab": {}
      },
      "source": [
        "conf_scores"
      ],
      "execution_count": null,
      "outputs": []
    },
    {
      "cell_type": "code",
      "metadata": {
        "colab_type": "code",
        "id": "njV43Q2wHQEi",
        "colab": {}
      },
      "source": [
        "roc_curve"
      ],
      "execution_count": null,
      "outputs": []
    },
    {
      "cell_type": "markdown",
      "metadata": {
        "colab_type": "text",
        "id": "p-6fSRRKFcX0"
      },
      "source": [
        "#Embedding: Word2Vec, Classifier: Random Forest"
      ]
    },
    {
      "cell_type": "code",
      "metadata": {
        "colab_type": "code",
        "id": "utFY2Va1FmWo",
        "colab": {}
      },
      "source": [
        "# Import library\n",
        "from sklearn.ensemble import RandomForestClassifier"
      ],
      "execution_count": null,
      "outputs": []
    },
    {
      "cell_type": "code",
      "metadata": {
        "colab_type": "code",
        "id": "WdXwxLZbFmT9",
        "colab": {}
      },
      "source": [
        "# fit classifier to training data\n",
        "w2v_rf = RandomForestClassifier(n_jobs=-1).fit(train_tweet_vectors, y_train_split)"
      ],
      "execution_count": null,
      "outputs": []
    },
    {
      "cell_type": "code",
      "metadata": {
        "colab_type": "code",
        "id": "tyeTTkjjFmRR",
        "colab": {
          "base_uri": "https://localhost:8080/",
          "height": 35
        },
        "outputId": "2e50a143-3940-480b-f099-797632bb43ae"
      },
      "source": [
        "# Check accuracy of fitted model on trainind data\n",
        "w2v_rf_train_score = w2v_rf.score(train_tweet_vectors, y_train_split)\n",
        "w2v_rf_train_score"
      ],
      "execution_count": null,
      "outputs": [
        {
          "output_type": "execute_result",
          "data": {
            "text/plain": [
              "0.9885531994745731"
            ]
          },
          "metadata": {
            "tags": []
          },
          "execution_count": 65
        }
      ]
    },
    {
      "cell_type": "code",
      "metadata": {
        "colab_type": "code",
        "id": "Rsuh8SU2FmOj",
        "colab": {
          "base_uri": "https://localhost:8080/",
          "height": 35
        },
        "outputId": "4c9bbf61-5425-402e-9cdc-ee9c8bbf5fd0"
      },
      "source": [
        "# Run fitted model on test data\n",
        "w2v_rf_test_score  = w2v_rf.score(test_tweet_vectors, y_test_split)\n",
        "w2v_rf_test_score"
      ],
      "execution_count": null,
      "outputs": [
        {
          "output_type": "execute_result",
          "data": {
            "text/plain": [
              "0.8029772329246935"
            ]
          },
          "metadata": {
            "tags": []
          },
          "execution_count": 66
        }
      ]
    },
    {
      "cell_type": "code",
      "metadata": {
        "colab_type": "code",
        "id": "l0vQeNEHFl9u",
        "colab": {
          "base_uri": "https://localhost:8080/",
          "height": 199
        },
        "outputId": "6ddbe7c8-0495-4219-b8ba-caf8109ec63e"
      },
      "source": [
        "# Check accuracy and other statistical data\n",
        "print('test score = ', w2v_rf_test_score)\n",
        "print(classification_report(y_test_split, w2v_rf.predict(test_tweet_vectors)))"
      ],
      "execution_count": null,
      "outputs": [
        {
          "output_type": "stream",
          "text": [
            "test score =  0.8029772329246935\n",
            "              precision    recall  f1-score   support\n",
            "\n",
            "           0       0.79      0.90      0.84      1318\n",
            "           1       0.83      0.67      0.74       966\n",
            "\n",
            "    accuracy                           0.80      2284\n",
            "   macro avg       0.81      0.78      0.79      2284\n",
            "weighted avg       0.81      0.80      0.80      2284\n",
            "\n"
          ],
          "name": "stdout"
        }
      ]
    },
    {
      "cell_type": "code",
      "metadata": {
        "colab_type": "code",
        "id": "VOwlrIoq5N5M",
        "colab": {}
      },
      "source": [
        "# Tune with hyperparameters\n",
        "w2v_rf_dist = dict(n_estimators = randint(1,200), max_features =['sqrt', 'log2'])\n",
        "\n",
        "rdm_mdl_w2v_rf = RandomizedSearchCV(w2v_rf, w2v_rf_dist, random_state= 1708, verbose=3, n_jobs =-1)"
      ],
      "execution_count": null,
      "outputs": []
    },
    {
      "cell_type": "code",
      "metadata": {
        "colab_type": "code",
        "id": "1GR0ktUD5N3E",
        "colab": {
          "base_uri": "https://localhost:8080/",
          "height": 90
        },
        "outputId": "ab17a4e6-8dcc-4bd2-b682-4ad430fdbd47"
      },
      "source": [
        "# fit model with hypertuned parameters\n",
        "rdm_mdl_w2v_rf_srch = rdm_mdl_w2v_rf.fit(train_tweet_vectors, y_train_split)"
      ],
      "execution_count": null,
      "outputs": [
        {
          "output_type": "stream",
          "text": [
            "Fitting 5 folds for each of 10 candidates, totalling 50 fits\n"
          ],
          "name": "stdout"
        },
        {
          "output_type": "stream",
          "text": [
            "[Parallel(n_jobs=-1)]: Using backend LokyBackend with 2 concurrent workers.\n",
            "[Parallel(n_jobs=-1)]: Done  28 tasks      | elapsed:  1.3min\n",
            "[Parallel(n_jobs=-1)]: Done  50 out of  50 | elapsed:  2.7min finished\n"
          ],
          "name": "stderr"
        }
      ]
    },
    {
      "cell_type": "code",
      "metadata": {
        "colab_type": "code",
        "id": "Ct037m3iA-AS",
        "colab": {
          "base_uri": "https://localhost:8080/",
          "height": 35
        },
        "outputId": "89cba84e-812c-45f6-f14b-c74b5199a91f"
      },
      "source": [
        "# identify best tuning paramerters\n",
        "print(rdm_mdl_w2v_rf_srch.best_params_)"
      ],
      "execution_count": null,
      "outputs": [
        {
          "output_type": "stream",
          "text": [
            "{'max_features': 'log2', 'n_estimators': 199}\n"
          ],
          "name": "stdout"
        }
      ]
    },
    {
      "cell_type": "code",
      "metadata": {
        "colab_type": "code",
        "id": "rdv47-Km5Ny_",
        "colab": {
          "base_uri": "https://localhost:8080/",
          "height": 35
        },
        "outputId": "90a5bf2e-dff4-4e0c-f678-13c42986328c"
      },
      "source": [
        "# score with the tuned model\n",
        "rdm_mdl_w2v_rf_test_score =rdm_mdl_w2v_rf_srch.score(test_tweet_vectors, y_test_split)\n",
        "print(rdm_mdl_w2v_rf_test_score)"
      ],
      "execution_count": null,
      "outputs": [
        {
          "output_type": "stream",
          "text": [
            "0.8152364273204904\n"
          ],
          "name": "stdout"
        }
      ]
    },
    {
      "cell_type": "code",
      "metadata": {
        "colab_type": "code",
        "id": "2G3Kxtij5Nn3",
        "colab": {
          "base_uri": "https://localhost:8080/",
          "height": 181
        },
        "outputId": "4d924f64-61e5-4bfa-bab6-796ac47e2165"
      },
      "source": [
        "# obtain all relevant statistical data\n",
        "print(classification_report(y_test_split, rdm_mdl_w2v_rf_srch.predict(test_tweet_vectors)))"
      ],
      "execution_count": null,
      "outputs": [
        {
          "output_type": "stream",
          "text": [
            "              precision    recall  f1-score   support\n",
            "\n",
            "           0       0.80      0.92      0.85      1318\n",
            "           1       0.86      0.68      0.76       966\n",
            "\n",
            "    accuracy                           0.82      2284\n",
            "   macro avg       0.83      0.80      0.80      2284\n",
            "weighted avg       0.82      0.82      0.81      2284\n",
            "\n"
          ],
          "name": "stdout"
        }
      ]
    },
    {
      "cell_type": "code",
      "metadata": {
        "colab_type": "code",
        "id": "5AP-qMQ4IvoO",
        "colab": {}
      },
      "source": [
        "# Obtain confidence scores and create roc_curve\n",
        "conf_scores_w2v_rf = rdm_mdl_w2v_rf_srch.predict_proba(test_tweet_vectors)\n",
        "\n",
        "roc_curve_w2v_rf = roc_curve(y_test_split, conf_scores_w2v_rf)"
      ],
      "execution_count": null,
      "outputs": []
    },
    {
      "cell_type": "markdown",
      "metadata": {
        "colab_type": "text",
        "id": "i-OO_2D1HqCE"
      },
      "source": [
        "#Embedding: Word2Vec, Classifier: XGBoost"
      ]
    },
    {
      "cell_type": "code",
      "metadata": {
        "colab_type": "code",
        "id": "Gezol-quH8zq",
        "colab": {}
      },
      "source": [
        "# import library\n",
        "import xgboost as xgb"
      ],
      "execution_count": null,
      "outputs": []
    },
    {
      "cell_type": "code",
      "metadata": {
        "colab_type": "code",
        "id": "07XZ1_IEH8wq",
        "colab": {}
      },
      "source": [
        "# load xboost classifier\n",
        "w2v_xgb = xgb.XGBClassifier(objective=\"binary:logistic\", n_jobs=-1, random_state= 42)"
      ],
      "execution_count": null,
      "outputs": []
    },
    {
      "cell_type": "code",
      "metadata": {
        "colab_type": "code",
        "id": "aaktooevH8tp",
        "colab": {}
      },
      "source": [
        "# list of list is not compatible with XGBoost\n",
        "# must be converted to numpy array\n",
        "train_tweet_vectors = np.asarray(train_tweet_vectors)\n",
        "w2v_xgb = w2v_xgb.fit(train_tweet_vectors, y_train_split)"
      ],
      "execution_count": null,
      "outputs": []
    },
    {
      "cell_type": "code",
      "metadata": {
        "colab_type": "code",
        "id": "ES4j2-XYDHst",
        "colab": {
          "base_uri": "https://localhost:8080/",
          "height": 35
        },
        "outputId": "27fb1c3a-6238-4da0-ab99-88e1066bdf94"
      },
      "source": [
        "# confirming the shape of the 2D array to make sure nothing has change after transformation\n",
        "train_tweet_vectors.shape"
      ],
      "execution_count": null,
      "outputs": [
        {
          "output_type": "execute_result",
          "data": {
            "text/plain": [
              "(5329, 300)"
            ]
          },
          "metadata": {
            "tags": []
          },
          "execution_count": 77
        }
      ]
    },
    {
      "cell_type": "code",
      "metadata": {
        "colab_type": "code",
        "id": "odLWZJXNH8ov",
        "colab": {
          "base_uri": "https://localhost:8080/",
          "height": 35
        },
        "outputId": "f64fc3ad-e69f-49b9-a21c-81fd99dea75a"
      },
      "source": [
        "# fit model and find accuracy\n",
        "w2v_xgb_train_score = w2v_xgb.score(train_tweet_vectors, y_train_split)\n",
        "w2v_xgb_train_score"
      ],
      "execution_count": null,
      "outputs": [
        {
          "output_type": "execute_result",
          "data": {
            "text/plain": [
              "0.8722086695440046"
            ]
          },
          "metadata": {
            "tags": []
          },
          "execution_count": 78
        }
      ]
    },
    {
      "cell_type": "code",
      "metadata": {
        "colab_type": "code",
        "id": "pt0RN--gH8l9",
        "colab": {
          "base_uri": "https://localhost:8080/",
          "height": 35
        },
        "outputId": "102b1fe0-3763-4dbf-d618-35be0b0dbd57"
      },
      "source": [
        "# run fitted model and test data\n",
        "w2v_xgb_test_score = w2v_xgb.score(test_tweet_vectors, y_test_split)\n",
        "w2v_xgb_test_score"
      ],
      "execution_count": null,
      "outputs": [
        {
          "output_type": "execute_result",
          "data": {
            "text/plain": [
              "0.8169877408056042"
            ]
          },
          "metadata": {
            "tags": []
          },
          "execution_count": 79
        }
      ]
    },
    {
      "cell_type": "code",
      "metadata": {
        "colab_type": "code",
        "id": "mL5m0utfKGGb",
        "colab": {
          "base_uri": "https://localhost:8080/",
          "height": 217
        },
        "outputId": "a5ccfc13-7459-4b47-a954-3b49bceab1ba"
      },
      "source": [
        "# check statistically relevant data\n",
        "print('train score = ', w2v_xgb_train_score)\n",
        "print('test score = ', w2v_xgb_test_score)\n",
        "print(classification_report(y_test_split, w2v_xgb.predict(test_tweet_vectors)))"
      ],
      "execution_count": null,
      "outputs": [
        {
          "output_type": "stream",
          "text": [
            "train score =  0.8722086695440046\n",
            "test score =  0.8169877408056042\n",
            "              precision    recall  f1-score   support\n",
            "\n",
            "           0       0.82      0.87      0.85      1318\n",
            "           1       0.81      0.74      0.77       966\n",
            "\n",
            "    accuracy                           0.82      2284\n",
            "   macro avg       0.82      0.81      0.81      2284\n",
            "weighted avg       0.82      0.82      0.82      2284\n",
            "\n"
          ],
          "name": "stdout"
        }
      ]
    },
    {
      "cell_type": "code",
      "metadata": {
        "colab_type": "code",
        "id": "fYQTv2BpC1sZ",
        "colab": {
          "base_uri": "https://localhost:8080/",
          "height": 146
        },
        "outputId": "3b892e48-25f4-412e-d67e-c7b981047564"
      },
      "source": [
        "# Hypertune parameters\n",
        "rdm_mdl_w2v_xgb_dist = dict(n_estimators = randint(1,300), learning_rate = uniform(loc=0.05, scale=.5))\n",
        "rdm_mdl_w2v_xgb = RandomizedSearchCV(w2v_xgb, rdm_mdl_w2v_xgb_dist, random_state=1708, verbose=3, n_jobs =-1)\n",
        "\n",
        "rdm_mdl_w2v_xgb_srch = rdm_mdl_w2v_xgb.fit(train_tweet_vectors, y_train_split)"
      ],
      "execution_count": null,
      "outputs": [
        {
          "output_type": "stream",
          "text": [
            "Fitting 5 folds for each of 10 candidates, totalling 50 fits\n"
          ],
          "name": "stdout"
        },
        {
          "output_type": "stream",
          "text": [
            "[Parallel(n_jobs=-1)]: Using backend LokyBackend with 2 concurrent workers.\n",
            "/usr/local/lib/python3.6/dist-packages/joblib/externals/loky/process_executor.py:706: UserWarning: A worker stopped while some jobs were given to the executor. This can be caused by a too short worker timeout or by a memory leak.\n",
            "  \"timeout or by a memory leak.\", UserWarning\n",
            "[Parallel(n_jobs=-1)]: Done  28 tasks      | elapsed:  4.1min\n",
            "[Parallel(n_jobs=-1)]: Done  50 out of  50 | elapsed:  8.4min finished\n"
          ],
          "name": "stderr"
        }
      ]
    },
    {
      "cell_type": "code",
      "metadata": {
        "colab_type": "code",
        "id": "RwiqEdU-C1qm",
        "colab": {
          "base_uri": "https://localhost:8080/",
          "height": 35
        },
        "outputId": "ab47a908-53f4-46bd-f35e-ea74973479b3"
      },
      "source": [
        "# Identify best parameters\n",
        "print(rdm_mdl_w2v_xgb_srch.best_params_)"
      ],
      "execution_count": null,
      "outputs": [
        {
          "output_type": "stream",
          "text": [
            "{'learning_rate': 0.12712354107224427, 'n_estimators': 292}\n"
          ],
          "name": "stdout"
        }
      ]
    },
    {
      "cell_type": "code",
      "metadata": {
        "colab_type": "code",
        "id": "B-HHNxVeC1jZ",
        "colab": {
          "base_uri": "https://localhost:8080/",
          "height": 35
        },
        "outputId": "d8cd77eb-7395-4f5e-a40d-597039dbc346"
      },
      "source": [
        "# score with the tuned model\n",
        "rdm_mdl_w2v_xgb_test_score =rdm_mdl_w2v_xgb.score(test_tweet_vectors, y_test_split)\n",
        "print(rdm_mdl_w2v_xgb_test_score)"
      ],
      "execution_count": null,
      "outputs": [
        {
          "output_type": "stream",
          "text": [
            "0.8248686514886164\n"
          ],
          "name": "stdout"
        }
      ]
    },
    {
      "cell_type": "code",
      "metadata": {
        "colab_type": "code",
        "id": "PSD_rJoukdjK",
        "colab": {
          "base_uri": "https://localhost:8080/",
          "height": 181
        },
        "outputId": "bb034f66-0c6b-41d7-bb68-5ce029ffa3a7"
      },
      "source": [
        "# check statistically relevant data\n",
        "print(classification_report(y_test_split, rdm_mdl_w2v_xgb_srch.predict(test_tweet_vectors)))"
      ],
      "execution_count": null,
      "outputs": [
        {
          "output_type": "stream",
          "text": [
            "              precision    recall  f1-score   support\n",
            "\n",
            "           0       0.83      0.88      0.85      1318\n",
            "           1       0.82      0.75      0.78       966\n",
            "\n",
            "    accuracy                           0.82      2284\n",
            "   macro avg       0.82      0.81      0.82      2284\n",
            "weighted avg       0.82      0.82      0.82      2284\n",
            "\n"
          ],
          "name": "stdout"
        }
      ]
    },
    {
      "cell_type": "code",
      "metadata": {
        "colab_type": "code",
        "id": "8ZAftFo6GxI-",
        "colab": {}
      },
      "source": [
        "# conf_scores_w2v_rf = rdm_mdl_w2v_lr_search.decision_function(test_tweet_vectors)\n",
        "\n",
        "# roc_curve_w2v_rf = roc_curve(y_test_split, conf_scores_w2v_rf)"
      ],
      "execution_count": null,
      "outputs": []
    },
    {
      "cell_type": "markdown",
      "metadata": {
        "colab_type": "text",
        "id": "WM1UPgZuGxre"
      },
      "source": [
        "#W2V ROC Curve"
      ]
    },
    {
      "cell_type": "code",
      "metadata": {
        "colab_type": "code",
        "id": "bTIwrw2aGt7m",
        "colab": {
          "base_uri": "https://localhost:8080/",
          "height": 670
        },
        "outputId": "dc510882-6ef4-4905-87df-30024851fe15"
      },
      "source": [
        "fig_1 = plt.figure(figsize=(10,10))\n",
        "plt.plot(roc_curve_lr[0], roc_curve_lr[1])\n",
        "plt.plot([0,1], [0,1])\n",
        "# plt.plot(roc_curve_rf[0], roc_curve_lr[1])\n",
        "# plt.plot(roc_curve_xgb[0], roc_curve_xgb[1])\n",
        "plt.title(\"Word2Vec Logistic Regression ROC Curve\", fontsize=18)\n",
        "plt.xlabel('false positive rate', fontsize=16)\n",
        "plt.ylabel('true positive rate', fontsize=16)\n",
        "plt.xticks(fontsize=14)\n",
        "plt.yticks(fontsize=14)"
      ],
      "execution_count": null,
      "outputs": [
        {
          "output_type": "execute_result",
          "data": {
            "text/plain": [
              "(array([-0.2,  0. ,  0.2,  0.4,  0.6,  0.8,  1. ,  1.2]),\n",
              " <a list of 8 Text major ticklabel objects>)"
            ]
          },
          "metadata": {
            "tags": []
          },
          "execution_count": 201
        },
        {
          "output_type": "display_data",
          "data": {
            "image/png": "[encoded data removed]",
            "text/plain": [
              "<Figure size 720x720 with 1 Axes>"
            ]
          },
          "metadata": {
            "tags": []
          }
        }
      ]
    },
    {
      "cell_type": "markdown",
      "metadata": {
        "colab_type": "text",
        "id": "iZukFU6GWRTt"
      },
      "source": [
        "# GloVe model Using Spacy"
      ]
    },
    {
      "cell_type": "code",
      "metadata": {
        "colab_type": "code",
        "id": "Cg0iqWcWDBXL",
        "colab": {}
      },
      "source": [
        "# download large GloVe model\n",
        "# !python -m spacy download en_vectors_web_lg"
      ],
      "execution_count": null,
      "outputs": []
    },
    {
      "cell_type": "code",
      "metadata": {
        "colab_type": "code",
        "id": "07geQ7l7Dy4Z",
        "colab": {}
      },
      "source": [
        "# Load GloVe model\n",
        "GloVe_nlp = spacy.load('en_vectors_web_lg')"
      ],
      "execution_count": null,
      "outputs": []
    },
    {
      "cell_type": "code",
      "metadata": {
        "colab_type": "code",
        "id": "Iss4wWZHG3va",
        "colab": {}
      },
      "source": [
        "# tokenize training tweets with trained GloVe model\n",
        "glove_trained_tweet_tokens = []\n",
        "for tweet in train_corpus:\n",
        "  glove_trained_tweet_tokens.append(GloVe_nlp(tweet))"
      ],
      "execution_count": null,
      "outputs": []
    },
    {
      "cell_type": "code",
      "metadata": {
        "colab_type": "code",
        "id": "3mvoWNlALybo",
        "colab": {}
      },
      "source": [
        "# tokenize testing tweets with trained GloVe model\n",
        "glove_test_tweet_tokens = []\n",
        "for tweet in test_corpus:\n",
        "  glove_test_tweet_tokens.append(GloVe_nlp(tweet))"
      ],
      "execution_count": null,
      "outputs": []
    },
    {
      "cell_type": "code",
      "metadata": {
        "colab_type": "code",
        "id": "j9-kcbjQJ__7",
        "colab": {}
      },
      "source": [
        "# vectorize training tokens\n",
        "glove_trained_tweet_vectors = []\n",
        "for token in glove_trained_tweet_tokens:\n",
        "  glove_trained_tweet_vectors.append(token.vector)"
      ],
      "execution_count": null,
      "outputs": []
    },
    {
      "cell_type": "code",
      "metadata": {
        "colab_type": "code",
        "id": "_6XDQJn2MKWG",
        "colab": {}
      },
      "source": [
        "# vectorize test tokens\n",
        "glove_test_tweet_vectors = []\n",
        "for token in glove_test_tweet_tokens:\n",
        "  glove_test_tweet_vectors.append(token.vector)"
      ],
      "execution_count": null,
      "outputs": []
    },
    {
      "cell_type": "code",
      "metadata": {
        "colab_type": "code",
        "id": "OdfXmFZySVqP",
        "colab": {}
      },
      "source": [
        "glove_trained_tweet_vectors[:2]"
      ],
      "execution_count": null,
      "outputs": []
    },
    {
      "cell_type": "code",
      "metadata": {
        "colab_type": "code",
        "id": "9xMqFw5aM-IP",
        "colab": {}
      },
      "source": [
        "glove_test_tweet_vectors[:2]"
      ],
      "execution_count": null,
      "outputs": []
    },
    {
      "cell_type": "markdown",
      "metadata": {
        "colab_type": "text",
        "id": "mTP-fJZmK5Su"
      },
      "source": [
        "#Embedding: GLoVE, Classifier: Logistic Regression"
      ]
    },
    {
      "cell_type": "code",
      "metadata": {
        "colab_type": "code",
        "id": "8MLmON6NKhoW",
        "colab": {}
      },
      "source": [
        "# fit data to logistic regression\n",
        "glove_lr = LogisticRegression(n_jobs=-1).fit(glove_trained_tweet_vectors, y_train_split)"
      ],
      "execution_count": null,
      "outputs": []
    },
    {
      "cell_type": "code",
      "metadata": {
        "colab_type": "code",
        "id": "LaFv5MUSLND8",
        "colab": {}
      },
      "source": [
        "# find score of training data and test data\n",
        "glove_lr_train_score = glove_lr.score(glove_trained_tweet_vectors, y_train_split)\n",
        "glove_lr_test_score = glove_lr.score(glove_test_tweet_vectors, y_test_split)"
      ],
      "execution_count": null,
      "outputs": []
    },
    {
      "cell_type": "code",
      "metadata": {
        "colab_type": "code",
        "id": "yOkoS5j6LGDo",
        "colab": {
          "base_uri": "https://localhost:8080/",
          "height": 217
        },
        "outputId": "1f1f60ae-9abd-46d6-abc7-f8068141549c"
      },
      "source": [
        "# print staticically relevant data\n",
        "print('train score = ', glove_lr_train_score)\n",
        "print('test score = ', glove_lr_test_score)\n",
        "print(classification_report(y_test_split, glove_lr.predict(test_tweet_vectors)))"
      ],
      "execution_count": null,
      "outputs": [
        {
          "output_type": "stream",
          "text": [
            "train score =  0.8151623193844999\n",
            "test score =  0.7942206654991243\n",
            "              precision    recall  f1-score   support\n",
            "\n",
            "           0       0.81      0.84      0.82      1318\n",
            "           1       0.77      0.73      0.75       966\n",
            "\n",
            "    accuracy                           0.79      2284\n",
            "   macro avg       0.79      0.79      0.79      2284\n",
            "weighted avg       0.79      0.79      0.79      2284\n",
            "\n"
          ],
          "name": "stdout"
        }
      ]
    },
    {
      "cell_type": "code",
      "metadata": {
        "colab_type": "code",
        "id": "NyW9WYtgS_uV",
        "colab": {}
      },
      "source": [
        ""
      ],
      "execution_count": null,
      "outputs": []
    },
    {
      "cell_type": "code",
      "metadata": {
        "colab_type": "code",
        "id": "_xFq34kGQxze",
        "colab": {
          "base_uri": "https://localhost:8080/",
          "height": 126
        },
        "outputId": "0773a8fa-fb0b-48c9-fdc9-4531805b5868"
      },
      "source": [
        "# With hyper tuned parameters\n",
        "dist = dict(C=uniform(loc=0, scale=4),solver =['liblinear', 'newton-cg', 'lbfgs', 'sag', 'saga'], max_iter= np.linspace(100, 1000, num=10))\n",
        "rdm_mdl_glove_lr = RandomizedSearchCV(glove_lr, dist, random_state = 61, verbose = 3, n_jobs=-1)\n",
        "\n",
        "rdm_mdl_glove_lr_search = rdm_mdl_glove_lr.fit(train_tweet_vectors, y_train_split)\n",
        "print(rdm_mdl_glove_lr_search.best_params_)\n",
        "\n",
        "rdm_mdl_glove_lr_test_score = rdm_mdl_glove_lr_search.score(test_tweet_vectors, y_test_split)\n",
        "print(rdm_mdl_glove_lr_test_score)"
      ],
      "execution_count": null,
      "outputs": [
        {
          "output_type": "stream",
          "text": [
            "Fitting 5 folds for each of 10 candidates, totalling 50 fits\n"
          ],
          "name": "stdout"
        },
        {
          "output_type": "stream",
          "text": [
            "[Parallel(n_jobs=-1)]: Using backend LokyBackend with 2 concurrent workers.\n",
            "[Parallel(n_jobs=-1)]: Done  28 tasks      | elapsed:   23.0s\n",
            "[Parallel(n_jobs=-1)]: Done  50 out of  50 | elapsed:   28.7s finished\n"
          ],
          "name": "stderr"
        },
        {
          "output_type": "stream",
          "text": [
            "{'C': 0.1594926960689973, 'max_iter': 600.0, 'solver': 'lbfgs'}\n",
            "0.8007880910683012\n"
          ],
          "name": "stdout"
        }
      ]
    },
    {
      "cell_type": "code",
      "metadata": {
        "colab_type": "code",
        "id": "IAfCuq-9Qxwa",
        "colab": {
          "base_uri": "https://localhost:8080/",
          "height": 181
        },
        "outputId": "54aeb5c5-6403-4634-cbd1-b2914bc38713"
      },
      "source": [
        "# print staticically relevant data\n",
        "print(classification_report(y_test_split, rdm_mdl_glove_lr_search.predict(test_tweet_vectors)))"
      ],
      "execution_count": null,
      "outputs": [
        {
          "output_type": "stream",
          "text": [
            "              precision    recall  f1-score   support\n",
            "\n",
            "           0       0.81      0.85      0.83      1318\n",
            "           1       0.78      0.73      0.76       966\n",
            "\n",
            "    accuracy                           0.80      2284\n",
            "   macro avg       0.80      0.79      0.79      2284\n",
            "weighted avg       0.80      0.80      0.80      2284\n",
            "\n"
          ],
          "name": "stdout"
        }
      ]
    },
    {
      "cell_type": "code",
      "metadata": {
        "colab_type": "code",
        "id": "pei9Xrc7QA0f",
        "colab": {}
      },
      "source": [
        "# find confidence scores for roc curve\n",
        "glove_conf_scores = rdm_mdl_glove_lr_search.decision_function(test_tweet_vectors)"
      ],
      "execution_count": null,
      "outputs": []
    },
    {
      "cell_type": "code",
      "metadata": {
        "colab_type": "code",
        "id": "Dym3c-fGQAvQ",
        "colab": {}
      },
      "source": [
        "# Obtain roc curve\n",
        "glove_roc_curve_lr = roc_curve(y_test_split, glove_conf_scores)"
      ],
      "execution_count": null,
      "outputs": []
    },
    {
      "cell_type": "code",
      "metadata": {
        "colab_type": "code",
        "id": "vB0tvKflQxbz",
        "colab": {
          "base_uri": "https://localhost:8080/",
          "height": 691
        },
        "outputId": "d95793d5-6719-4230-dd75-459f26b2021d"
      },
      "source": [
        "fig_1 = plt.figure(figsize=(10,10))\n",
        "plt.plot(roc_curve_lr[0], roc_curve_lr[1], label= \"W2V Logistic Regression\")\n",
        "plt.plot(glove_roc_curve_lr[0], glove_roc_curve_lr[1], label= \"Glove Logistic Regression\")\n",
        "plt.plot([0,1], [0,1], label= \"Random Classifier\")\n",
        "plt.legend()\n",
        "# plt.plot(roc_curve_rf[0], roc_curve_lr[1])\n",
        "# plt.plot(roc_curve_xgb[0], roc_curve_xgb[1])\n",
        "plt.title(\"Comparison of Word Embeddings with \\n Logistic Regression ROC Curve\", fontsize=18)\n",
        "plt.xlabel('false positive rate', fontsize=16)\n",
        "plt.ylabel('true positive rate', fontsize=16)\n",
        "plt.xticks(fontsize=14)\n",
        "plt.yticks(fontsize=14)"
      ],
      "execution_count": null,
      "outputs": [
        {
          "output_type": "execute_result",
          "data": {
            "text/plain": [
              "(array([-0.2,  0. ,  0.2,  0.4,  0.6,  0.8,  1. ,  1.2]),\n",
              " <a list of 8 Text major ticklabel objects>)"
            ]
          },
          "metadata": {
            "tags": []
          },
          "execution_count": 232
        },
        {
          "output_type": "display_data",
          "data": {
            "image/png": "[encoded data removed]",
            "text/plain": [
              "<Figure size 720x720 with 1 Axes>"
            ]
          },
          "metadata": {
            "tags": []
          }
        }
      ]
    },
    {
      "cell_type": "markdown",
      "metadata": {
        "colab_type": "text",
        "id": "w5KJSVsiTS-Q"
      },
      "source": [
        "#Embedding: GloVe, Classifier: Random Forest"
      ]
    },
    {
      "cell_type": "code",
      "metadata": {
        "colab_type": "code",
        "id": "Z-GDdW3LTYe4",
        "colab": {}
      },
      "source": [
        "# fit classifier to trained model\n",
        "glove_rf = RandomForestClassifier(n_jobs=-1).fit(glove_trained_tweet_vectors, y_train_split)"
      ],
      "execution_count": null,
      "outputs": []
    },
    {
      "cell_type": "code",
      "metadata": {
        "colab_type": "code",
        "id": "5F5CTQQNTqJy",
        "colab": {}
      },
      "source": [
        "# Obtain score for train data and test data\n",
        "glove_rf_train_score = glove_rf.score(glove_trained_tweet_vectors, y_train_split)\n",
        "glove_rf_test_score = glove_rf.score(glove_test_tweet_vectors, y_test_split)"
      ],
      "execution_count": null,
      "outputs": []
    },
    {
      "cell_type": "code",
      "metadata": {
        "colab_type": "code",
        "id": "LtKgswPUT3LN",
        "colab": {
          "base_uri": "https://localhost:8080/",
          "height": 217
        },
        "outputId": "d36b776e-4483-4200-af79-cc3206099829"
      },
      "source": [
        "# find statistically relevant data\n",
        "print('train score = ', glove_rf_train_score)\n",
        "print('test score = ', glove_rf_test_score)\n",
        "print(classification_report(y_test_split, glove_rf.predict(test_tweet_vectors)))"
      ],
      "execution_count": null,
      "outputs": [
        {
          "output_type": "stream",
          "text": [
            "train score =  0.9885531994745731\n",
            "test score =  0.809106830122592\n",
            "              precision    recall  f1-score   support\n",
            "\n",
            "           0       0.79      0.90      0.85      1318\n",
            "           1       0.84      0.68      0.75       966\n",
            "\n",
            "    accuracy                           0.81      2284\n",
            "   macro avg       0.82      0.79      0.80      2284\n",
            "weighted avg       0.81      0.81      0.81      2284\n",
            "\n"
          ],
          "name": "stdout"
        }
      ]
    },
    {
      "cell_type": "code",
      "metadata": {
        "colab_type": "code",
        "id": "NgBqgSGiR-It",
        "colab": {
          "base_uri": "https://localhost:8080/",
          "height": 90
        },
        "outputId": "eb97a081-3fcc-4cb7-9e13-305ab0a3c7da"
      },
      "source": [
        "# Hyper tune parameters\n",
        "glove_rf_dist = dict(n_estimators = randint(1,200), max_features =['sqrt', 'log2'], max_depth=[np.linspace(20, 200, num=10), np.logspace(2, 3, base=2)], min_samples_split=[np.linspace(20, 200, num=10), np.logspace(2, 3, base=2)])\n",
        "\n",
        "rdm_mdl_glove_rf = RandomizedSearchCV(glove_rf, w2v_rf_dist, random_state= 1708, verbose=3, n_jobs =-1)\n",
        "\n",
        "rdm_mdl_glove_rf_srch = rdm_mdl_glove_rf.fit(train_tweet_vectors, y_train_split)"
      ],
      "execution_count": null,
      "outputs": [
        {
          "output_type": "stream",
          "text": [
            "Fitting 5 folds for each of 10 candidates, totalling 50 fits\n"
          ],
          "name": "stdout"
        },
        {
          "output_type": "stream",
          "text": [
            "[Parallel(n_jobs=-1)]: Using backend LokyBackend with 2 concurrent workers.\n",
            "[Parallel(n_jobs=-1)]: Done  28 tasks      | elapsed:  1.2min\n",
            "[Parallel(n_jobs=-1)]: Done  50 out of  50 | elapsed:  2.6min finished\n"
          ],
          "name": "stderr"
        }
      ]
    },
    {
      "cell_type": "code",
      "metadata": {
        "colab_type": "code",
        "id": "Ol0a2PIAR-Fb",
        "colab": {
          "base_uri": "https://localhost:8080/",
          "height": 35
        },
        "outputId": "08d8f14d-3d37-4f7e-e8e5-df6d844f1373"
      },
      "source": [
        "# find best tuning parameters\n",
        "print(rdm_mdl_glove_rf_srch.best_params_)"
      ],
      "execution_count": null,
      "outputs": [
        {
          "output_type": "stream",
          "text": [
            "{'max_features': 'log2', 'n_estimators': 199}\n"
          ],
          "name": "stdout"
        }
      ]
    },
    {
      "cell_type": "code",
      "metadata": {
        "colab_type": "code",
        "id": "sDhypT-eR9wu",
        "colab": {
          "base_uri": "https://localhost:8080/",
          "height": 35
        },
        "outputId": "c2469617-97ec-4e89-ad01-0cf7153f1f5c"
      },
      "source": [
        "# find accuracy of tuned model\n",
        "rdm_mdl_glove_rf_test_score =rdm_mdl_glove_rf_srch.score(test_tweet_vectors, y_test_split)\n",
        "print(rdm_mdl_glove_rf_test_score)"
      ],
      "execution_count": null,
      "outputs": [
        {
          "output_type": "stream",
          "text": [
            "0.8169877408056042\n"
          ],
          "name": "stdout"
        }
      ]
    },
    {
      "cell_type": "code",
      "metadata": {
        "colab_type": "code",
        "id": "YS27c_h5vTau",
        "colab": {
          "base_uri": "https://localhost:8080/",
          "height": 181
        },
        "outputId": "d1132c58-2131-40a4-a7e5-8ff3477ff94c"
      },
      "source": [
        "# find statistically relevant data\n",
        "print(classification_report(y_test_split, rdm_mdl_glove_rf_srch.predict(test_tweet_vectors)))"
      ],
      "execution_count": null,
      "outputs": [
        {
          "output_type": "stream",
          "text": [
            "              precision    recall  f1-score   support\n",
            "\n",
            "           0       0.79      0.92      0.85      1318\n",
            "           1       0.86      0.67      0.76       966\n",
            "\n",
            "    accuracy                           0.82      2284\n",
            "   macro avg       0.83      0.80      0.81      2284\n",
            "weighted avg       0.82      0.82      0.81      2284\n",
            "\n"
          ],
          "name": "stdout"
        }
      ]
    },
    {
      "cell_type": "markdown",
      "metadata": {
        "colab_type": "text",
        "id": "ZHpnz_5BUGFD"
      },
      "source": [
        "#Embedding: GloVe, Classifier: XGBoost"
      ]
    },
    {
      "cell_type": "code",
      "metadata": {
        "colab_type": "code",
        "id": "UUErxdpyUAU_",
        "colab": {}
      },
      "source": [
        "# load XGBoost classifier\n",
        "glove_xgb = xgb.XGBClassifier(objective=\"binary:logistic\", n_jobs=-1, random_state= 42)"
      ],
      "execution_count": null,
      "outputs": []
    },
    {
      "cell_type": "code",
      "metadata": {
        "colab_type": "code",
        "id": "BNc-pxD9UQ1v",
        "colab": {}
      },
      "source": [
        "# convert list of list to np array of fit the model\n",
        "glove_trained_tweet_vectors = np.asarray(glove_trained_tweet_vectors)\n",
        "glove_xgb = glove_xgb.fit(glove_trained_tweet_vectors, y_train_split)"
      ],
      "execution_count": null,
      "outputs": []
    },
    {
      "cell_type": "code",
      "metadata": {
        "colab_type": "code",
        "id": "1MWpwixGUzvV",
        "colab": {}
      },
      "source": [
        "# find statistically relevant data\n",
        "glove_xgb_train_score = glove_xgb.score(glove_trained_tweet_vectors, y_train_split)\n",
        "glove_xgb_test_score = glove_xgb.score(glove_test_tweet_vectors, y_test_split)"
      ],
      "execution_count": null,
      "outputs": []
    },
    {
      "cell_type": "code",
      "metadata": {
        "colab_type": "code",
        "id": "UnrOGkppVhGO",
        "colab": {
          "base_uri": "https://localhost:8080/",
          "height": 217
        },
        "outputId": "a3f6999b-09a1-41f2-dc1f-4009229b2f80"
      },
      "source": [
        "print('train score = ', glove_xgb_train_score)\n",
        "print('test score = ', glove_xgb_test_score)\n",
        "print(classification_report(y_test_split, glove_xgb.predict(test_tweet_vectors)))"
      ],
      "execution_count": null,
      "outputs": [
        {
          "output_type": "stream",
          "text": [
            "train score =  0.8693938825295553\n",
            "test score =  0.8213660245183888\n",
            "              precision    recall  f1-score   support\n",
            "\n",
            "           0       0.82      0.88      0.85      1318\n",
            "           1       0.82      0.74      0.78       966\n",
            "\n",
            "    accuracy                           0.82      2284\n",
            "   macro avg       0.82      0.81      0.81      2284\n",
            "weighted avg       0.82      0.82      0.82      2284\n",
            "\n"
          ],
          "name": "stdout"
        }
      ]
    },
    {
      "cell_type": "code",
      "metadata": {
        "colab_type": "code",
        "id": "BuTIee3WnREd",
        "colab": {
          "base_uri": "https://localhost:8080/",
          "height": 90
        },
        "outputId": "12981af1-0229-4212-cfcc-f51f6d604cb2"
      },
      "source": [
        "# Hypertune parameters\n",
        "rdm_mdl_glove_xgb_dist = dict(n_estimators = randint(1,300), learning_rate = uniform(loc=0.05, scale=.5))\n",
        "rdm_mdl_glove_xgb = RandomizedSearchCV(glove_xgb, rdm_mdl_glove_xgb_dist, random_state=1708, verbose=3, n_jobs =-1)\n",
        "\n",
        "rdm_mdl_glove_xgb_srch = rdm_mdl_glove_xgb.fit(train_tweet_vectors, y_train_split)"
      ],
      "execution_count": null,
      "outputs": [
        {
          "output_type": "stream",
          "text": [
            "Fitting 5 folds for each of 10 candidates, totalling 50 fits\n"
          ],
          "name": "stdout"
        },
        {
          "output_type": "stream",
          "text": [
            "[Parallel(n_jobs=-1)]: Using backend LokyBackend with 2 concurrent workers.\n",
            "[Parallel(n_jobs=-1)]: Done  28 tasks      | elapsed:  4.0min\n",
            "[Parallel(n_jobs=-1)]: Done  50 out of  50 | elapsed:  8.3min finished\n"
          ],
          "name": "stderr"
        }
      ]
    },
    {
      "cell_type": "code",
      "metadata": {
        "colab_type": "code",
        "id": "eP2HXj_4ntZK",
        "colab": {
          "base_uri": "https://localhost:8080/",
          "height": 35
        },
        "outputId": "e149a264-747a-4311-a99e-fe52fe8ffa1b"
      },
      "source": [
        "# Find best tuned parameters\n",
        "print(rdm_mdl_glove_xgb_srch.best_params_)"
      ],
      "execution_count": null,
      "outputs": [
        {
          "output_type": "stream",
          "text": [
            "{'learning_rate': 0.12712354107224427, 'n_estimators': 292}\n"
          ],
          "name": "stdout"
        }
      ]
    },
    {
      "cell_type": "code",
      "metadata": {
        "colab_type": "code",
        "id": "efNKMti3nw0D",
        "colab": {
          "base_uri": "https://localhost:8080/",
          "height": 35
        },
        "outputId": "95691dc1-9cb9-4920-9119-a55e8e2a378f"
      },
      "source": [
        "# score with the tuned model\n",
        "rdm_mdl_glove_xgb_test_score =rdm_mdl_glove_xgb.score(test_tweet_vectors, y_test_split)\n",
        "print(rdm_mdl_glove_xgb_test_score)"
      ],
      "execution_count": null,
      "outputs": [
        {
          "output_type": "stream",
          "text": [
            "0.8248686514886164\n"
          ],
          "name": "stdout"
        }
      ]
    },
    {
      "cell_type": "code",
      "metadata": {
        "colab_type": "code",
        "id": "ekCYCuqevel3",
        "colab": {
          "base_uri": "https://localhost:8080/",
          "height": 181
        },
        "outputId": "c96b389e-d293-447b-be70-d7182ab1081e"
      },
      "source": [
        "# Find statistically relevant data\n",
        "print(classification_report(y_test_split, rdm_mdl_glove_xgb_srch.predict(test_tweet_vectors)))"
      ],
      "execution_count": null,
      "outputs": [
        {
          "output_type": "stream",
          "text": [
            "              precision    recall  f1-score   support\n",
            "\n",
            "           0       0.83      0.88      0.85      1318\n",
            "           1       0.82      0.75      0.78       966\n",
            "\n",
            "    accuracy                           0.82      2284\n",
            "   macro avg       0.82      0.81      0.82      2284\n",
            "weighted avg       0.82      0.82      0.82      2284\n",
            "\n"
          ],
          "name": "stdout"
        }
      ]
    },
    {
      "cell_type": "markdown",
      "metadata": {
        "colab_type": "text",
        "id": "a9di36KzZU9t"
      },
      "source": [
        "#Handling Out Of Vocabulary Words"
      ]
    },
    {
      "cell_type": "code",
      "metadata": {
        "colab_type": "code",
        "id": "ImXjahawZV-s",
        "colab": {}
      },
      "source": [
        ""
      ],
      "execution_count": null,
      "outputs": []
    },
    {
      "cell_type": "code",
      "metadata": {
        "id": "sD00Y2lYQQjF",
        "colab_type": "code",
        "colab": {}
      },
      "source": [
        ""
      ],
      "execution_count": null,
      "outputs": []
    },
    {
      "cell_type": "code",
      "metadata": {
        "id": "dWmdDfnuQQjM",
        "colab_type": "code",
        "colab": {}
      },
      "source": [
        ""
      ],
      "execution_count": null,
      "outputs": []
    },
    {
      "cell_type": "code",
      "metadata": {
        "id": "cYoDjom8QQjO",
        "colab_type": "code",
        "colab": {}
      },
      "source": [
        ""
      ],
      "execution_count": null,
      "outputs": []
    },
    {
      "cell_type": "code",
      "metadata": {
        "id": "_UeCT8e1QQjU",
        "colab_type": "code",
        "colab": {}
      },
      "source": [
        "import pandas as pd\n",
        "import numpy as np\n",
        "\n",
        "from sklearn.model_selection import train_test_split\n",
        "from sklearn.preprocessing import StandardScaler\n",
        "from sklearn.feature_extraction.text import CountVectorizer\n",
        "from sklearn.feature_extraction.text import TfidfVectorizer\n",
        "\n",
        "from sklearn.linear_model import LogisticRegression\n",
        "from sklearn.ensemble import RandomForestClassifier\n",
        "from sklearn.metrics import classification_report\n",
        "from sklearn.metrics import confusion_matrix\n",
        "\n",
        "from sklearn.model_selection import GridSearchCV\n",
        "from sklearn.model_selection import RandomizedSearchCV\n",
        "\n",
        "from scipy.stats import uniform\n",
        "from scipy.stats import randint\n",
        "\n",
        "from gensim.parsing.preprocessing import preprocess_string\n",
        "from gensim.parsing.preprocessing import strip_punctuation,strip_multiple_whitespaces,remove_stopwords\n",
        "from gensim.corpora import Dictionary\n",
        "\n",
        "import xgboost as xgb"
      ],
      "execution_count": null,
      "outputs": []
    },
    {
      "cell_type": "code",
      "metadata": {
        "id": "5-IwLJwWQQjZ",
        "colab_type": "code",
        "colab": {}
      },
      "source": [
        "import pandas as pd\n",
        "import numpy as np\n",
        "\n",
        "from sklearn.model_selection import train_test_split\n",
        "from sklearn.metrics import classification_report, confusion_matrix\n",
        "from sklearn.preprocessing import StandardScaler"
      ],
      "execution_count": null,
      "outputs": []
    },
    {
      "cell_type": "code",
      "metadata": {
        "id": "-tccNmGbQQje",
        "colab_type": "code",
        "colab": {}
      },
      "source": [
        "import pickle\n",
        "\n",
        "# Getting back the objects:\n",
        "with open('w2v_features.pkl', 'rb') as f:  # Python 3: open(..., 'rb')\n",
        "    test_tweet_matrix, train_tweet_matrix, y_train_split, y_test_split = pickle.load(f)\n"
      ],
      "execution_count": null,
      "outputs": []
    },
    {
      "cell_type": "markdown",
      "metadata": {
        "id": "H5ppyxhlQQjg",
        "colab_type": "text"
      },
      "source": [
        "## DL Classifier from W2V Features"
      ]
    },
    {
      "cell_type": "code",
      "metadata": {
        "id": "V-aLIZcxQQjh",
        "colab_type": "code",
        "colab": {}
      },
      "source": [
        "from sklearn.model_selection import train_test_split\n",
        "from sklearn.preprocessing import LabelEncoder, MinMaxScaler\n",
        "from tensorflow.keras.utils import to_categorical"
      ],
      "execution_count": null,
      "outputs": []
    },
    {
      "cell_type": "code",
      "metadata": {
        "id": "0kYORZraQQjj",
        "colab_type": "code",
        "colab": {}
      },
      "source": [
        "X_train =train_tweet_matrix\n",
        "X_test =test_tweet_matrix\n",
        "y_train =y_train_split\n",
        "y_test =y_test_split\n",
        "\n",
        "print('Train X and y', X_train.shape, y_train.shape)\n",
        "print('Test X and y', X_test.shape, y_test.shape)"
      ],
      "execution_count": null,
      "outputs": []
    },
    {
      "cell_type": "code",
      "metadata": {
        "id": "ln1z3CZaQQjl",
        "colab_type": "code",
        "colab": {}
      },
      "source": [
        "#---------------- No scaling gives better results\n",
        "X_train_scaled =X_train\n",
        "X_test_scaled =X_test"
      ],
      "execution_count": null,
      "outputs": []
    },
    {
      "cell_type": "code",
      "metadata": {
        "id": "CeoNrMVwQQjp",
        "colab_type": "code",
        "colab": {}
      },
      "source": [
        "# Step 1: Label-encode data set\n",
        "label_encoder = LabelEncoder()\n",
        "label_encoder.fit(y_train)\n",
        "encoded_y_train = label_encoder.transform(y_train)\n",
        "encoded_y_test = label_encoder.transform(y_test)\n",
        "\n",
        "# Step 2: Convert encoded labels to one-hot-encoding\n",
        "y_train_categorical = to_categorical(encoded_y_train)\n",
        "y_test_categorical = to_categorical(encoded_y_test)"
      ],
      "execution_count": null,
      "outputs": []
    },
    {
      "cell_type": "code",
      "metadata": {
        "id": "9CwdBkt2QQjr",
        "colab_type": "code",
        "colab": {}
      },
      "source": [
        "y_train_categorical.shape"
      ],
      "execution_count": null,
      "outputs": []
    },
    {
      "cell_type": "markdown",
      "metadata": {
        "id": "ol-SqXrcQQjt",
        "colab_type": "text"
      },
      "source": [
        "### Create DL model"
      ]
    },
    {
      "cell_type": "code",
      "metadata": {
        "id": "SDwH0vNjQQjt",
        "colab_type": "code",
        "colab": {}
      },
      "source": [
        "from tensorflow.keras.models import Sequential\n",
        "from tensorflow.keras.layers import Dense"
      ],
      "execution_count": null,
      "outputs": []
    },
    {
      "cell_type": "code",
      "metadata": {
        "id": "Zao9CP0YQQju",
        "colab_type": "code",
        "colab": {}
      },
      "source": [
        "# Create model and add layers\n",
        "model = Sequential()\n",
        "model.add(Dense(units=100, activation='relu', input_dim=300))\n",
        "model.add(Dense(units=100, activation='relu'))\n",
        "model.add(Dense(units=2, activation='softmax'))"
      ],
      "execution_count": null,
      "outputs": []
    },
    {
      "cell_type": "code",
      "metadata": {
        "id": "YxcZp-WUQQjw",
        "colab_type": "code",
        "colab": {}
      },
      "source": [
        "# Compile and fit the model\n",
        "model.compile(optimizer='adam',\n",
        "              loss='categorical_crossentropy',\n",
        "              metrics=['accuracy'])"
      ],
      "execution_count": null,
      "outputs": []
    },
    {
      "cell_type": "code",
      "metadata": {
        "id": "G5Ky5glkQQjy",
        "colab_type": "code",
        "colab": {}
      },
      "source": [
        "model.summary()"
      ],
      "execution_count": null,
      "outputs": []
    },
    {
      "cell_type": "code",
      "metadata": {
        "id": "8XpPz7HHQQj0",
        "colab_type": "code",
        "colab": {}
      },
      "source": [
        "#fit(x=None, y=None, batch_size=None, epochs=1, verbose=1, callbacks=None, validation_split=0.0, validation_data=None, shuffle=True, class_weight=None, sample_weight=None, initial_epoch=0, steps_per_epoch=None, validation_steps=None, validation_freq=1, max_queue_size=10, workers=1, use_multiprocessing=False)\n",
        "model.fit(\n",
        "    X_train_scaled,\n",
        "    y_train_categorical,\n",
        "    epochs=10,  #60,\n",
        "    shuffle=True,\n",
        "    verbose=2,\n",
        "    validation_split=0.15\n",
        ")"
      ],
      "execution_count": null,
      "outputs": []
    },
    {
      "cell_type": "code",
      "metadata": {
        "id": "y7ViqGzVQQj2",
        "colab_type": "code",
        "colab": {}
      },
      "source": [
        "model_loss, model_accuracy = model.evaluate(\n",
        "    X_test_scaled, y_test_categorical, verbose=3)\n",
        "print(\n",
        "    f\"RESULTS - Loss: {model_loss}, Accuracy: {model_accuracy}\")"
      ],
      "execution_count": null,
      "outputs": []
    },
    {
      "cell_type": "code",
      "metadata": {
        "id": "0Wenhm8dQQj3",
        "colab_type": "code",
        "colab": {}
      },
      "source": [
        "encoded_predictions = model.predict_classes(X_test_scaled[:5])\n",
        "prediction_labels = label_encoder.inverse_transform(encoded_predictions)"
      ],
      "execution_count": null,
      "outputs": []
    },
    {
      "cell_type": "code",
      "metadata": {
        "id": "1YgoKItEQQj5",
        "colab_type": "code",
        "colab": {}
      },
      "source": [
        "print(f\"Predicted classes: {prediction_labels}\")\n",
        "print(f\"Actual Labels: {list(y_test[:5])}\")"
      ],
      "execution_count": null,
      "outputs": []
    },
    {
      "cell_type": "code",
      "metadata": {
        "id": "FFM5nxwLQQj6",
        "colab_type": "code",
        "colab": {}
      },
      "source": [
        "model.evaluate(X_test_scaled, y_test_categorical, verbose=1)"
      ],
      "execution_count": null,
      "outputs": []
    },
    {
      "cell_type": "code",
      "metadata": {
        "id": "VuH3GTBwQQj8",
        "colab_type": "code",
        "colab": {}
      },
      "source": [
        "## ---------- Pred Rate, Prec Rate, F1 score\n",
        "\n",
        "from sklearn.metrics import f1_score, precision_score, recall_score, accuracy_score, confusion_matrix\n",
        "\n",
        "y_pred1 = model.predict(X_test_scaled)\n",
        "y_pred = np.argmax(y_pred1, axis=1)\n",
        "\n",
        "# Print f1, precision, and recall scores\n",
        "y_test1 = y_test\n",
        "\n",
        "print('ACC: ', accuracy_score(y_test1, y_pred))\n",
        "\n",
        "print('RE: ', recall_score(y_test1, y_pred , average=\"macro\"))\n",
        "print('PR: ', precision_score(y_test1, y_pred , average=\"macro\"))\n",
        "print('F1: ', f1_score(y_test1, y_pred , average=\"macro\"))"
      ],
      "execution_count": null,
      "outputs": []
    },
    {
      "cell_type": "markdown",
      "metadata": {
        "id": "1NoGZNQ7QQkA",
        "colab_type": "text"
      },
      "source": [
        "## Hyperas ... for hyperparams optimization"
      ]
    },
    {
      "cell_type": "code",
      "metadata": {
        "id": "ZSJRx4J6QQkA",
        "colab_type": "code",
        "colab": {}
      },
      "source": [
        "def data():\n",
        "    with open('w2v_features.pkl', 'rb') as f:  \n",
        "        test_tweet_matrix, train_tweet_matrix, y_train_split, y_test_split = pickle.load(f)\n",
        "        \n",
        "    X_train =train_tweet_matrix\n",
        "    X_test =test_tweet_matrix\n",
        "        \n",
        "    # Step 1: Label-encode data set\n",
        "    label_encoder = LabelEncoder()\n",
        "    label_encoder.fit(y_train_split)\n",
        "    encoded_y_train = label_encoder.transform(y_train_split)\n",
        "    encoded_y_test = label_encoder.transform(y_test_split)\n",
        "\n",
        "    # Step 2: Convert encoded labels to one-hot-encoding\n",
        "    y_train_categorical = to_categorical(encoded_y_train)\n",
        "    y_test_categorical = to_categorical(encoded_y_test)\n",
        "\n",
        "    y_train =y_train_categorical\n",
        "    y_test =y_test_categorical \n",
        "    \n",
        "    X_scaler = StandardScaler().fit(X_train)\n",
        "    \n",
        "    X_train_scaled = X_scaler.transform(X_train)\n",
        "    X_test_scaled = X_scaler.transform(X_test)\n",
        "    y_train_scaled = y_train\n",
        "    y_test_scaled = y_test\n",
        "\n",
        "    x_train = X_train_scaled\n",
        "    x_test = X_test_scaled\n",
        "    y_train = y_train_scaled\n",
        "    y_test = y_test_scaled\n",
        "   \n",
        "    return x_train, y_train, x_test, y_test"
      ],
      "execution_count": null,
      "outputs": []
    },
    {
      "cell_type": "code",
      "metadata": {
        "id": "dHLA1uIZQQkC",
        "colab_type": "code",
        "colab": {}
      },
      "source": [
        "from hyperopt import Trials, STATUS_OK, tpe\n",
        "from keras.layers.core import Dense, Dropout, Activation\n",
        "from keras.models import Sequential\n",
        "from keras.utils import np_utils\n",
        "from hyperas import optim\n",
        "from hyperas.distributions import choice, uniform\n",
        "from keras import backend as K\n",
        "from keras.utils import print_summary\n",
        "          \n",
        "              \n",
        "def create_model(x_train, y_train, x_test, y_test):\n",
        "    print(x_train.shape)\n",
        "    print(y_train.shape)\n",
        "    print(x_test.shape)\n",
        "    print(y_test.shape)\n",
        "    \n",
        "    model= Sequential() \n",
        "    model.add(Dense( {{choice([50,100,500])}} , activation='relu', input_dim=300))\n",
        "    model.add(Dense( {{choice([50,100,500])}} , activation='relu'))\n",
        "    model.add(Dense(units=2, activation='softmax'))\n",
        "    \n",
        "    model.compile(optimizer='adam', loss='categorical_crossentropy', metrics=['accuracy'])   \n",
        "    print_summary(model, line_length=None, positions=None, print_fn=None)\n",
        "    result= model.fit(x_train, y_train,\n",
        "                      batch_size={{choice([64,128])}},\n",
        "                      epochs={{choice([10,50,100])}},\n",
        "                      verbose=2,\n",
        "                      validation_split =0.15)\n",
        "    \n",
        "    score = model.evaluate(x_test, y_test, verbose=0)\n",
        "    accuracy = score[1]\n",
        "  #  return {'loss': -accuracy, 'status': STATUS_OK, 'model': model}\n",
        "    return {'loss': accuracy, 'status': STATUS_OK, 'model': model}\n",
        "\n",
        "best_run, best_model= optim.minimize(model=create_model,\n",
        "                                     data=data,\n",
        "                                     algo=tpe.suggest,\n",
        "                                     max_evals=5,\n",
        "                                     trials=Trials(),\n",
        "                                     notebook_name='Disaster_Tweets_hyperasW2VDL')\n"
      ],
      "execution_count": null,
      "outputs": []
    },
    {
      "cell_type": "code",
      "metadata": {
        "id": "fCHknPo6QQkD",
        "colab_type": "code",
        "colab": {}
      },
      "source": [
        ""
      ],
      "execution_count": null,
      "outputs": []
    },
    {
      "cell_type": "code",
      "metadata": {
        "id": "sXacAL04QQkG",
        "colab_type": "code",
        "colab": {}
      },
      "source": [
        ""
      ],
      "execution_count": null,
      "outputs": []
    },
    {
      "cell_type": "code",
      "metadata": {
        "id": "RguPjtl9QQkI",
        "colab_type": "code",
        "colab": {}
      },
      "source": [
        ""
      ],
      "execution_count": null,
      "outputs": []
    },
    {
      "cell_type": "code",
      "metadata": {
        "id": "Nyg821n6QQkK",
        "colab_type": "code",
        "colab": {}
      },
      "source": [
        ""
      ],
      "execution_count": null,
      "outputs": []
    },
    {
      "cell_type": "code",
      "metadata": {
        "id": "tWWLSwtDQQkL",
        "colab_type": "code",
        "colab": {}
      },
      "source": [
        ""
      ],
      "execution_count": null,
      "outputs": []
    },
    {
      "cell_type": "code",
      "metadata": {
        "id": "Jjh2KDcgQQkP",
        "colab_type": "code",
        "colab": {}
      },
      "source": [
        ""
      ],
      "execution_count": null,
      "outputs": []
    },
    {
      "cell_type": "code",
      "metadata": {
        "id": "vdCTUlpcQQkR",
        "colab_type": "code",
        "colab": {}
      },
      "source": [
        ""
      ],
      "execution_count": null,
      "outputs": []
    },
    {
      "cell_type": "code",
      "metadata": {
        "id": "OsXZNPFjQQkT",
        "colab_type": "code",
        "colab": {}
      },
      "source": [
        ""
      ],
      "execution_count": null,
      "outputs": []
    },
    {
      "cell_type": "code",
      "metadata": {
        "id": "3FDM-CYkQQkW",
        "colab_type": "code",
        "colab": {}
      },
      "source": [
        ""
      ],
      "execution_count": null,
      "outputs": []
    },
    {
      "cell_type": "code",
      "metadata": {
        "id": "mdbNcHbRQQkb",
        "colab_type": "code",
        "colab": {}
      },
      "source": [
        ""
      ],
      "execution_count": null,
      "outputs": []
    },
    {
      "cell_type": "code",
      "metadata": {
        "id": "0qafX606QQkd",
        "colab_type": "code",
        "colab": {}
      },
      "source": [
        ""
      ],
      "execution_count": null,
      "outputs": []
    },
    {
      "cell_type": "code",
      "metadata": {
        "id": "mwuP0XmqQQki",
        "colab_type": "code",
        "colab": {}
      },
      "source": [
        ""
      ],
      "execution_count": null,
      "outputs": []
    },
    {
      "cell_type": "code",
      "metadata": {
        "id": "8NAv1763QQkj",
        "colab_type": "code",
        "colab": {}
      },
      "source": [
        ""
      ],
      "execution_count": null,
      "outputs": []
    },
    {
      "cell_type": "code",
      "metadata": {
        "id": "d3PIpW2tQQkk",
        "colab_type": "code",
        "colab": {}
      },
      "source": [
        ""
      ],
      "execution_count": null,
      "outputs": []
    },
    {
      "cell_type": "code",
      "metadata": {
        "id": "jCdjDIEJQQkm",
        "colab_type": "code",
        "colab": {}
      },
      "source": [
        ""
      ],
      "execution_count": null,
      "outputs": []
    },
    {
      "cell_type": "code",
      "metadata": {
        "id": "lVx9P055QQko",
        "colab_type": "code",
        "colab": {}
      },
      "source": [
        ""
      ],
      "execution_count": null,
      "outputs": []
    }
  ]
}