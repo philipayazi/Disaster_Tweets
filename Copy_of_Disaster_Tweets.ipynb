{
  "nbformat": 4,
  "nbformat_minor": 0,
  "metadata": {
    "kernelspec": {
      "display_name": "Python [conda env:DisasterTweets] *",
      "language": "python",
      "name": "conda-env-DisasterTweets-py"
    },
    "language_info": {
      "codemirror_mode": {
        "name": "ipython",
        "version": 3
      },
      "file_extension": ".py",
      "mimetype": "text/x-python",
      "name": "python",
      "nbconvert_exporter": "python",
      "pygments_lexer": "ipython3",
      "version": "3.7.6"
    },
    "colab": {
      "name": "Copy of Disaster_Tweets.ipynb",
      "provenance": [],
      "collapsed_sections": [
        "3UN3aAi1qt9g",
        "3Z5ds3V5qt-a"
      ]
    },
    "accelerator": "GPU"
  },
  "cells": [
    {
      "cell_type": "code",
      "metadata": {
        "id": "Y16PDSXLqt7F",
        "colab_type": "code",
        "colab": {}
      },
      "source": [
        "from gensim.parsing.preprocessing import preprocess_string\n",
        "from gensim.parsing.preprocessing import strip_punctuation,strip_multiple_whitespaces,remove_stopwords\n",
        "import pandas as pd\n",
        "from gensim.corpora import Dictionary\n",
        "import numpy as np\n",
        "import xgboost\n",
        "from sklearn.model_selection import train_test_split\n",
        "from sklearn.metrics import classification_report, confusion_matrix\n",
        "import matplotlib.pyplot as plt\n"
      ],
      "execution_count": 0,
      "outputs": []
    },
    {
      "cell_type": "code",
      "metadata": {
        "id": "2tia8-8jqt7R",
        "colab_type": "code",
        "colab": {}
      },
      "source": [
        "# read data into pandas data frame\n",
        "# train_df = pd.read_csv(\"nlp-getting-started/train.csv\")\n",
        "# df = pd.read_csv(\"nlp-getting-started/train.csv\")\n",
        "\n",
        "url = \"https://github.com/philipayazi/Disaster_Tweets/raw/master/nlp-getting-started/train.csv\"\n",
        "train_df = pd.read_csv(url)"
      ],
      "execution_count": 0,
      "outputs": []
    },
    {
      "cell_type": "code",
      "metadata": {
        "id": "d4J7_p5Vqt7Y",
        "colab_type": "code",
        "outputId": "834a8e48-0b58-4ac3-e9e8-31fbec25f8ab",
        "colab": {
          "base_uri": "https://localhost:8080/",
          "height": 198
        }
      },
      "source": [
        "train_df.head()"
      ],
      "execution_count": 218,
      "outputs": [
        {
          "output_type": "execute_result",
          "data": {
            "text/html": [
              "<div>\n",
              "<style scoped>\n",
              "    .dataframe tbody tr th:only-of-type {\n",
              "        vertical-align: middle;\n",
              "    }\n",
              "\n",
              "    .dataframe tbody tr th {\n",
              "        vertical-align: top;\n",
              "    }\n",
              "\n",
              "    .dataframe thead th {\n",
              "        text-align: right;\n",
              "    }\n",
              "</style>\n",
              "<table border=\"1\" class=\"dataframe\">\n",
              "  <thead>\n",
              "    <tr style=\"text-align: right;\">\n",
              "      <th></th>\n",
              "      <th>id</th>\n",
              "      <th>keyword</th>\n",
              "      <th>location</th>\n",
              "      <th>text</th>\n",
              "      <th>target</th>\n",
              "    </tr>\n",
              "  </thead>\n",
              "  <tbody>\n",
              "    <tr>\n",
              "      <th>0</th>\n",
              "      <td>1</td>\n",
              "      <td>NaN</td>\n",
              "      <td>NaN</td>\n",
              "      <td>Our Deeds are the Reason of this #earthquake M...</td>\n",
              "      <td>1</td>\n",
              "    </tr>\n",
              "    <tr>\n",
              "      <th>1</th>\n",
              "      <td>4</td>\n",
              "      <td>NaN</td>\n",
              "      <td>NaN</td>\n",
              "      <td>Forest fire near La Ronge Sask. Canada</td>\n",
              "      <td>1</td>\n",
              "    </tr>\n",
              "    <tr>\n",
              "      <th>2</th>\n",
              "      <td>5</td>\n",
              "      <td>NaN</td>\n",
              "      <td>NaN</td>\n",
              "      <td>All residents asked to 'shelter in place' are ...</td>\n",
              "      <td>1</td>\n",
              "    </tr>\n",
              "    <tr>\n",
              "      <th>3</th>\n",
              "      <td>6</td>\n",
              "      <td>NaN</td>\n",
              "      <td>NaN</td>\n",
              "      <td>13,000 people receive #wildfires evacuation or...</td>\n",
              "      <td>1</td>\n",
              "    </tr>\n",
              "    <tr>\n",
              "      <th>4</th>\n",
              "      <td>7</td>\n",
              "      <td>NaN</td>\n",
              "      <td>NaN</td>\n",
              "      <td>Just got sent this photo from Ruby #Alaska as ...</td>\n",
              "      <td>1</td>\n",
              "    </tr>\n",
              "  </tbody>\n",
              "</table>\n",
              "</div>"
            ],
            "text/plain": [
              "   id keyword  ...                                               text target\n",
              "0   1     NaN  ...  Our Deeds are the Reason of this #earthquake M...      1\n",
              "1   4     NaN  ...             Forest fire near La Ronge Sask. Canada      1\n",
              "2   5     NaN  ...  All residents asked to 'shelter in place' are ...      1\n",
              "3   6     NaN  ...  13,000 people receive #wildfires evacuation or...      1\n",
              "4   7     NaN  ...  Just got sent this photo from Ruby #Alaska as ...      1\n",
              "\n",
              "[5 rows x 5 columns]"
            ]
          },
          "metadata": {
            "tags": []
          },
          "execution_count": 218
        }
      ]
    },
    {
      "cell_type": "code",
      "metadata": {
        "id": "D9FgPfYqqt7i",
        "colab_type": "code",
        "colab": {}
      },
      "source": [
        "# clean tweets of white spaces, punctuations, stopwords, and make all letters lowercase\n",
        "custom_filters = [lambda x: x.lower(),\n",
        "                  strip_multiple_whitespaces,\n",
        "                  strip_punctuation,\n",
        "                  remove_stopwords]\n",
        "\n",
        "def clean_string(row):\n",
        "    return preprocess_string(row['text'], custom_filters)"
      ],
      "execution_count": 0,
      "outputs": []
    },
    {
      "cell_type": "code",
      "metadata": {
        "id": "N5J02jA9qt7p",
        "colab_type": "code",
        "outputId": "d613fd66-71b4-4f16-dfc4-96729cf9e2f4",
        "colab": {
          "base_uri": "https://localhost:8080/",
          "height": 285
        }
      },
      "source": [
        "# append cleaned tweets to dataframe\n",
        "train_df['cleaned_tweets'] = train_df.apply(clean_string, axis=1)\n",
        "\n",
        "train_df.head()"
      ],
      "execution_count": 220,
      "outputs": [
        {
          "output_type": "execute_result",
          "data": {
            "text/html": [
              "<div>\n",
              "<style scoped>\n",
              "    .dataframe tbody tr th:only-of-type {\n",
              "        vertical-align: middle;\n",
              "    }\n",
              "\n",
              "    .dataframe tbody tr th {\n",
              "        vertical-align: top;\n",
              "    }\n",
              "\n",
              "    .dataframe thead th {\n",
              "        text-align: right;\n",
              "    }\n",
              "</style>\n",
              "<table border=\"1\" class=\"dataframe\">\n",
              "  <thead>\n",
              "    <tr style=\"text-align: right;\">\n",
              "      <th></th>\n",
              "      <th>id</th>\n",
              "      <th>keyword</th>\n",
              "      <th>location</th>\n",
              "      <th>text</th>\n",
              "      <th>target</th>\n",
              "      <th>cleaned_tweets</th>\n",
              "    </tr>\n",
              "  </thead>\n",
              "  <tbody>\n",
              "    <tr>\n",
              "      <th>0</th>\n",
              "      <td>1</td>\n",
              "      <td>NaN</td>\n",
              "      <td>NaN</td>\n",
              "      <td>Our Deeds are the Reason of this #earthquake M...</td>\n",
              "      <td>1</td>\n",
              "      <td>[deeds, reason, earthquake, allah, forgive]</td>\n",
              "    </tr>\n",
              "    <tr>\n",
              "      <th>1</th>\n",
              "      <td>4</td>\n",
              "      <td>NaN</td>\n",
              "      <td>NaN</td>\n",
              "      <td>Forest fire near La Ronge Sask. Canada</td>\n",
              "      <td>1</td>\n",
              "      <td>[forest, near, la, ronge, sask, canada]</td>\n",
              "    </tr>\n",
              "    <tr>\n",
              "      <th>2</th>\n",
              "      <td>5</td>\n",
              "      <td>NaN</td>\n",
              "      <td>NaN</td>\n",
              "      <td>All residents asked to 'shelter in place' are ...</td>\n",
              "      <td>1</td>\n",
              "      <td>[residents, asked, shelter, place, notified, o...</td>\n",
              "    </tr>\n",
              "    <tr>\n",
              "      <th>3</th>\n",
              "      <td>6</td>\n",
              "      <td>NaN</td>\n",
              "      <td>NaN</td>\n",
              "      <td>13,000 people receive #wildfires evacuation or...</td>\n",
              "      <td>1</td>\n",
              "      <td>[13, 000, people, receive, wildfires, evacuati...</td>\n",
              "    </tr>\n",
              "    <tr>\n",
              "      <th>4</th>\n",
              "      <td>7</td>\n",
              "      <td>NaN</td>\n",
              "      <td>NaN</td>\n",
              "      <td>Just got sent this photo from Ruby #Alaska as ...</td>\n",
              "      <td>1</td>\n",
              "      <td>[got, sent, photo, ruby, alaska, smoke, wildfi...</td>\n",
              "    </tr>\n",
              "  </tbody>\n",
              "</table>\n",
              "</div>"
            ],
            "text/plain": [
              "   id keyword  ... target                                     cleaned_tweets\n",
              "0   1     NaN  ...      1        [deeds, reason, earthquake, allah, forgive]\n",
              "1   4     NaN  ...      1            [forest, near, la, ronge, sask, canada]\n",
              "2   5     NaN  ...      1  [residents, asked, shelter, place, notified, o...\n",
              "3   6     NaN  ...      1  [13, 000, people, receive, wildfires, evacuati...\n",
              "4   7     NaN  ...      1  [got, sent, photo, ruby, alaska, smoke, wildfi...\n",
              "\n",
              "[5 rows x 6 columns]"
            ]
          },
          "metadata": {
            "tags": []
          },
          "execution_count": 220
        }
      ]
    },
    {
      "cell_type": "code",
      "metadata": {
        "id": "y6mEjNgOqt7v",
        "colab_type": "code",
        "colab": {}
      },
      "source": [
        "cleaned_tweets_lst = train_df['cleaned_tweets'].to_list()"
      ],
      "execution_count": 0,
      "outputs": []
    },
    {
      "cell_type": "code",
      "metadata": {
        "id": "VXhCwaY4Zn04",
        "colab_type": "code",
        "colab": {}
      },
      "source": [
        "# cleaned_tweets_lst"
      ],
      "execution_count": 0,
      "outputs": []
    },
    {
      "cell_type": "code",
      "metadata": {
        "id": "qhaoVZNpqt72",
        "colab_type": "code",
        "colab": {}
      },
      "source": [
        "cleaned_tweets_lst = [' '.join(cleaned_tweet) for cleaned_tweet in cleaned_tweets_lst]"
      ],
      "execution_count": 0,
      "outputs": []
    },
    {
      "cell_type": "code",
      "metadata": {
        "id": "RKlJSvOHqt7-",
        "colab_type": "code",
        "colab": {}
      },
      "source": [
        "# convert cleaned_tweets column to dictionary\n",
        "dct = Dictionary(train_df.cleaned_tweets)"
      ],
      "execution_count": 0,
      "outputs": []
    },
    {
      "cell_type": "code",
      "metadata": {
        "id": "T2L1HNxFqt8D",
        "colab_type": "code",
        "colab": {}
      },
      "source": [
        "# convert dictionary to matrix\n",
        "gen_corpus = [dct.doc2bow(line) for line in train_df.cleaned_tweets]"
      ],
      "execution_count": 0,
      "outputs": []
    },
    {
      "cell_type": "code",
      "metadata": {
        "id": "PdFUNyY25-gX",
        "colab_type": "code",
        "colab": {}
      },
      "source": [
        "gen_corpus[:5]"
      ],
      "execution_count": 0,
      "outputs": []
    },
    {
      "cell_type": "code",
      "metadata": {
        "id": "IcaY4EIvqt8J",
        "colab_type": "code",
        "colab": {}
      },
      "source": [
        "# create model\n",
        "from gensim.models import TfidfModel\n",
        "# td_model = TfidfModel(gen_corpus)"
      ],
      "execution_count": 0,
      "outputs": []
    },
    {
      "cell_type": "code",
      "metadata": {
        "id": "MXSHh5dkqt8Q",
        "colab_type": "code",
        "colab": {}
      },
      "source": [
        "# model"
      ],
      "execution_count": 0,
      "outputs": []
    },
    {
      "cell_type": "code",
      "metadata": {
        "id": "zrXSn_IEqt8V",
        "colab_type": "code",
        "colab": {}
      },
      "source": [
        "# fit model\n",
        "# vector = model[corpus]"
      ],
      "execution_count": 0,
      "outputs": []
    },
    {
      "cell_type": "code",
      "metadata": {
        "id": "kenkS4FEqt8b",
        "colab_type": "code",
        "colab": {}
      },
      "source": [
        "# print(vector)"
      ],
      "execution_count": 0,
      "outputs": []
    },
    {
      "cell_type": "code",
      "metadata": {
        "id": "DClU2aRLqt8j",
        "colab_type": "code",
        "colab": {}
      },
      "source": [
        "# vector_0 = model[corpus[0]]"
      ],
      "execution_count": 0,
      "outputs": []
    },
    {
      "cell_type": "code",
      "metadata": {
        "id": "czei8ajqqt8p",
        "colab_type": "code",
        "colab": {}
      },
      "source": [
        "# vector_1 = model[corpus[1]]"
      ],
      "execution_count": 0,
      "outputs": []
    },
    {
      "cell_type": "code",
      "metadata": {
        "id": "Ej2XQPKJqt8w",
        "colab_type": "code",
        "colab": {}
      },
      "source": [
        "# The above code does not seem to be correct because it is treating redundent words as unique. Create dictionary of\n",
        "# frequency counts of unique words\n",
        "from collections import defaultdict\n",
        "frequency = defaultdict(int)\n",
        "for text in train_df.cleaned_tweets:\n",
        "    for token in text:\n",
        "        frequency[token] += 1"
      ],
      "execution_count": 0,
      "outputs": []
    },
    {
      "cell_type": "code",
      "metadata": {
        "id": "6DU2jk3xqt83",
        "colab_type": "code",
        "colab": {}
      },
      "source": [
        "# convert default dictionary to dictionary\n",
        "frequency = dict(frequency)"
      ],
      "execution_count": 0,
      "outputs": []
    },
    {
      "cell_type": "markdown",
      "metadata": {
        "id": "JibnR8TjHzTb",
        "colab_type": "text"
      },
      "source": [
        "#EDA of Data Set"
      ]
    },
    {
      "cell_type": "code",
      "metadata": {
        "id": "i1997FsbH8KI",
        "colab_type": "code",
        "colab": {}
      },
      "source": [
        "target_count = train_df.groupby('target').count().drop(columns = ['id', 'keyword', 'location', 'text', 'corpus'], axis=1)"
      ],
      "execution_count": 0,
      "outputs": []
    },
    {
      "cell_type": "code",
      "metadata": {
        "id": "btDyzCjBH7-w",
        "colab_type": "code",
        "colab": {
          "base_uri": "https://localhost:8080/",
          "height": 138
        },
        "outputId": "e3a453f2-c4fe-4915-c233-a9b50a25074c"
      },
      "source": [
        "target_count"
      ],
      "execution_count": 335,
      "outputs": [
        {
          "output_type": "execute_result",
          "data": {
            "text/html": [
              "<div>\n",
              "<style scoped>\n",
              "    .dataframe tbody tr th:only-of-type {\n",
              "        vertical-align: middle;\n",
              "    }\n",
              "\n",
              "    .dataframe tbody tr th {\n",
              "        vertical-align: top;\n",
              "    }\n",
              "\n",
              "    .dataframe thead th {\n",
              "        text-align: right;\n",
              "    }\n",
              "</style>\n",
              "<table border=\"1\" class=\"dataframe\">\n",
              "  <thead>\n",
              "    <tr style=\"text-align: right;\">\n",
              "      <th></th>\n",
              "      <th>cleaned_tweets</th>\n",
              "    </tr>\n",
              "    <tr>\n",
              "      <th>target</th>\n",
              "      <th></th>\n",
              "    </tr>\n",
              "  </thead>\n",
              "  <tbody>\n",
              "    <tr>\n",
              "      <th>0</th>\n",
              "      <td>4342</td>\n",
              "    </tr>\n",
              "    <tr>\n",
              "      <th>1</th>\n",
              "      <td>3271</td>\n",
              "    </tr>\n",
              "  </tbody>\n",
              "</table>\n",
              "</div>"
            ],
            "text/plain": [
              "        cleaned_tweets\n",
              "target                \n",
              "0                 4342\n",
              "1                 3271"
            ]
          },
          "metadata": {
            "tags": []
          },
          "execution_count": 335
        }
      ]
    },
    {
      "cell_type": "code",
      "metadata": {
        "id": "MeYSqwOSPo0L",
        "colab_type": "code",
        "colab": {}
      },
      "source": [
        "target_pct = round(target_count.div(target_count['cleaned_tweets'].sum()) * 100, 2)"
      ],
      "execution_count": 0,
      "outputs": []
    },
    {
      "cell_type": "code",
      "metadata": {
        "id": "1gupD9A5H778",
        "colab_type": "code",
        "colab": {}
      },
      "source": [
        "target_pct = target_pct.rename(columns={'cleaned_tweets': \"percent\"})"
      ],
      "execution_count": 0,
      "outputs": []
    },
    {
      "cell_type": "code",
      "metadata": {
        "id": "PD44Y-T2O22P",
        "colab_type": "code",
        "colab": {}
      },
      "source": [
        "target_pct = target_pct.reset_index()"
      ],
      "execution_count": 0,
      "outputs": []
    },
    {
      "cell_type": "code",
      "metadata": {
        "id": "N9GmSWtmL2zb",
        "colab_type": "code",
        "colab": {
          "base_uri": "https://localhost:8080/",
          "height": 313
        },
        "outputId": "fa88923d-0194-4179-90f9-646328e21e79"
      },
      "source": [
        "title = 'Percentage of True vs False Classificatins of Tweets Related to Disasters'\n",
        "target_pct.plot.bar(x='target', y='percent', rot=0, title= title)"
      ],
      "execution_count": 352,
      "outputs": [
        {
          "output_type": "execute_result",
          "data": {
            "text/plain": [
              "<matplotlib.axes._subplots.AxesSubplot at 0x7f0bd5927c18>"
            ]
          },
          "metadata": {
            "tags": []
          },
          "execution_count": 352
        },
        {
          "output_type": "display_data",
          "data": {
            "image/png": "[encoded data removed]",
            "text/plain": [
              "<Figure size 432x288 with 1 Axes>"
            ]
          },
          "metadata": {
            "tags": []
          }
        }
      ]
    },
    {
      "cell_type": "code",
      "metadata": {
        "id": "Tf6wqf8PL2xK",
        "colab_type": "code",
        "colab": {}
      },
      "source": [
        ""
      ],
      "execution_count": 0,
      "outputs": []
    },
    {
      "cell_type": "code",
      "metadata": {
        "id": "PTM5UTs5L2uU",
        "colab_type": "code",
        "colab": {}
      },
      "source": [
        ""
      ],
      "execution_count": 0,
      "outputs": []
    },
    {
      "cell_type": "code",
      "metadata": {
        "id": "cIyT9HiyL2rJ",
        "colab_type": "code",
        "colab": {}
      },
      "source": [
        ""
      ],
      "execution_count": 0,
      "outputs": []
    },
    {
      "cell_type": "markdown",
      "metadata": {
        "id": "3UN3aAi1qt9g",
        "colab_type": "text"
      },
      "source": [
        "# All of these analyses are on dense vectors. We need to analyze sparse vectors"
      ]
    },
    {
      "cell_type": "code",
      "metadata": {
        "id": "jGns2sxhqt9i",
        "colab_type": "code",
        "colab": {}
      },
      "source": [
        "from sklearn.feature_extraction.text import CountVectorizer\n",
        "from sklearn.model_selection import train_test_split"
      ],
      "execution_count": 0,
      "outputs": []
    },
    {
      "cell_type": "code",
      "metadata": {
        "id": "fHBWA2Szqt9m",
        "colab_type": "code",
        "colab": {}
      },
      "source": [
        "X_train_split, X_test_split, y_train_split, y_test_split = train_test_split(cleaned_tweets_lst, train_df['target'], test_size = 0.3, random_state = 42)"
      ],
      "execution_count": 0,
      "outputs": []
    },
    {
      "cell_type": "code",
      "metadata": {
        "id": "gdIypiXdqt9r",
        "colab_type": "code",
        "colab": {}
      },
      "source": [
        "train_corpus = X_train_split\n",
        "\n",
        "train_vectorizer = CountVectorizer()\n",
        "\n",
        "X_train = train_vectorizer.fit_transform(train_corpus)"
      ],
      "execution_count": 0,
      "outputs": []
    },
    {
      "cell_type": "code",
      "metadata": {
        "id": "XEFydgaSqt9y",
        "colab_type": "code",
        "colab": {}
      },
      "source": [
        "test_corpus = X_test_split\n",
        "\n",
        "X_test = train_vectorizer.transform(test_corpus)"
      ],
      "execution_count": 0,
      "outputs": []
    },
    {
      "cell_type": "code",
      "metadata": {
        "id": "JufGDFHIqt93",
        "colab_type": "code",
        "outputId": "008341d3-ddbb-4d0d-9859-0d08082f7d82",
        "colab": {
          "base_uri": "https://localhost:8080/",
          "height": 35
        }
      },
      "source": [
        "X_train_shaped = X_train.shape\n",
        "\n",
        "X_train_shaped"
      ],
      "execution_count": 239,
      "outputs": [
        {
          "output_type": "execute_result",
          "data": {
            "text/plain": [
              "(5329, 16712)"
            ]
          },
          "metadata": {
            "tags": []
          },
          "execution_count": 239
        }
      ]
    },
    {
      "cell_type": "code",
      "metadata": {
        "id": "ge1HO8-Mqt98",
        "colab_type": "code",
        "outputId": "6a9d885f-0cd5-42d1-a12a-2e41a0f065de",
        "colab": {
          "base_uri": "https://localhost:8080/",
          "height": 35
        }
      },
      "source": [
        "X_test_shaped = X_test.shape\n",
        "\n",
        "X_test_shaped"
      ],
      "execution_count": 240,
      "outputs": [
        {
          "output_type": "execute_result",
          "data": {
            "text/plain": [
              "(2284, 16712)"
            ]
          },
          "metadata": {
            "tags": []
          },
          "execution_count": 240
        }
      ]
    },
    {
      "cell_type": "code",
      "metadata": {
        "id": "M5ihpgRnqt-B",
        "colab_type": "code",
        "outputId": "e9886544-2936-448b-ec85-793132fb0fe1",
        "colab": {
          "base_uri": "https://localhost:8080/",
          "height": 1000
        }
      },
      "source": [
        "train_vectorizer.vocabulary_"
      ],
      "execution_count": 241,
      "outputs": [
        {
          "output_type": "execute_result",
          "data": {
            "text/plain": [
              "{'ashes': 1698,\n",
              " '2015': 276,\n",
              " 'australia': 1820,\n",
              " 'ûªs': 16683,\n",
              " 'collapse': 3475,\n",
              " 'trent': 14935,\n",
              " 'bridge': 2602,\n",
              " 'worst': 16119,\n",
              " 'history': 7014,\n",
              " 'england': 5146,\n",
              " 'bundled': 2725,\n",
              " '60': 668,\n",
              " 'http': 7187,\n",
              " 't5trhjuau0': 14251,\n",
              " 'great': 6517,\n",
              " 'michigan': 9568,\n",
              " 'technique': 14398,\n",
              " 'camp': 2890,\n",
              " 'b1g': 1899,\n",
              " 'thanks': 14506,\n",
              " 'bmurph1019': 2428,\n",
              " 'hail': 6709,\n",
              " 'youtsey': 16476,\n",
              " 'termn8r13': 14450,\n",
              " 'goblue': 6407,\n",
              " 'wrestleon': 16153,\n",
              " 'oaskgki6qj': 10509,\n",
              " 'cnn': 3423,\n",
              " 'tennessee': 14436,\n",
              " 'movie': 9879,\n",
              " 'theater': 14518,\n",
              " 'shooting': 13255,\n",
              " 'suspect': 14161,\n",
              " 'killed': 8358,\n",
              " 'police': 11390,\n",
              " 'di8elzswnr': 4387,\n",
              " 'rioting': 12480,\n",
              " 'couple': 3743,\n",
              " 'hours': 7151,\n",
              " 'left': 8715,\n",
              " 'class': 3350,\n",
              " 'crack': 3778,\n",
              " 'path': 11032,\n",
              " 'wiped': 16002,\n",
              " 'morning': 9831,\n",
              " 'beach': 2108,\n",
              " 'run': 12709,\n",
              " 'surface': 14137,\n",
              " 'wounds': 16127,\n",
              " 'elbow': 5010,\n",
              " 'right': 12464,\n",
              " 'knee': 8419,\n",
              " 'yaqrsximph': 16377,\n",
              " 'experts': 5382,\n",
              " 'france': 5954,\n",
              " 'begin': 2153,\n",
              " 'examining': 5329,\n",
              " 'airplane': 1285,\n",
              " 'debris': 4147,\n",
              " 'reunion': 12393,\n",
              " 'island': 7771,\n",
              " 'french': 5993,\n",
              " 'air': 1280,\n",
              " 'accident': 1081,\n",
              " 'tagzbcxfj0': 14273,\n",
              " 'mlb': 9722,\n",
              " 'came': 2880,\n",
              " 'kill': 8357,\n",
              " 'indians': 7541,\n",
              " 'fun': 6066,\n",
              " 'video': 15560,\n",
              " 'smirking': 13505,\n",
              " 'remorseless': 12268,\n",
              " 'pakistani': 10939,\n",
              " 'killer': 8359,\n",
              " 'shows': 13283,\n",
              " 'boasting': 2441,\n",
              " 'fpjlwoxklg': 5935,\n",
              " 'johnsontionne': 8048,\n",
              " 'idk': 7370,\n",
              " 'burning': 2740,\n",
              " 'destroy': 4322,\n",
              " 'house': 7152,\n",
              " 'officer': 10581,\n",
              " 'wounded': 16126,\n",
              " 'dead': 4124,\n",
              " 'exchanging': 5337,\n",
              " 'shots': 13267,\n",
              " 'xxfk4khbiw': 16324,\n",
              " 'friggin': 6016,\n",
              " 'wreck': 16150,\n",
              " 'destiel': 4316,\n",
              " 'sucks': 14057,\n",
              " 'read': 12100,\n",
              " 'vine': 15579,\n",
              " 'description': 4297,\n",
              " 'https': 7188,\n",
              " 'mkx6ux4ozt': 9720,\n",
              " 'sterling': 13894,\n",
              " 'scott': 12967,\n",
              " 'red': 12171,\n",
              " 'carpet': 2985,\n",
              " 'fundraiser': 6069,\n",
              " 'oso': 10799,\n",
              " 'mudslide': 9933,\n",
              " 'ma4ra7atql': 9183,\n",
              " 'cg579wldne': 3115,\n",
              " 'libertarianluke': 8800,\n",
              " 'honest': 7094,\n",
              " 'people': 11122,\n",
              " 'want': 15748,\n",
              " 'rampage': 12017,\n",
              " 'let': 8765,\n",
              " 'use': 15369,\n",
              " 'hands': 6744,\n",
              " 'feet': 5607,\n",
              " 'casualties': 3015,\n",
              " '7xglah10zl': 823,\n",
              " 'feared': 5585,\n",
              " 'ambulance': 1412,\n",
              " 'helicopter': 6905,\n",
              " 'crash': 3793,\n",
              " 'thmblaatzp': 14597,\n",
              " 'got': 6457,\n",
              " 'electrocuted': 5022,\n",
              " 'night': 10251,\n",
              " 'work': 16092,\n",
              " 'time': 14677,\n",
              " 'life': 8812,\n",
              " 'shit': 13240,\n",
              " 'weird': 15868,\n",
              " 'older': 10652,\n",
              " 'native': 10086,\n",
              " 'australians': 1822,\n",
              " 'believe': 2173,\n",
              " 'oceans': 10544,\n",
              " 'created': 3812,\n",
              " 'urine': 15350,\n",
              " 'angry': 1474,\n",
              " 'god': 6409,\n",
              " 'tried': 14953,\n",
              " 'drown': 4745,\n",
              " 'world': 16102,\n",
              " 'architect': 1614,\n",
              " 'kanye': 8221,\n",
              " 'west': 15886,\n",
              " 'volcano': 15645,\n",
              " 'musbik7ejf': 9962,\n",
              " 'india': 7535,\n",
              " 'shud': 13289,\n",
              " 'evidence': 5315,\n",
              " 'pak': 10937,\n",
              " 'share': 13189,\n",
              " 'terrorists': 14461,\n",
              " 'amp': 1431,\n",
              " 'attack': 1770,\n",
              " 'oth': 10806,\n",
              " 'contries': 3662,\n",
              " 'qiopbtiuvu': 11840,\n",
              " 'auth': 1824,\n",
              " 'louis': 9041,\n",
              " 'vuitton': 15678,\n",
              " 'brown': 2651,\n",
              " 'saumur': 12890,\n",
              " '35': 420,\n",
              " 'cross': 3856,\n",
              " 'body': 2449,\n",
              " 'shoulder': 13268,\n",
              " 'bag': 1952,\n",
              " 'monogram': 9794,\n",
              " '23': 301,\n",
              " '419': 509,\n",
              " 'hcdiwe5flc': 6834,\n",
              " 'zlvebeoavg': 16613,\n",
              " 'episode': 5203,\n",
              " 'trunks': 15001,\n",
              " 'annihilated': 1491,\n",
              " 'freiza': 5991,\n",
              " 'cleanest': 3357,\n",
              " 'showed': 13279,\n",
              " 'nigga': 10248,\n",
              " 'mercy': 9498,\n",
              " 'roughdeal1': 12633,\n",
              " 'ante': 1508,\n",
              " 'hudhud': 7193,\n",
              " 'cyclone': 3972,\n",
              " 'chandrababu': 3144,\n",
              " 'valle': 15448,\n",
              " 'ne': 10133,\n",
              " 'ga': 6141,\n",
              " 'zhenghxn': 16588,\n",
              " '11': 109,\n",
              " 'eyes': 5431,\n",
              " 'akame': 1300,\n",
              " 'tokyo': 14757,\n",
              " 'ghoul': 6304,\n",
              " 'damn': 4031,\n",
              " 'bloody': 2395,\n",
              " 'dont': 4632,\n",
              " 'dare': 4069,\n",
              " 'watch': 15786,\n",
              " 'rayquazaerk': 12067,\n",
              " 'christian': 3271,\n",
              " 'sure': 14132,\n",
              " 'suicide': 14070,\n",
              " 'bombing': 2463,\n",
              " 'employed': 5097,\n",
              " 'islamic': 7769,\n",
              " 'groups': 6563,\n",
              " 'jackmulholland1': 7860,\n",
              " 'think': 14582,\n",
              " 'marquis': 9324,\n",
              " 'carlos': 2974,\n",
              " 'charlie': 3168,\n",
              " 'finally': 5688,\n",
              " 'dublin': 4777,\n",
              " 'sadly': 12784,\n",
              " 'demolished': 4243,\n",
              " 'surf': 14136,\n",
              " 'hi': 6960,\n",
              " 'waimea': 15718,\n",
              " 'bay': 2070,\n",
              " 'like': 8834,\n",
              " 'inundated': 7691,\n",
              " 'surfers': 14138,\n",
              " 'czdw8oowa2': 3983,\n",
              " 'motorcyclist': 9859,\n",
              " 'bicyclist': 2255,\n",
              " 'injured': 7597,\n",
              " 'denver': 4266,\n",
              " 'collision': 3489,\n",
              " 'broadway': 2633,\n",
              " 'zl7ojdaj3u': 16609,\n",
              " 'maryland': 9335,\n",
              " 'mansion': 9277,\n",
              " 'caused': 3039,\n",
              " 'damaged': 4022,\n",
              " 'plug': 11346,\n",
              " 'christmas': 3277,\n",
              " 'tree': 14921,\n",
              " 'report': 12304,\n",
              " 'says': 12908,\n",
              " 'flames': 5758,\n",
              " 'lkjfabqzb3': 8922,\n",
              " 'going': 6417,\n",
              " 'demolish': 4242,\n",
              " 'drake': 4683,\n",
              " 'ghostwriting': 6303,\n",
              " 'know': 8436,\n",
              " 'rihanna': 12469,\n",
              " 'lives': 8907,\n",
              " 'door': 4636,\n",
              " '1acd4900c1424d1': 214,\n",
              " 'foxnews': 5927,\n",
              " 'buildings': 2707,\n",
              " 'looting': 9011,\n",
              " 'forest': 5884,\n",
              " 'fires': 5720,\n",
              " 'dying': 4842,\n",
              " 'salmon': 12817,\n",
              " 'act': 1117,\n",
              " 'deny': 4267,\n",
              " 'climate': 3379,\n",
              " 'change': 3145,\n",
              " 'nightmares': 10254,\n",
              " 'rbzomwgjee': 12079,\n",
              " 'bcpoli': 2098,\n",
              " 'canpoli': 2924,\n",
              " 'vanpoli': 15464,\n",
              " 'ns1aggfnxz': 10402,\n",
              " 'shoes': 13250,\n",
              " 'asics': 1709,\n",
              " 'gt': 6585,\n",
              " 'ii': 7411,\n",
              " 'super': 14108,\n",
              " 'ronnie': 12604,\n",
              " 'fieg': 5657,\n",
              " 'kith': 8392,\n",
              " 'white': 15930,\n",
              " '3m': 469,\n",
              " 'gel': 6236,\n",
              " 'grey': 6539,\n",
              " 'od250zshfy': 10548,\n",
              " 'airport': 1287,\n",
              " 'swallowed': 14172,\n",
              " 'sandstorm': 12851,\n",
              " 'minute': 9656,\n",
              " 'wd9odwjj9l': 15826,\n",
              " 'tweetlikeitsseptember11th2001': 15080,\n",
              " 'california': 2865,\n",
              " 'oil': 10623,\n",
              " 'spill': 13709,\n",
              " 'larger': 8614,\n",
              " 'projected': 11621,\n",
              " 'xwxbyhtuzc': 16323,\n",
              " 'wzedxefblg': 16218,\n",
              " 'cartoon': 2995,\n",
              " 'bears': 2116,\n",
              " 'qave': 11812,\n",
              " 'knowlddge': 8438,\n",
              " 'toilet': 14754,\n",
              " 'paper': 10973,\n",
              " 'gaabyx': 6143,\n",
              " 'purple': 11750,\n",
              " 'activist': 1129,\n",
              " 'thought': 14609,\n",
              " 'drought': 4740,\n",
              " 'buffoonmike': 2702,\n",
              " 'knew': 8423,\n",
              " 'mo': 9738,\n",
              " 'bite': 2313,\n",
              " 'influenced': 7581,\n",
              " 'shitty': 13243,\n",
              " 'staff': 13808,\n",
              " 'injuries': 7599,\n",
              " 'acquisitions': 1113,\n",
              " 'toddstarnes': 14747,\n",
              " 'enjoy': 5152,\n",
              " 'impending': 7478,\n",
              " 'landslide': 8595,\n",
              " 'todd': 14745,\n",
              " 'hehe': 6893,\n",
              " 'look': 8996,\n",
              " 'grizzly': 6551,\n",
              " 'peak': 11096,\n",
              " 'looks': 9000,\n",
              " 'beginning': 2155,\n",
              " 'dystopian': 4847,\n",
              " 'apocalypse': 1552,\n",
              " 'ignition': 7397,\n",
              " 'knock': 8431,\n",
              " 'detonation': 4339,\n",
              " 'sensor': 13093,\n",
              " 'senso': 13092,\n",
              " 'standard': 13820,\n",
              " 'ks100': 8484,\n",
              " '7o4lnfbe7k': 815,\n",
              " 'fvzsgjtbew': 6095,\n",
              " 'week': 15859,\n",
              " 'responders': 12353,\n",
              " 'dart': 4080,\n",
              " 'members': 9476,\n",
              " 'participating': 11010,\n",
              " 'day': 4104,\n",
              " 'intensive': 7660,\n",
              " 'technical': 14396,\n",
              " 'large': 8613,\n",
              " 'animal': 1476,\n",
              " 'tl93aod3er': 14715,\n",
              " 'lot': 9034,\n",
              " '20': 263,\n",
              " 'tom': 14762,\n",
              " 'clancy': 3346,\n",
              " 'military': 9610,\n",
              " 'mystery': 10013,\n",
              " 'novels': 10382,\n",
              " 'paperback': 10974,\n",
              " 'obix79ncxn': 10515,\n",
              " 'tomclancy': 14766,\n",
              " 'drowning': 4747,\n",
              " 'low': 9053,\n",
              " 'self': 13068,\n",
              " 'image': 7455,\n",
              " 'quiz': 11906,\n",
              " 'z8r6r3nbtb': 16544,\n",
              " 'namffldh5h': 10058,\n",
              " 'gonna': 6428,\n",
              " 'fight': 5666,\n",
              " 'taylor': 14344,\n",
              " 'soon': 13610,\n",
              " 'wish': 16013,\n",
              " 'victoria': 15552,\n",
              " 'secret': 13035,\n",
              " 'good': 6429,\n",
              " 'spot': 13739,\n",
              " 'flood': 5797,\n",
              " 'combo': 3508,\n",
              " '53inch': 606,\n",
              " '300w': 398,\n",
              " 'curved': 3939,\n",
              " 'cree': 3822,\n",
              " 'led': 8706,\n",
              " 'light': 8823,\n",
              " 'bar': 2004,\n",
              " '4x4': 579,\n",
              " 'offroad': 10595,\n",
              " 'fog': 5834,\n",
              " 'lamp': 8579,\n",
              " 're': 12088,\n",
              " 'o097vsotxk': 10482,\n",
              " 'i23xy7iejj': 7294,\n",
              " 'severe': 13140,\n",
              " 'weather': 15844,\n",
              " 'bulletin': 2713,\n",
              " 'typhoon': 15117,\n",
              " 'ûï': 16686,\n",
              " 'hannaph': 6752,\n",
              " 'soudelor': 13628,\n",
              " 'tropical': 14977,\n",
              " 'warning': 15762,\n",
              " 'issued': 7781,\n",
              " '00': 0,\n",
              " 'pm': 11354,\n",
              " '06': 19,\n",
              " 'thhjjw51pe': 14578,\n",
              " 'fits': 5732,\n",
              " '01': 6,\n",
              " 'bmw': 2429,\n",
              " '325ci': 413,\n",
              " '5l': 639,\n",
              " 'l6': 8542,\n",
              " 'gbvdnczjou': 6222,\n",
              " 'c211hise0r': 2805,\n",
              " '10': 81,\n",
              " 'explosion': 5398,\n",
              " 'chemical': 3198,\n",
              " 'park': 10996,\n",
              " 'western': 15887,\n",
              " 'germany': 6273,\n",
              " 'xbznu0qkvs': 16248,\n",
              " 'soul': 13629,\n",
              " 'food': 5854,\n",
              " 'sound': 13633,\n",
              " 'bomb': 2459,\n",
              " 'truth': 15005,\n",
              " 'bejftygjil': 2168,\n",
              " 'news': 10193,\n",
              " 'bbc': 2077,\n",
              " 'islam': 7767,\n",
              " 'isis': 7765,\n",
              " 'terrorism': 14459,\n",
              " 'quran': 11915,\n",
              " 'lies': 8811,\n",
              " 'jlczidz7vu': 8011,\n",
              " 'if': 7381,\n",
              " 'lost': 9033,\n",
              " 'sinking': 13360,\n",
              " 'stone': 13928,\n",
              " 'carry': 2988,\n",
              " 'onå': 10702,\n",
              " 'mylittlepwnies3': 10009,\n",
              " 'early': 4883,\n",
              " 'anathemazhiv': 1446,\n",
              " 'tonysandos': 14780,\n",
              " 'lebanon': 8703,\n",
              " '80s': 836,\n",
              " 'iran': 7736,\n",
              " 'hostage': 7138,\n",
              " 'crisis': 3845,\n",
              " 'libya': 8806,\n",
              " 'pan': 10953,\n",
              " 'pulls': 11724,\n",
              " 'gun': 6613,\n",
              " 'man': 9260,\n",
              " 'apparent': 1563,\n",
              " 'provocation': 11676,\n",
              " 'lhw4vtbhzg': 8795,\n",
              " 'dailykos': 4010,\n",
              " 'train': 14877,\n",
              " 'derailment': 4286,\n",
              " 'patna': 11040,\n",
              " 'casualty': 3016,\n",
              " 'far': 5522,\n",
              " 'indian': 7538,\n",
              " 'express': 5406,\n",
              " 'yh5vetm0yz': 16423,\n",
              " '17wgug8z0m': 181,\n",
              " 'dream': 4698,\n",
              " 'magic': 9214,\n",
              " 'linden': 8855,\n",
              " 'method': 9524,\n",
              " 'lite': 8884,\n",
              " 'version': 15519,\n",
              " 'anxiety': 1523,\n",
              " 'panic': 10962,\n",
              " 'cure': 3929,\n",
              " 'program': 11612,\n",
              " '073izwx0lb': 23,\n",
              " 'lind': 8853,\n",
              " 'okmlagvkjv': 10643,\n",
              " '18': 182,\n",
              " 'bovines': 2513,\n",
              " 'rescued': 12324,\n",
              " 'smugglersåênabbed': 13517,\n",
              " 'e7fn5g5ruu': 4869,\n",
              " 'wwp': 16202,\n",
              " 'serving': 13123,\n",
              " '75k': 777,\n",
              " 'veterans': 15525,\n",
              " '52k': 602,\n",
              " 'oif': 10622,\n",
              " 'oef': 10559,\n",
              " 'vets': 15526,\n",
              " 'physical': 11216,\n",
              " 'invisible': 7705,\n",
              " 'ones': 10683,\n",
              " 'shhlv4dplz': 13221,\n",
              " 'client': 3375,\n",
              " 'learned': 8695,\n",
              " 'economics': 4927,\n",
              " 'south': 13643,\n",
              " 'dakota': 4014,\n",
              " 'dust': 4810,\n",
              " 'storm': 13943,\n",
              " 'years': 16397,\n",
              " 'college': 3483,\n",
              " 'hubert': 7192,\n",
              " 'humphrey': 7226,\n",
              " 'cramer': 3786,\n",
              " 'iger': 7389,\n",
              " 'words': 16091,\n",
              " 'wrecked': 16152,\n",
              " 'disney': 4495,\n",
              " 'stock': 13919,\n",
              " 'sf5jdnvdw9': 13153,\n",
              " 'til': 14672,\n",
              " 'cnbc': 3419,\n",
              " 'marc': 9287,\n",
              " 'holl': 7060,\n",
              " 'nennicook': 10164,\n",
              " 'aitchkaycee': 1292,\n",
              " 'vixstuart': 15616,\n",
              " 'benjbeckwith': 2199,\n",
              " 'pretty': 11553,\n",
              " 'disaster': 4466,\n",
              " 'gbbo': 6215,\n",
              " 'need': 10146,\n",
              " 'arcade': 1612,\n",
              " 'shooter': 13254,\n",
              " 'fix': 5736,\n",
              " 'cte': 3897,\n",
              " 'running': 12715,\n",
              " 'obliteration': 10524,\n",
              " 'buy': 2774,\n",
              " 'cod': 3448,\n",
              " 'title': 14702,\n",
              " 'weren': 15882,\n",
              " 'overpriced': 10851,\n",
              " 'steam': 13879,\n",
              " 'firepower': 5719,\n",
              " 'lab': 8554,\n",
              " 'electronic': 5023,\n",
              " 'resource': 12345,\n",
              " 'automation': 1835,\n",
              " 'infectious': 7569,\n",
              " 'diseases': 4485,\n",
              " 'bioterrorism': 2296,\n",
              " 'kvpbybglsr': 8511,\n",
              " 'graysondolan': 6513,\n",
              " 'kendall': 8288,\n",
              " 'jenner': 7955,\n",
              " 'nick': 10234,\n",
              " 'jonas': 8060,\n",
              " 'dating': 4088,\n",
              " 'literally': 8885,\n",
              " 'explode': 5390,\n",
              " 'pfvzvpxqgr': 11177,\n",
              " 'tell': 14419,\n",
              " 'mom': 9777,\n",
              " 'bring': 2615,\n",
              " 'hold': 7050,\n",
              " 'cat': 3017,\n",
              " 'rt': 12678,\n",
              " 'startelegram': 13846,\n",
              " 'homeless': 7079,\n",
              " 'vulnerable': 15681,\n",
              " 'north': 10341,\n",
              " 'texas': 14475,\n",
              " 'heat': 6878,\n",
              " 'wave': 15799,\n",
              " 'k9airfq3ql': 8190,\n",
              " 'jdbtlymehy': 7939,\n",
              " 'nuclear': 10415,\n",
              " 'solar': 13574,\n",
              " 'power': 11461,\n",
              " 'japanese': 7902,\n",
              " 'fukushima': 6062,\n",
              " 'reactor': 12097,\n",
              " 'energy': 5136,\n",
              " 'japan': 7901,\n",
              " 'temperature': 14429,\n",
              " 'fuel': 6056,\n",
              " 'pool': 11405,\n",
              " 'ys3nmwwyvc': 16498,\n",
              " 'alpotnb7q3': 1387,\n",
              " 'taken': 14283,\n",
              " 'local': 8953,\n",
              " 'wlmsq3mtho': 16040,\n",
              " 'esteemed': 5260,\n",
              " 'journalist': 8079,\n",
              " 'recalls': 12141,\n",
              " 'tragic': 14873,\n",
              " 'effects': 4973,\n",
              " 'unaddressed': 15225,\n",
              " 'childhood': 3223,\n",
              " 'trauma': 14903,\n",
              " 'keithboykin': 8277,\n",
              " 'randallpinkston': 12021,\n",
              " 'pozarmy': 11466,\n",
              " 'gxq1auzb18': 6656,\n",
              " 'feel': 5599,\n",
              " 'panicking': 10963,\n",
              " 'results': 12375,\n",
              " 'alarmingly': 1322,\n",
              " 'calm': 2871,\n",
              " 'thunder': 14643,\n",
              " 'lightning': 8829,\n",
              " 'possible': 11433,\n",
              " 'pinpoint': 11251,\n",
              " 'foothill': 5868,\n",
              " 'forecast': 5877,\n",
              " 'ctijdpxabk': 3898,\n",
              " '40': 495,\n",
              " 'displaced': 4506,\n",
              " 'ocean': 10543,\n",
              " 'township': 14840,\n",
              " 'apartment': 1540,\n",
              " 'newyork': 10204,\n",
              " 'uelz59wvom': 15180,\n",
              " 'freddiedeboer': 5969,\n",
              " 'thucydiplease': 14641,\n",
              " 'rise': 12490,\n",
              " 'coates': 3440,\n",
              " 'charleston': 3166,\n",
              " 'massacre': 9344,\n",
              " 'walter': 15742,\n",
              " 'black': 2336,\n",
              " 'twitter': 15092,\n",
              " 'broadly': 2632,\n",
              " 'mathew': 9364,\n",
              " 'z3ke': 16536,\n",
              " 'sk1': 13396,\n",
              " 'saladinahmed': 12808,\n",
              " 'died': 4409,\n",
              " 'horrible': 7125,\n",
              " 'deaths': 4142,\n",
              " 'trapped': 14901,\n",
              " 'ships': 13235,\n",
              " 'risk': 12493,\n",
              " 'destruction': 4328,\n",
              " 'fine': 5694,\n",
              " 'reality': 12116,\n",
              " 'training': 14879,\n",
              " 'falls': 5495,\n",
              " 'elevated': 5033,\n",
              " 'tracks': 14860,\n",
              " 'windstorm': 15984,\n",
              " 'jiomnrcygt': 8000,\n",
              " 'paramedic': 10984,\n",
              " 'ems': 5102,\n",
              " 'fears': 5587,\n",
              " 'missing': 9682,\n",
              " 'migrants': 9595,\n",
              " 'med': 9436,\n",
              " 'rescuers': 12325,\n",
              " 'search': 13015,\n",
              " 'survivors': 14156,\n",
              " 'boat': 2442,\n",
              " 'carrying': 2990,\n",
              " '6ds67xai5e': 713,\n",
              " 'derailed': 4285,\n",
              " 'benchmark': 2187,\n",
              " 'cool': 3674,\n",
              " 'paths': 11036,\n",
              " 'wonder': 16075,\n",
              " 'leaks': 8692,\n",
              " 'jobs': 8030,\n",
              " 'given': 6341,\n",
              " 'resque': 12359,\n",
              " 'new': 10182,\n",
              " 'ladies': 8564,\n",
              " 'tote': 14819,\n",
              " 'handbag': 6737,\n",
              " 'women': 16070,\n",
              " 'faux': 5552,\n",
              " 'leather': 8699,\n",
              " 'fashion': 5536,\n",
              " 'purse': 11755,\n",
              " 'y87gi3brlv': 16354,\n",
              " '1zbhvdcxzs': 262,\n",
              " 'raishimi33': 12007,\n",
              " 'sounds': 13637,\n",
              " 'plan': 11302,\n",
              " 'little': 8890,\n",
              " 'applaud': 1569,\n",
              " 'invading': 7694,\n",
              " 'iraq': 7741,\n",
              " 'catastrophic': 3022,\n",
              " 'mistake': 9690,\n",
              " 'diplomacy': 4440,\n",
              " 'needs': 10150,\n",
              " 'replace': 12299,\n",
              " 'constant': 3635,\n",
              " 'threat': 14617,\n",
              " 'war': 15752,\n",
              " 'israel': 7778,\n",
              " 'yqjpn3quux': 16488,\n",
              " 'related': 12232,\n",
              " 'threatens': 14620,\n",
              " 'europe': 5286,\n",
              " 'wk6b5z803o': 16035,\n",
              " 'marynmck': 9336,\n",
              " 'adorable': 1173,\n",
              " 'hope': 7109,\n",
              " 'won': 16074,\n",
              " 'noticed': 10367,\n",
              " 'devastation': 4347,\n",
              " 'coming': 3520,\n",
              " 'target': 14315,\n",
              " 'starbucks': 13835,\n",
              " 'closed': 3393,\n",
              " 'momneedscoffee': 9781,\n",
              " 'asap': 1687,\n",
              " 'iwontmakeit': 7814,\n",
              " 'redskins': 12183,\n",
              " 'wr': 16143,\n",
              " 'roberts': 12545,\n",
              " 'belly': 2180,\n",
              " 'bombed': 2460,\n",
              " 'teamstream': 14387,\n",
              " 'gbcvvevdty': 6216,\n",
              " 'allah': 1359,\n",
              " 'describes': 4295,\n",
              " 'piling': 11243,\n",
              " 'wealth': 15837,\n",
              " 'thinking': 14583,\n",
              " 'forever': 5885,\n",
              " 'hellfire': 6909,\n",
              " 'surah': 14131,\n",
              " 'humaza': 7217,\n",
              " 'reflect': 12195,\n",
              " 'loved': 9043,\n",
              " 'way': 15803,\n",
              " 'book': 2474,\n",
              " 'written': 16164,\n",
              " 'include': 7515,\n",
              " 'vantage': 15465,\n",
              " 'points': 11381,\n",
              " 'detkenlang': 4336,\n",
              " 'kindle': 8371,\n",
              " 'kcrnmjkj73': 8261,\n",
              " 'heartdisease': 6871,\n",
              " 'service': 13120,\n",
              " 'spending': 13700,\n",
              " 'half': 6721,\n",
              " 'budget': 2696,\n",
              " 'kzfigkeeva': 8528,\n",
              " 'forget': 5888,\n",
              " 'tragedy': 14872,\n",
              " 'gajtugaui7': 6156,\n",
              " 'liked': 8835,\n",
              " 'youtube': 16478,\n",
              " 'itsjustinstuart': 7794,\n",
              " 'mnkaji2q1n': 9735,\n",
              " 'range': 12028,\n",
              " 'mayhem': 9386,\n",
              " 'hungerarticles': 7231,\n",
              " 'nepal': 10167,\n",
              " 'rebuilding': 12136,\n",
              " 'livelihoods': 8900,\n",
              " 'quake': 11875,\n",
              " 'lrouwjmbix': 9067,\n",
              " 'suspected': 14162,\n",
              " 'serial': 13114,\n",
              " 'arsonist': 1668,\n",
              " 'arrested': 1658,\n",
              " 'calif': 2864,\n",
              " 'pzotpdgaki': 11789,\n",
              " 'chubbysquirrel': 3283,\n",
              " 'hurricane': 7248,\n",
              " 'surge': 14139,\n",
              " 'true': 14995,\n",
              " '33333': 416,\n",
              " '9vw0uqqi1y': 986,\n",
              " 'marvel': 9333,\n",
              " 'vs': 15670,\n",
              " 'dc': 4110,\n",
              " 'avengers': 1846,\n",
              " 'battle': 2064,\n",
              " 'rockbottomradfm': 12554,\n",
              " 'challenges': 3133,\n",
              " 'tough': 14825,\n",
              " 'rescuing': 12326,\n",
              " 'goes': 6415,\n",
              " 'engine': 5141,\n",
              " 'tyjxrfd3st': 15112,\n",
              " 'regular': 12220,\n",
              " 'coffees': 3456,\n",
              " 'rockstar': 12562,\n",
              " 'coffee': 3455,\n",
              " 'today': 14740,\n",
              " 'tired': 14696,\n",
              " 'butt': 2769,\n",
              " 'extraordinaire': 5421,\n",
              " 'nws': 10450,\n",
              " 'wth': 16179,\n",
              " 'rotating': 12628,\n",
              " 'huge': 7202,\n",
              " 'massive': 9347,\n",
              " 'violent': 15588,\n",
              " 'tornado': 14799,\n",
              " 'j3di85ist5': 7835,\n",
              " 'swb1192': 14180,\n",
              " 'nda': 10125,\n",
              " 'damage': 4021,\n",
              " 'ability': 1045,\n",
              " 'offer': 10577,\n",
              " 'services': 13121,\n",
              " 'future': 6087,\n",
              " 'prolly': 11625,\n",
              " 'ameenshaikh3': 1416,\n",
              " 'sir': 13363,\n",
              " 'wanted': 15749,\n",
              " 'point': 11379,\n",
              " 'sureshpprabhu': 14134,\n",
              " 'said': 12797,\n",
              " 'lying': 9129,\n",
              " 'sinkhole': 13359,\n",
              " 'swallows': 14173,\n",
              " 'brooklyn': 2644,\n",
              " 'intersection': 7678,\n",
              " 'ûò': 16706,\n",
              " '1ybe5mgzl4': 260,\n",
              " '7zog3dpdu9': 828,\n",
              " 'jacksonville': 7863,\n",
              " 'family': 5503,\n",
              " 'bands': 1985,\n",
              " 'memorial': 9481,\n",
              " 'planned': 11307,\n",
              " 'tilgurkv7z': 14673,\n",
              " '405': 500,\n",
              " 'southbound': 13645,\n",
              " 'coal': 3435,\n",
              " 'creek': 3823,\n",
              " 'pkwy': 11293,\n",
              " 'blocking': 2388,\n",
              " 'center': 3094,\n",
              " 'lane': 8597,\n",
              " 'im': 7450,\n",
              " 'feeling': 5601,\n",
              " 'attacked': 1771,\n",
              " '91jvycxxvi': 908,\n",
              " 'felt': 5615,\n",
              " 'namekians': 10056,\n",
              " 'played': 11319,\n",
              " 'planet': 11305,\n",
              " 'destroyed': 4324,\n",
              " 'acc': 1075,\n",
              " 'study': 14017,\n",
              " 'conducted': 3602,\n",
              " 'skims': 13411,\n",
              " 'morethan': 9824,\n",
              " '50': 589,\n",
              " 'population': 11414,\n",
              " 'kashmir': 8233,\n",
              " 'suffer': 14061,\n",
              " 'psychiatric': 11694,\n",
              " 'disorders': 4499,\n",
              " 'saf9mosksn': 12785,\n",
              " 'kashmirconflict': 8234,\n",
              " 'ideas': 7359,\n",
              " 'flattened': 5768,\n",
              " 'qfrawln4ba': 11829,\n",
              " 'eating': 4910,\n",
              " 'takis': 14286,\n",
              " 'rubbing': 12687,\n",
              " 'bleeding': 2366,\n",
              " 'tears': 14392,\n",
              " 'link': 8861,\n",
              " 'reddit': 12176,\n",
              " 'content': 3646,\n",
              " 'policy': 11392,\n",
              " 'effect': 4970,\n",
              " 'subreddits': 14045,\n",
              " 'banned': 1997,\n",
              " 'quarantined': 11881,\n",
              " 'cd2ng2awql': 3066,\n",
              " 'ig': 7387,\n",
              " '2wbivkzjip': 386,\n",
              " 'hailing': 6711,\n",
              " 'abstorm': 1061,\n",
              " 'yyc': 16524,\n",
              " 'hailstorm': 6712,\n",
              " 'haildamage': 6710,\n",
              " 'yycweather': 16528,\n",
              " 'calgary': 2859,\n",
              " 'captureyyc': 2948,\n",
              " 'alberta': 1329,\n",
              " 'sto': 13917,\n",
              " 'britney': 2623,\n",
              " 'spears': 13677,\n",
              " 'vegas': 15496,\n",
              " 'missed': 9680,\n",
              " 'can': 2904,\n",
              " 'ûªt': 16684,\n",
              " 'wait': 15720,\n",
              " 'tonight': 14773,\n",
              " 'pieceofme': 11231,\n",
              " 'catastrophe': 3021,\n",
              " '4mjyw7p7cf': 565,\n",
              " 'disco': 4472,\n",
              " 'best': 2214,\n",
              " 'song': 13597,\n",
              " 'gospel': 6455,\n",
              " 'acoustic': 1111,\n",
              " 'vcq2icptki': 15486,\n",
              " 'tune': 15041,\n",
              " 'a8jz5a26wi': 1009,\n",
              " 'theatershooting': 14519,\n",
              " 'defendant': 4190,\n",
              " 'mass': 9343,\n",
              " 'murderer': 9957,\n",
              " 'chose': 3257,\n",
              " 'testify': 14469,\n",
              " 'final': 5684,\n",
              " 'phase': 11190,\n",
              " 'subject': 14040,\n",
              " 'exam': 5327,\n",
              " 'jury': 8142,\n",
              " 'questions': 11899,\n",
              " 'brooke': 2643,\n",
              " 'face': 5457,\n",
              " 'timed': 14681,\n",
              " 'concert': 3586,\n",
              " 'screamed': 12981,\n",
              " 'minutes': 9657,\n",
              " 'straight': 13952,\n",
              " 'yup': 16511,\n",
              " 'hasn': 6800,\n",
              " 'sunk': 14099,\n",
              " 'ii2spvp89b': 7412,\n",
              " 'rodpt33xfm': 12568,\n",
              " 'eversafe': 5307,\n",
              " 'emergency': 5073,\n",
              " 'auto': 1831,\n",
              " 'kit': 8389,\n",
              " 'unsafe': 15295,\n",
              " 'hazardous': 6824,\n",
              " 'rush': 12721,\n",
              " 'hour': 7150,\n",
              " 'gridlock': 6543,\n",
              " 'jumper': 8133,\n",
              " 'ca': 2819,\n",
              " '0bvk5tub4j': 32,\n",
              " 'demoness': 4247,\n",
              " 'voice': 15641,\n",
              " 'angel': 1464,\n",
              " 'siren': 13365,\n",
              " 'beckoning': 2133,\n",
              " 'void': 15643,\n",
              " 'this': 14589,\n",
              " 'nps3xpbkaq': 10390,\n",
              " 'aftershock': 1233,\n",
              " 'delo': 4224,\n",
              " 'speaking': 13675,\n",
              " 'scuf': 12996,\n",
              " 'xb1': 16245,\n",
              " 'end': 5121,\n",
              " 'getting': 6280,\n",
              " 'ps': 11680,\n",
              " 'anti': 1513,\n",
              " 'rear': 12124,\n",
              " 'technology': 14400,\n",
              " 'vpvj5hrc1i': 15665,\n",
              " 'techesback': 14395,\n",
              " 'tech': 14394,\n",
              " 'proud': 11668,\n",
              " 'joegoodmanjr': 8034,\n",
              " 'watching': 15789,\n",
              " 'copalibertadores': 3684,\n",
              " 'argentinean': 1627,\n",
              " 'pandemonium': 10959,\n",
              " '8tygo0kizz': 890,\n",
              " 'causing': 3041,\n",
              " 'evacuations': 5294,\n",
              " 'downtown': 4662,\n",
              " 'hinton': 7000,\n",
              " 'mtmkimwiyy': 9924,\n",
              " 'research': 12327,\n",
              " 'collective': 3481,\n",
              " 'memory': 9483,\n",
              " '1st': 248,\n",
              " 'rule': 12703,\n",
              " 'writing': 16161,\n",
              " 'diverse': 4527,\n",
              " 'touch': 14822,\n",
              " 'group': 6561,\n",
              " 'phfoeozyps': 11192,\n",
              " 'jax': 7921,\n",
              " 'issues': 7782,\n",
              " 'outlook': 10832,\n",
              " 'hwo': 7267,\n",
              " 'fucoqhclad': 6054,\n",
              " 'chowtaxis': 3261,\n",
              " 'newport': 10192,\n",
              " 'big': 2261,\n",
              " 'pick': 11219,\n",
              " 'jackie': 7859,\n",
              " 'bristol': 2619,\n",
              " 'temple': 14431,\n",
              " ...}"
            ]
          },
          "metadata": {
            "tags": []
          },
          "execution_count": 241
        }
      ]
    },
    {
      "cell_type": "code",
      "metadata": {
        "id": "-IBpG96Qqt-I",
        "colab_type": "code",
        "colab": {}
      },
      "source": [
        "feature_names = train_vectorizer.get_feature_names()"
      ],
      "execution_count": 0,
      "outputs": []
    },
    {
      "cell_type": "code",
      "metadata": {
        "id": "agKMPc3hqt-N",
        "colab_type": "code",
        "colab": {}
      },
      "source": [
        "sparse_vectors = X_train.toarray()"
      ],
      "execution_count": 0,
      "outputs": []
    },
    {
      "cell_type": "code",
      "metadata": {
        "id": "YNifxwR8qt-S",
        "colab_type": "code",
        "outputId": "65aa8d37-3c1c-4872-fc5c-1e976b20d9c2",
        "colab": {
          "base_uri": "https://localhost:8080/",
          "height": 35
        }
      },
      "source": [
        "sparse_vectors[0]"
      ],
      "execution_count": 244,
      "outputs": [
        {
          "output_type": "execute_result",
          "data": {
            "text/plain": [
              "array([0, 0, 0, ..., 0, 0, 0])"
            ]
          },
          "metadata": {
            "tags": []
          },
          "execution_count": 244
        }
      ]
    },
    {
      "cell_type": "markdown",
      "metadata": {
        "id": "3Z5ds3V5qt-a",
        "colab_type": "text"
      },
      "source": [
        "# Logistic Regression"
      ]
    },
    {
      "cell_type": "code",
      "metadata": {
        "id": "tQeTqUSoqt-b",
        "colab_type": "code",
        "colab": {}
      },
      "source": [
        "from sklearn.linear_model import LogisticRegression"
      ],
      "execution_count": 0,
      "outputs": []
    },
    {
      "cell_type": "code",
      "metadata": {
        "id": "k3iydBHVqt-i",
        "colab_type": "code",
        "colab": {}
      },
      "source": [
        "model = LogisticRegression().fit(X_train, y_train_split)"
      ],
      "execution_count": 0,
      "outputs": []
    },
    {
      "cell_type": "code",
      "metadata": {
        "id": "m4wHH5Rrqt-o",
        "colab_type": "code",
        "outputId": "89f1fb8d-df39-4627-ed02-cb72330f586a",
        "colab": {
          "base_uri": "https://localhost:8080/",
          "height": 0
        }
      },
      "source": [
        "model.score(X_train, y_train_split)"
      ],
      "execution_count": 247,
      "outputs": [
        {
          "output_type": "execute_result",
          "data": {
            "text/plain": [
              "0.9711015199849878"
            ]
          },
          "metadata": {
            "tags": []
          },
          "execution_count": 247
        }
      ]
    },
    {
      "cell_type": "code",
      "metadata": {
        "id": "0q4xohFNqt-u",
        "colab_type": "code",
        "outputId": "03286e80-e104-48e0-8b31-c8c427bfd970",
        "colab": {
          "base_uri": "https://localhost:8080/",
          "height": 0
        }
      },
      "source": [
        "model.predict(X_test)"
      ],
      "execution_count": 248,
      "outputs": [
        {
          "output_type": "execute_result",
          "data": {
            "text/plain": [
              "array([0, 0, 1, ..., 1, 1, 0])"
            ]
          },
          "metadata": {
            "tags": []
          },
          "execution_count": 248
        }
      ]
    },
    {
      "cell_type": "code",
      "metadata": {
        "id": "-Ijj-q2Hqt-4",
        "colab_type": "code",
        "outputId": "ca4ce65e-4a24-48e6-c2e4-832e2c323b2b",
        "colab": {
          "base_uri": "https://localhost:8080/",
          "height": 0
        }
      },
      "source": [
        "model.score(X_test, y_test_split)"
      ],
      "execution_count": 249,
      "outputs": [
        {
          "output_type": "execute_result",
          "data": {
            "text/plain": [
              "0.7981611208406305"
            ]
          },
          "metadata": {
            "tags": []
          },
          "execution_count": 249
        }
      ]
    },
    {
      "cell_type": "markdown",
      "metadata": {
        "id": "P6sH50nxG7Vl",
        "colab_type": "text"
      },
      "source": [
        "# Word2Vec model using Spacy"
      ]
    },
    {
      "cell_type": "code",
      "metadata": {
        "id": "NyJFj_OfG45N",
        "colab_type": "code",
        "colab": {}
      },
      "source": [
        "import spacy\n",
        "import gensim.downloader as api\n",
        "from gensim.test.utils import get_tmpfile\n",
        "from gensim.models import Word2Vec"
      ],
      "execution_count": 0,
      "outputs": []
    },
    {
      "cell_type": "code",
      "metadata": {
        "id": "xeQatlUEPMZF",
        "colab_type": "code",
        "colab": {}
      },
      "source": [
        "# !python -m spacy download en_core_web_lg"
      ],
      "execution_count": 0,
      "outputs": []
    },
    {
      "cell_type": "code",
      "metadata": {
        "id": "Omx-AN4SPXot",
        "colab_type": "code",
        "colab": {}
      },
      "source": [
        "nlp = spacy.load(\"en_core_web_lg\")"
      ],
      "execution_count": 0,
      "outputs": []
    },
    {
      "cell_type": "code",
      "metadata": {
        "colab_type": "code",
        "id": "6VeYiHkziRjU",
        "outputId": "cba96fc0-fca7-48dd-f47a-06d9aafd8570",
        "colab": {
          "base_uri": "https://localhost:8080/",
          "height": 92
        }
      },
      "source": [
        "train_corpus[:3]"
      ],
      "execution_count": 253,
      "outputs": [
        {
          "output_type": "execute_result",
          "data": {
            "text/plain": [
              "['ashes 2015 australia\\x89ûªs collapse trent bridge worst history england bundled australia 60 http t t5trhjuau0',\n",
              " 'great michigan technique camp b1g thanks bmurph1019 hail youtsey termn8r13 goblue wrestleon http t oaskgki6qj',\n",
              " 'cnn tennessee movie theater shooting suspect killed police http t di8elzswnr']"
            ]
          },
          "metadata": {
            "tags": []
          },
          "execution_count": 253
        }
      ]
    },
    {
      "cell_type": "code",
      "metadata": {
        "id": "6xRLX7tsiVry",
        "colab_type": "code",
        "colab": {}
      },
      "source": [
        "train_df['corpus'] = cleaned_tweets_lst"
      ],
      "execution_count": 0,
      "outputs": []
    },
    {
      "cell_type": "code",
      "metadata": {
        "id": "uEYtpP2O2Pjt",
        "colab_type": "code",
        "outputId": "5c5fdac7-4333-4182-fd34-c046671cee01",
        "colab": {
          "base_uri": "https://localhost:8080/",
          "height": 354
        }
      },
      "source": [
        "train_df.head()"
      ],
      "execution_count": 255,
      "outputs": [
        {
          "output_type": "execute_result",
          "data": {
            "text/html": [
              "<div>\n",
              "<style scoped>\n",
              "    .dataframe tbody tr th:only-of-type {\n",
              "        vertical-align: middle;\n",
              "    }\n",
              "\n",
              "    .dataframe tbody tr th {\n",
              "        vertical-align: top;\n",
              "    }\n",
              "\n",
              "    .dataframe thead th {\n",
              "        text-align: right;\n",
              "    }\n",
              "</style>\n",
              "<table border=\"1\" class=\"dataframe\">\n",
              "  <thead>\n",
              "    <tr style=\"text-align: right;\">\n",
              "      <th></th>\n",
              "      <th>id</th>\n",
              "      <th>keyword</th>\n",
              "      <th>location</th>\n",
              "      <th>text</th>\n",
              "      <th>target</th>\n",
              "      <th>cleaned_tweets</th>\n",
              "      <th>corpus</th>\n",
              "    </tr>\n",
              "  </thead>\n",
              "  <tbody>\n",
              "    <tr>\n",
              "      <th>0</th>\n",
              "      <td>1</td>\n",
              "      <td>NaN</td>\n",
              "      <td>NaN</td>\n",
              "      <td>Our Deeds are the Reason of this #earthquake M...</td>\n",
              "      <td>1</td>\n",
              "      <td>[deeds, reason, earthquake, allah, forgive]</td>\n",
              "      <td>deeds reason earthquake allah forgive</td>\n",
              "    </tr>\n",
              "    <tr>\n",
              "      <th>1</th>\n",
              "      <td>4</td>\n",
              "      <td>NaN</td>\n",
              "      <td>NaN</td>\n",
              "      <td>Forest fire near La Ronge Sask. Canada</td>\n",
              "      <td>1</td>\n",
              "      <td>[forest, near, la, ronge, sask, canada]</td>\n",
              "      <td>forest near la ronge sask canada</td>\n",
              "    </tr>\n",
              "    <tr>\n",
              "      <th>2</th>\n",
              "      <td>5</td>\n",
              "      <td>NaN</td>\n",
              "      <td>NaN</td>\n",
              "      <td>All residents asked to 'shelter in place' are ...</td>\n",
              "      <td>1</td>\n",
              "      <td>[residents, asked, shelter, place, notified, o...</td>\n",
              "      <td>residents asked shelter place notified officer...</td>\n",
              "    </tr>\n",
              "    <tr>\n",
              "      <th>3</th>\n",
              "      <td>6</td>\n",
              "      <td>NaN</td>\n",
              "      <td>NaN</td>\n",
              "      <td>13,000 people receive #wildfires evacuation or...</td>\n",
              "      <td>1</td>\n",
              "      <td>[13, 000, people, receive, wildfires, evacuati...</td>\n",
              "      <td>13 000 people receive wildfires evacuation ord...</td>\n",
              "    </tr>\n",
              "    <tr>\n",
              "      <th>4</th>\n",
              "      <td>7</td>\n",
              "      <td>NaN</td>\n",
              "      <td>NaN</td>\n",
              "      <td>Just got sent this photo from Ruby #Alaska as ...</td>\n",
              "      <td>1</td>\n",
              "      <td>[got, sent, photo, ruby, alaska, smoke, wildfi...</td>\n",
              "      <td>got sent photo ruby alaska smoke wildfires pou...</td>\n",
              "    </tr>\n",
              "  </tbody>\n",
              "</table>\n",
              "</div>"
            ],
            "text/plain": [
              "   id  ...                                             corpus\n",
              "0   1  ...              deeds reason earthquake allah forgive\n",
              "1   4  ...                   forest near la ronge sask canada\n",
              "2   5  ...  residents asked shelter place notified officer...\n",
              "3   6  ...  13 000 people receive wildfires evacuation ord...\n",
              "4   7  ...  got sent photo ruby alaska smoke wildfires pou...\n",
              "\n",
              "[5 rows x 7 columns]"
            ]
          },
          "metadata": {
            "tags": []
          },
          "execution_count": 255
        }
      ]
    },
    {
      "cell_type": "code",
      "metadata": {
        "id": "bPrhbfxm2XBw",
        "colab_type": "code",
        "colab": {}
      },
      "source": [
        "# train each tweet in dataframe with model\n",
        "# tweet_tokens = []\n",
        "# for tweet in train_df['corpus']:\n",
        "#   tweet_tokens.append(nlp(tweet))\n",
        "\n",
        "train_tweet_tokens = []\n",
        "for tweet in train_corpus:\n",
        "  train_tweet_tokens.append(nlp(tweet))"
      ],
      "execution_count": 0,
      "outputs": []
    },
    {
      "cell_type": "code",
      "metadata": {
        "id": "Je6JXlKu54H-",
        "colab_type": "code",
        "colab": {}
      },
      "source": [
        "# oov_words = []\n",
        "\n",
        "# for token in train_tweet_tokens:\n",
        "#   if token.is_oov == True:\n",
        "#     oov_words.append(token.text)"
      ],
      "execution_count": 0,
      "outputs": []
    },
    {
      "cell_type": "code",
      "metadata": {
        "id": "ZHPyTvLw4v1n",
        "colab_type": "code",
        "colab": {}
      },
      "source": [
        "# tweet_vectors = []\n",
        "# for token in tweet_tokens:\n",
        "#   tweet_vectors.append(token.vector)\n",
        "\n",
        "train_tweet_vectors = []\n",
        "for token in train_tweet_tokens:\n",
        "  train_tweet_vectors.append(token.vector)"
      ],
      "execution_count": 0,
      "outputs": []
    },
    {
      "cell_type": "markdown",
      "metadata": {
        "id": "tgY6SHTVFPKV",
        "colab_type": "text"
      },
      "source": [
        "#Embedding: Word2Vec, Classifier: Logistic Regression"
      ]
    },
    {
      "cell_type": "code",
      "metadata": {
        "id": "mbsrRgpyg0SG",
        "colab_type": "code",
        "colab": {}
      },
      "source": [
        "w2v_lr = LogisticRegression(n_jobs=-1).fit(train_tweet_vectors, y_train_split)"
      ],
      "execution_count": 0,
      "outputs": []
    },
    {
      "cell_type": "code",
      "metadata": {
        "id": "gV_HNSCpCEvY",
        "colab_type": "code",
        "outputId": "0b67a2d7-493c-4c23-e95f-37f01ffd142b",
        "colab": {
          "base_uri": "https://localhost:8080/",
          "height": 35
        }
      },
      "source": [
        "w2v_lr.score(train_tweet_vectors, y_train_split)"
      ],
      "execution_count": 260,
      "outputs": [
        {
          "output_type": "execute_result",
          "data": {
            "text/plain": [
              "0.8166635391255395"
            ]
          },
          "metadata": {
            "tags": []
          },
          "execution_count": 260
        }
      ]
    },
    {
      "cell_type": "code",
      "metadata": {
        "colab_type": "code",
        "id": "Pu3qojpEClaE",
        "colab": {}
      },
      "source": [
        "\n",
        "# Now run model on test"
      ],
      "execution_count": 0,
      "outputs": []
    },
    {
      "cell_type": "code",
      "metadata": {
        "id": "OgFbZpb9CmQW",
        "colab_type": "code",
        "outputId": "1a9ff276-e3d5-4dd3-a61b-d6145b56f1ef",
        "colab": {
          "base_uri": "https://localhost:8080/",
          "height": 35
        }
      },
      "source": [
        "len(test_corpus)"
      ],
      "execution_count": 262,
      "outputs": [
        {
          "output_type": "execute_result",
          "data": {
            "text/plain": [
              "2284"
            ]
          },
          "metadata": {
            "tags": []
          },
          "execution_count": 262
        }
      ]
    },
    {
      "cell_type": "code",
      "metadata": {
        "id": "wT_tPLVYBG2E",
        "colab_type": "code",
        "colab": {}
      },
      "source": [
        "test_tweet_tokens = []\n",
        "for tweet in test_corpus:\n",
        "  test_tweet_tokens.append(nlp(tweet))"
      ],
      "execution_count": 0,
      "outputs": []
    },
    {
      "cell_type": "code",
      "metadata": {
        "id": "RbU74B-rBGls",
        "colab_type": "code",
        "outputId": "fa400ae4-ecf7-4475-9fbb-1c7c11ab032d",
        "colab": {
          "base_uri": "https://localhost:8080/",
          "height": 128
        }
      },
      "source": [
        "test_tweet_tokens[:5]"
      ],
      "execution_count": 264,
      "outputs": [
        {
          "output_type": "execute_result",
          "data": {
            "text/plain": [
              "[new weapon cause imaginable destruction,\n",
              " f amp ing things gishwhes got soaked deluge going pads tampons thx mishacollins,\n",
              " dt georgegalloway rt galloway4mayor ûïthe col police catch pickpocket liverpool stree http t vxin1goq4q,\n",
              " aftershock school kick great want thank making possible great night,\n",
              " response trauma children addicts develop defensive self decreases vulnerability 3]"
            ]
          },
          "metadata": {
            "tags": []
          },
          "execution_count": 264
        }
      ]
    },
    {
      "cell_type": "code",
      "metadata": {
        "id": "jojvghyQBGd-",
        "colab_type": "code",
        "colab": {}
      },
      "source": [
        "test_tweet_vectors = []\n",
        "for token in test_tweet_tokens:\n",
        "  test_tweet_vectors.append(token.vector)"
      ],
      "execution_count": 0,
      "outputs": []
    },
    {
      "cell_type": "code",
      "metadata": {
        "id": "hRdxItGrBGWy",
        "colab_type": "code",
        "colab": {}
      },
      "source": [
        "w2v_lr_test_score = w2v_lr.score(test_tweet_vectors, y_test_split)"
      ],
      "execution_count": 0,
      "outputs": []
    },
    {
      "cell_type": "code",
      "metadata": {
        "id": "JmA4iczqC6eY",
        "colab_type": "code",
        "outputId": "90f3216e-92e9-4182-bebe-a4725b3db9d1",
        "colab": {
          "base_uri": "https://localhost:8080/",
          "height": 199
        }
      },
      "source": [
        "print('test score = ', w2v_lr_test_score)\n",
        "print(classification_report(y_test_split, w2v_lr.predict(test_tweet_vectors)))"
      ],
      "execution_count": 267,
      "outputs": [
        {
          "output_type": "stream",
          "text": [
            "test score =  0.7933450087565674\n",
            "              precision    recall  f1-score   support\n",
            "\n",
            "           0       0.81      0.84      0.82      1318\n",
            "           1       0.77      0.73      0.75       966\n",
            "\n",
            "    accuracy                           0.79      2284\n",
            "   macro avg       0.79      0.78      0.79      2284\n",
            "weighted avg       0.79      0.79      0.79      2284\n",
            "\n"
          ],
          "name": "stdout"
        }
      ]
    },
    {
      "cell_type": "code",
      "metadata": {
        "id": "VuXKR39sbaNq",
        "colab_type": "code",
        "colab": {}
      },
      "source": [
        "# With hyper tuned parameters"
      ],
      "execution_count": 0,
      "outputs": []
    },
    {
      "cell_type": "code",
      "metadata": {
        "id": "6omVAFLvbd9I",
        "colab_type": "code",
        "outputId": "41ba00b5-9013-4a92-93fb-1352c34c61d2",
        "colab": {
          "base_uri": "https://localhost:8080/",
          "height": 219
        }
      },
      "source": [
        "from sklearn.model_selection import RandomizedSearchCV\n",
        "from scipy.stats import uniform\n",
        "from scipy.stats import randint\n",
        "dist = dict(C=uniform(loc=0, scale=4),solver =['liblinear', 'newton-cg', 'lbfgs', 'sag', 'saga'], multi_class=['ovr'], l1_ratio=np.linspace(0, 1, num=50))\n",
        "rdm_mdl_w2v_lr = RandomizedSearchCV(w2v_lr, dist, iid= True, random_state = 61, verbose = 3, n_jobs=-1)\n",
        "\n",
        "rdm_mdl_w2v_lr_search = rdm_mdl_w2v_lr.fit(train_tweet_vectors, y_train_split)\n",
        "print(rdm_mdl_w2v_lr_search.best_params_)\n",
        "\n",
        "rdm_mdl_w2v_lr_test_score = rdm_mdl_w2v_lr_search.score(test_tweet_vectors, y_test_split)\n",
        "print(rdm_mdl_w2v_lr_test_score)"
      ],
      "execution_count": 269,
      "outputs": [
        {
          "output_type": "stream",
          "text": [
            "Fitting 5 folds for each of 10 candidates, totalling 50 fits\n"
          ],
          "name": "stdout"
        },
        {
          "output_type": "stream",
          "text": [
            "[Parallel(n_jobs=-1)]: Using backend LokyBackend with 2 concurrent workers.\n",
            "[Parallel(n_jobs=-1)]: Done  28 tasks      | elapsed:   28.3s\n",
            "[Parallel(n_jobs=-1)]: Done  50 out of  50 | elapsed:   40.4s finished\n",
            "/usr/local/lib/python3.6/dist-packages/sklearn/model_selection/_search.py:823: FutureWarning: The parameter 'iid' is deprecated in 0.22 and will be removed in 0.24.\n",
            "  \"removed in 0.24.\", FutureWarning\n",
            "/usr/local/lib/python3.6/dist-packages/sklearn/linear_model/_logistic.py:1501: UserWarning: l1_ratio parameter is only used when penalty is 'elasticnet'. Got (penalty=l2)\n",
            "  \"(penalty={})\".format(self.penalty))\n"
          ],
          "name": "stderr"
        },
        {
          "output_type": "stream",
          "text": [
            "{'C': 1.1274755903429812, 'l1_ratio': 0.9183673469387754, 'multi_class': 'ovr', 'solver': 'newton-cg'}\n",
            "0.7933450087565674\n"
          ],
          "name": "stdout"
        }
      ]
    },
    {
      "cell_type": "markdown",
      "metadata": {
        "id": "p-6fSRRKFcX0",
        "colab_type": "text"
      },
      "source": [
        "#Embedding: Word2Vec, Classifier: Random Forest"
      ]
    },
    {
      "cell_type": "code",
      "metadata": {
        "id": "utFY2Va1FmWo",
        "colab_type": "code",
        "colab": {}
      },
      "source": [
        "from sklearn.ensemble import RandomForestClassifier"
      ],
      "execution_count": 0,
      "outputs": []
    },
    {
      "cell_type": "code",
      "metadata": {
        "id": "WdXwxLZbFmT9",
        "colab_type": "code",
        "colab": {}
      },
      "source": [
        "w2v_rf = RandomForestClassifier(n_jobs=-1).fit(train_tweet_vectors, y_train_split)"
      ],
      "execution_count": 0,
      "outputs": []
    },
    {
      "cell_type": "code",
      "metadata": {
        "id": "tyeTTkjjFmRR",
        "colab_type": "code",
        "colab": {
          "base_uri": "https://localhost:8080/",
          "height": 35
        },
        "outputId": "2c5ee240-f904-45ea-9251-b26b07914ffb"
      },
      "source": [
        "w2v_rf_train_score = w2v_rf.score(train_tweet_vectors, y_train_split)\n",
        "w2v_rf_train_score"
      ],
      "execution_count": 272,
      "outputs": [
        {
          "output_type": "execute_result",
          "data": {
            "text/plain": [
              "0.9885531994745731"
            ]
          },
          "metadata": {
            "tags": []
          },
          "execution_count": 272
        }
      ]
    },
    {
      "cell_type": "code",
      "metadata": {
        "id": "Rsuh8SU2FmOj",
        "colab_type": "code",
        "colab": {
          "base_uri": "https://localhost:8080/",
          "height": 35
        },
        "outputId": "b0515267-2259-4a09-c23d-920966b7690c"
      },
      "source": [
        "w2v_rf_test_score  = w2v_rf.score(test_tweet_vectors, y_test_split)\n",
        "w2v_rf_test_score"
      ],
      "execution_count": 273,
      "outputs": [
        {
          "output_type": "execute_result",
          "data": {
            "text/plain": [
              "0.8104203152364273"
            ]
          },
          "metadata": {
            "tags": []
          },
          "execution_count": 273
        }
      ]
    },
    {
      "cell_type": "code",
      "metadata": {
        "id": "l0vQeNEHFl9u",
        "colab_type": "code",
        "colab": {
          "base_uri": "https://localhost:8080/",
          "height": 199
        },
        "outputId": "3b721da4-036e-4f28-e595-b6b8c9483cdb"
      },
      "source": [
        "print('test score = ', w2v_rf_test_score)\n",
        "print(classification_report(y_test_split, w2v_rf.predict(test_tweet_vectors)))"
      ],
      "execution_count": 274,
      "outputs": [
        {
          "output_type": "stream",
          "text": [
            "test score =  0.8104203152364273\n",
            "              precision    recall  f1-score   support\n",
            "\n",
            "           0       0.79      0.91      0.85      1318\n",
            "           1       0.85      0.67      0.75       966\n",
            "\n",
            "    accuracy                           0.81      2284\n",
            "   macro avg       0.82      0.79      0.80      2284\n",
            "weighted avg       0.82      0.81      0.81      2284\n",
            "\n"
          ],
          "name": "stdout"
        }
      ]
    },
    {
      "cell_type": "code",
      "metadata": {
        "id": "Wsemm8jD6KJc",
        "colab_type": "code",
        "colab": {}
      },
      "source": [
        "# Tune with hyperparameters"
      ],
      "execution_count": 0,
      "outputs": []
    },
    {
      "cell_type": "code",
      "metadata": {
        "id": "VOwlrIoq5N5M",
        "colab_type": "code",
        "colab": {}
      },
      "source": [
        "w2v_rf_dist = dict(n_estimators = randint(1,200), max_features =['sqrt', 'log2'])\n",
        "\n",
        "rdm_mdl_w2v_rf = RandomizedSearchCV(w2v_rf, w2v_rf_dist, random_state= 1708, verbose=3, n_jobs =-1)"
      ],
      "execution_count": 0,
      "outputs": []
    },
    {
      "cell_type": "code",
      "metadata": {
        "id": "1GR0ktUD5N3E",
        "colab_type": "code",
        "colab": {
          "base_uri": "https://localhost:8080/",
          "height": 90
        },
        "outputId": "07c1bf79-5f2c-4505-d6b5-2f6682730330"
      },
      "source": [
        "rdm_mdl_w2v_rf_srch = rdm_mdl_w2v_rf.fit(train_tweet_vectors, y_train_split)"
      ],
      "execution_count": 277,
      "outputs": [
        {
          "output_type": "stream",
          "text": [
            "Fitting 5 folds for each of 10 candidates, totalling 50 fits\n"
          ],
          "name": "stdout"
        },
        {
          "output_type": "stream",
          "text": [
            "[Parallel(n_jobs=-1)]: Using backend LokyBackend with 2 concurrent workers.\n",
            "[Parallel(n_jobs=-1)]: Done  28 tasks      | elapsed:  1.3min\n",
            "[Parallel(n_jobs=-1)]: Done  50 out of  50 | elapsed:  2.8min finished\n"
          ],
          "name": "stderr"
        }
      ]
    },
    {
      "cell_type": "code",
      "metadata": {
        "id": "Ct037m3iA-AS",
        "colab_type": "code",
        "colab": {
          "base_uri": "https://localhost:8080/",
          "height": 35
        },
        "outputId": "e146b830-2a03-41bd-dc5d-9af6843d47b3"
      },
      "source": [
        "print(rdm_mdl_w2v_rf_srch.best_params_)"
      ],
      "execution_count": 278,
      "outputs": [
        {
          "output_type": "stream",
          "text": [
            "{'max_features': 'log2', 'n_estimators': 183}\n"
          ],
          "name": "stdout"
        }
      ]
    },
    {
      "cell_type": "code",
      "metadata": {
        "id": "rdv47-Km5Ny_",
        "colab_type": "code",
        "colab": {
          "base_uri": "https://localhost:8080/",
          "height": 35
        },
        "outputId": "fda311a4-9fe5-4164-f5d9-fcd4177260ea"
      },
      "source": [
        "# score with the tuned model\n",
        "rdm_mdl_w2v_rf_test_score =rdm_mdl_w2v_rf_srch.score(test_tweet_vectors, y_test_split)\n",
        "print(rdm_mdl_w2v_rf_test_score)"
      ],
      "execution_count": 279,
      "outputs": [
        {
          "output_type": "stream",
          "text": [
            "0.8213660245183888\n"
          ],
          "name": "stdout"
        }
      ]
    },
    {
      "cell_type": "code",
      "metadata": {
        "id": "2G3Kxtij5Nn3",
        "colab_type": "code",
        "colab": {}
      },
      "source": [
        ""
      ],
      "execution_count": 0,
      "outputs": []
    },
    {
      "cell_type": "markdown",
      "metadata": {
        "id": "i-OO_2D1HqCE",
        "colab_type": "text"
      },
      "source": [
        "#Embedding: Word2Vec, Classifier: XGBoost"
      ]
    },
    {
      "cell_type": "code",
      "metadata": {
        "id": "Gezol-quH8zq",
        "colab_type": "code",
        "colab": {}
      },
      "source": [
        "import xgboost as xgb"
      ],
      "execution_count": 0,
      "outputs": []
    },
    {
      "cell_type": "code",
      "metadata": {
        "id": "07XZ1_IEH8wq",
        "colab_type": "code",
        "colab": {}
      },
      "source": [
        "w2v_xgb = xgb.XGBClassifier(objective=\"binary:logistic\", n_jobs=-1, random_state= 42)"
      ],
      "execution_count": 0,
      "outputs": []
    },
    {
      "cell_type": "code",
      "metadata": {
        "id": "aaktooevH8tp",
        "colab_type": "code",
        "colab": {}
      },
      "source": [
        "train_tweet_vectors = np.asarray(train_tweet_vectors)\n",
        "w2v_xgb = w2v_xgb.fit(train_tweet_vectors, y_train_split)"
      ],
      "execution_count": 0,
      "outputs": []
    },
    {
      "cell_type": "code",
      "metadata": {
        "id": "ES4j2-XYDHst",
        "colab_type": "code",
        "colab": {
          "base_uri": "https://localhost:8080/",
          "height": 35
        },
        "outputId": "0f7396bb-0927-461d-ff9e-c4fcfbb901bb"
      },
      "source": [
        "train_tweet_vectors.shape"
      ],
      "execution_count": 283,
      "outputs": [
        {
          "output_type": "execute_result",
          "data": {
            "text/plain": [
              "(5329, 300)"
            ]
          },
          "metadata": {
            "tags": []
          },
          "execution_count": 283
        }
      ]
    },
    {
      "cell_type": "code",
      "metadata": {
        "id": "odLWZJXNH8ov",
        "colab_type": "code",
        "colab": {
          "base_uri": "https://localhost:8080/",
          "height": 35
        },
        "outputId": "fb87d285-d749-41d8-9ad9-cedad57996b7"
      },
      "source": [
        "w2v_xgb_train_score = w2v_xgb.score(train_tweet_vectors, y_train_split)\n",
        "w2v_xgb_train_score"
      ],
      "execution_count": 284,
      "outputs": [
        {
          "output_type": "execute_result",
          "data": {
            "text/plain": [
              "0.8722086695440046"
            ]
          },
          "metadata": {
            "tags": []
          },
          "execution_count": 284
        }
      ]
    },
    {
      "cell_type": "code",
      "metadata": {
        "id": "pt0RN--gH8l9",
        "colab_type": "code",
        "colab": {
          "base_uri": "https://localhost:8080/",
          "height": 35
        },
        "outputId": "75b67ff9-2829-45c1-91d9-2608223fd40c"
      },
      "source": [
        "w2v_xgb_test_score = w2v_xgb.score(test_tweet_vectors, y_test_split)\n",
        "w2v_xgb_test_score"
      ],
      "execution_count": 285,
      "outputs": [
        {
          "output_type": "execute_result",
          "data": {
            "text/plain": [
              "0.8169877408056042"
            ]
          },
          "metadata": {
            "tags": []
          },
          "execution_count": 285
        }
      ]
    },
    {
      "cell_type": "code",
      "metadata": {
        "id": "mL5m0utfKGGb",
        "colab_type": "code",
        "colab": {
          "base_uri": "https://localhost:8080/",
          "height": 217
        },
        "outputId": "63233b80-7a36-421b-cb2c-1836f61f31e9"
      },
      "source": [
        "print('train score = ', w2v_xgb_train_score)\n",
        "print('test score = ', w2v_xgb_test_score)\n",
        "print(classification_report(y_test_split, w2v_xgb.predict(test_tweet_vectors)))"
      ],
      "execution_count": 286,
      "outputs": [
        {
          "output_type": "stream",
          "text": [
            "train score =  0.8722086695440046\n",
            "test score =  0.8169877408056042\n",
            "              precision    recall  f1-score   support\n",
            "\n",
            "           0       0.82      0.87      0.85      1318\n",
            "           1       0.81      0.74      0.77       966\n",
            "\n",
            "    accuracy                           0.82      2284\n",
            "   macro avg       0.82      0.81      0.81      2284\n",
            "weighted avg       0.82      0.82      0.82      2284\n",
            "\n"
          ],
          "name": "stdout"
        }
      ]
    },
    {
      "cell_type": "code",
      "metadata": {
        "id": "fYQTv2BpC1sZ",
        "colab_type": "code",
        "colab": {
          "base_uri": "https://localhost:8080/",
          "height": 146
        },
        "outputId": "4addb30d-a932-401b-f715-37f3bee7e882"
      },
      "source": [
        "rdm_mdl_w2v_xgb_dist = dict(n_estimators = randint(1,300), learning_rate = uniform(loc=0.05, scale=.5))\n",
        "rdm_mdl_w2v_xgb = RandomizedSearchCV(w2v_xgb, rdm_mdl_w2v_xgb_dist, random_state=1708, verbose=3, n_jobs =-1)\n",
        "\n",
        "rdm_mdl_w2v_xgb_srch = rdm_mdl_w2v_xgb.fit(train_tweet_vectors, y_train_split)"
      ],
      "execution_count": 289,
      "outputs": [
        {
          "output_type": "stream",
          "text": [
            "Fitting 5 folds for each of 10 candidates, totalling 50 fits\n"
          ],
          "name": "stdout"
        },
        {
          "output_type": "stream",
          "text": [
            "[Parallel(n_jobs=-1)]: Using backend LokyBackend with 2 concurrent workers.\n",
            "/usr/local/lib/python3.6/dist-packages/joblib/externals/loky/process_executor.py:706: UserWarning: A worker stopped while some jobs were given to the executor. This can be caused by a too short worker timeout or by a memory leak.\n",
            "  \"timeout or by a memory leak.\", UserWarning\n",
            "[Parallel(n_jobs=-1)]: Done  28 tasks      | elapsed:  4.4min\n",
            "[Parallel(n_jobs=-1)]: Done  50 out of  50 | elapsed:  9.1min finished\n"
          ],
          "name": "stderr"
        }
      ]
    },
    {
      "cell_type": "code",
      "metadata": {
        "id": "Jr8bixA9Gno4",
        "colab_type": "code",
        "colab": {}
      },
      "source": [
        ""
      ],
      "execution_count": 0,
      "outputs": []
    },
    {
      "cell_type": "code",
      "metadata": {
        "id": "RwiqEdU-C1qm",
        "colab_type": "code",
        "colab": {}
      },
      "source": [
        "print(rdm_mdl_w2v_xgb_srch.best_params_)"
      ],
      "execution_count": 0,
      "outputs": []
    },
    {
      "cell_type": "code",
      "metadata": {
        "id": "B-HHNxVeC1jZ",
        "colab_type": "code",
        "colab": {}
      },
      "source": [
        "# score with the tuned model\n",
        "rdm_mdl_w2v_xgb_test_score =rdm_mdl_w2v_xgb.score(test_tweet_vectors, y_test_split)\n",
        "print(rdm_mdl_w2v_xgb_test_score)"
      ],
      "execution_count": 0,
      "outputs": []
    },
    {
      "cell_type": "markdown",
      "metadata": {
        "id": "iZukFU6GWRTt",
        "colab_type": "text"
      },
      "source": [
        "# GloVe model Using Spacy"
      ]
    },
    {
      "cell_type": "code",
      "metadata": {
        "id": "Cg0iqWcWDBXL",
        "colab_type": "code",
        "colab": {}
      },
      "source": [
        "# !python -m spacy download en_vectors_web_lg"
      ],
      "execution_count": 0,
      "outputs": []
    },
    {
      "cell_type": "code",
      "metadata": {
        "id": "07geQ7l7Dy4Z",
        "colab_type": "code",
        "colab": {}
      },
      "source": [
        "GloVe_nlp = spacy.load('en_vectors_web_lg')"
      ],
      "execution_count": 0,
      "outputs": []
    },
    {
      "cell_type": "code",
      "metadata": {
        "id": "Iss4wWZHG3va",
        "colab_type": "code",
        "colab": {}
      },
      "source": [
        "glove_trained_tweet_tokens = []\n",
        "for tweet in train_corpus:\n",
        "  glove_trained_tweet_tokens.append(GloVe_nlp(tweet))"
      ],
      "execution_count": 0,
      "outputs": []
    },
    {
      "cell_type": "code",
      "metadata": {
        "id": "3mvoWNlALybo",
        "colab_type": "code",
        "colab": {}
      },
      "source": [
        "glove_test_tweet_tokens = []\n",
        "for tweet in test_corpus:\n",
        "  glove_test_tweet_tokens.append(GloVe_nlp(tweet))"
      ],
      "execution_count": 0,
      "outputs": []
    },
    {
      "cell_type": "code",
      "metadata": {
        "id": "uBIC8kBVScuN",
        "colab_type": "code",
        "colab": {}
      },
      "source": [
        "glove_test_tweet_tokens"
      ],
      "execution_count": 0,
      "outputs": []
    },
    {
      "cell_type": "code",
      "metadata": {
        "id": "j9-kcbjQJ__7",
        "colab_type": "code",
        "colab": {}
      },
      "source": [
        "glove_trained_tweet_vectors = []\n",
        "for token in glove_trained_tweet_tokens:\n",
        "  glove_trained_tweet_vectors.append(token.vector)"
      ],
      "execution_count": 0,
      "outputs": []
    },
    {
      "cell_type": "code",
      "metadata": {
        "id": "_6XDQJn2MKWG",
        "colab_type": "code",
        "colab": {}
      },
      "source": [
        "glove_test_tweet_vectors = []\n",
        "for token in glove_test_tweet_tokens:\n",
        "  glove_test_tweet_vectors.append(token.vector)"
      ],
      "execution_count": 0,
      "outputs": []
    },
    {
      "cell_type": "code",
      "metadata": {
        "id": "OdfXmFZySVqP",
        "colab_type": "code",
        "colab": {}
      },
      "source": [
        "glove_trained_tweet_vectors[:2]"
      ],
      "execution_count": 0,
      "outputs": []
    },
    {
      "cell_type": "code",
      "metadata": {
        "id": "9xMqFw5aM-IP",
        "colab_type": "code",
        "colab": {}
      },
      "source": [
        "glove_test_tweet_vectors[:2]"
      ],
      "execution_count": 0,
      "outputs": []
    },
    {
      "cell_type": "markdown",
      "metadata": {
        "id": "mTP-fJZmK5Su",
        "colab_type": "text"
      },
      "source": [
        "#Embedding: GLoVE, Classifier: Logistic Regression"
      ]
    },
    {
      "cell_type": "code",
      "metadata": {
        "id": "8MLmON6NKhoW",
        "colab_type": "code",
        "colab": {}
      },
      "source": [
        "glove_lr = LogisticRegression(n_jobs=-1).fit(glove_trained_tweet_vectors, y_train_split)"
      ],
      "execution_count": 0,
      "outputs": []
    },
    {
      "cell_type": "code",
      "metadata": {
        "id": "LaFv5MUSLND8",
        "colab_type": "code",
        "colab": {}
      },
      "source": [
        "glove_lr_train_score = glove_lr.score(glove_trained_tweet_vectors, y_train_split)\n",
        "glove_lr_test_score = glove_lr.score(glove_test_tweet_vectors, y_test_split)"
      ],
      "execution_count": 0,
      "outputs": []
    },
    {
      "cell_type": "code",
      "metadata": {
        "id": "yOkoS5j6LGDo",
        "colab_type": "code",
        "colab": {}
      },
      "source": [
        "print('train score = ', glove_lr_train_score)\n",
        "print('test score = ', glove_lr_test_score)\n",
        "print(classification_report(y_test_split, glove_lr.predict(test_tweet_vectors)))"
      ],
      "execution_count": 0,
      "outputs": []
    },
    {
      "cell_type": "code",
      "metadata": {
        "id": "NyW9WYtgS_uV",
        "colab_type": "code",
        "colab": {}
      },
      "source": [
        "# With hyper tuned parameters"
      ],
      "execution_count": 0,
      "outputs": []
    },
    {
      "cell_type": "code",
      "metadata": {
        "id": "_xFq34kGQxze",
        "colab_type": "code",
        "colab": {}
      },
      "source": [
        "dist = dict(C=uniform(loc=0, scale=4),solver =['liblinear', 'newton-cg', 'lbfgs', 'sag', 'saga'], max_iter= np.linspace(100, 1000, num=10))\n",
        "rdm_mdl_glove_lr = RandomizedSearchCV(glove_lr, dist, random_state = 61, verbose = 3, n_jobs=-1)\n",
        "\n",
        "rdm_mdl_glove_lr_search = rdm_mdl_glove_lr.fit(train_tweet_vectors, y_train_split)\n",
        "print(rdm_mdl_glove_lr_search.best_params_)\n",
        "\n",
        "rdm_mdl_glove_lr_test_score = rdm_mdl_glove_lr_search.score(test_tweet_vectors, y_test_split)\n",
        "print(rdm_mdl_glove_lr_test_score)"
      ],
      "execution_count": 0,
      "outputs": []
    },
    {
      "cell_type": "code",
      "metadata": {
        "id": "IAfCuq-9Qxwa",
        "colab_type": "code",
        "colab": {}
      },
      "source": [
        ""
      ],
      "execution_count": 0,
      "outputs": []
    },
    {
      "cell_type": "code",
      "metadata": {
        "id": "vB0tvKflQxbz",
        "colab_type": "code",
        "colab": {}
      },
      "source": [
        ""
      ],
      "execution_count": 0,
      "outputs": []
    },
    {
      "cell_type": "code",
      "metadata": {
        "id": "vnt1ziK8QxT_",
        "colab_type": "code",
        "colab": {}
      },
      "source": [
        ""
      ],
      "execution_count": 0,
      "outputs": []
    },
    {
      "cell_type": "markdown",
      "metadata": {
        "id": "w5KJSVsiTS-Q",
        "colab_type": "text"
      },
      "source": [
        "#Embedding: GloVe, Classifier: Random Forest"
      ]
    },
    {
      "cell_type": "code",
      "metadata": {
        "id": "Z-GDdW3LTYe4",
        "colab_type": "code",
        "colab": {}
      },
      "source": [
        "glove_rf = RandomForestClassifier(n_jobs=-1).fit(glove_trained_tweet_vectors, y_train_split)"
      ],
      "execution_count": 0,
      "outputs": []
    },
    {
      "cell_type": "code",
      "metadata": {
        "id": "5F5CTQQNTqJy",
        "colab_type": "code",
        "colab": {}
      },
      "source": [
        "glove_rf_train_score = glove_rf.score(glove_trained_tweet_vectors, y_train_split)\n",
        "glove_rf_test_score = glove_rf.score(glove_test_tweet_vectors, y_test_split)"
      ],
      "execution_count": 0,
      "outputs": []
    },
    {
      "cell_type": "code",
      "metadata": {
        "id": "LtKgswPUT3LN",
        "colab_type": "code",
        "colab": {}
      },
      "source": [
        "print('train score = ', glove_rf_train_score)\n",
        "print('test score = ', glove_rf_test_score)\n",
        "print(classification_report(y_test_split, glove_rf.predict(test_tweet_vectors)))"
      ],
      "execution_count": 0,
      "outputs": []
    },
    {
      "cell_type": "code",
      "metadata": {
        "id": "NgBqgSGiR-It",
        "colab_type": "code",
        "colab": {}
      },
      "source": [
        "glove_rf_dist = dict(n_estimators = randint(1,200), max_features =['sqrt', 'log2'], max_depth=[np.linspace(20, 200, num=10), np.logspace(2, 3, base=2)], min_samples_split=[np.linspace(20, 200, num=10), np.logspace(2, 3, base=2)])\n",
        "\n",
        "rdm_mdl_glove_rf = RandomizedSearchCV(glove_rf, w2v_rf_dist, random_state= 1708, verbose=3, n_jobs =-1)\n",
        "\n",
        "rdm_mdl_glove_rf_srch = rdm_mdl_glove_rf.fit(train_tweet_vectors, y_train_split)"
      ],
      "execution_count": 0,
      "outputs": []
    },
    {
      "cell_type": "code",
      "metadata": {
        "id": "Ol0a2PIAR-Fb",
        "colab_type": "code",
        "colab": {}
      },
      "source": [
        "print(rdm_mdl_glove_rf_srch.best_params_)"
      ],
      "execution_count": 0,
      "outputs": []
    },
    {
      "cell_type": "code",
      "metadata": {
        "id": "sDhypT-eR9wu",
        "colab_type": "code",
        "colab": {}
      },
      "source": [
        "rdm_mdl_glove_rf_test_score =rdm_mdl_glove_rf_srch.score(test_tweet_vectors, y_test_split)\n",
        "print(rdm_mdl_glove_rf_test_score)"
      ],
      "execution_count": 0,
      "outputs": []
    },
    {
      "cell_type": "markdown",
      "metadata": {
        "id": "ZHpnz_5BUGFD",
        "colab_type": "text"
      },
      "source": [
        "#Embedding: GloVe, Classifier: XGBoost"
      ]
    },
    {
      "cell_type": "code",
      "metadata": {
        "id": "UUErxdpyUAU_",
        "colab_type": "code",
        "colab": {}
      },
      "source": [
        "glove_xgb = xgb.XGBClassifier(objective=\"binary:logistic\", n_jobs=-1, random_state= 42)"
      ],
      "execution_count": 0,
      "outputs": []
    },
    {
      "cell_type": "code",
      "metadata": {
        "id": "BNc-pxD9UQ1v",
        "colab_type": "code",
        "colab": {}
      },
      "source": [
        "glove_trained_tweet_vectors = np.asarray(glove_trained_tweet_vectors)\n",
        "glove_xgb = glove_xgb.fit(glove_trained_tweet_vectors, y_train_split)"
      ],
      "execution_count": 0,
      "outputs": []
    },
    {
      "cell_type": "code",
      "metadata": {
        "id": "1MWpwixGUzvV",
        "colab_type": "code",
        "colab": {}
      },
      "source": [
        "glove_xgb_train_score = glove_xgb.score(glove_trained_tweet_vectors, y_train_split)\n",
        "glove_xgb_test_score = glove_xgb.score(glove_test_tweet_vectors, y_test_split)"
      ],
      "execution_count": 0,
      "outputs": []
    },
    {
      "cell_type": "code",
      "metadata": {
        "id": "UnrOGkppVhGO",
        "colab_type": "code",
        "colab": {}
      },
      "source": [
        "print('train score = ', glove_xgb_train_score)\n",
        "print('test score = ', glove_xgb_test_score)\n",
        "print(classification_report(y_test_split, glove_xgb.predict(test_tweet_vectors)))"
      ],
      "execution_count": 0,
      "outputs": []
    },
    {
      "cell_type": "code",
      "metadata": {
        "id": "BuTIee3WnREd",
        "colab_type": "code",
        "colab": {}
      },
      "source": [
        "rdm_mdl_glove_xgb_dist = dict(n_estimators = randint(1,300), learning_rate = uniform(loc=0.05, scale=.5))\n",
        "rdm_mdl_glove_xgb = RandomizedSearchCV(glove_xgb, rdm_mdl_glove_xgb_dist, random_state=1708, verbose=3, n_jobs =-1)\n",
        "\n",
        "rdm_mdl_glove_xgb_srch = rdm_mdl_glove_xgb.fit(train_tweet_vectors, y_train_split)"
      ],
      "execution_count": 0,
      "outputs": []
    },
    {
      "cell_type": "code",
      "metadata": {
        "id": "eP2HXj_4ntZK",
        "colab_type": "code",
        "colab": {}
      },
      "source": [
        "print(rdm_mdl_glove_xgb_srch.best_params_)"
      ],
      "execution_count": 0,
      "outputs": []
    },
    {
      "cell_type": "code",
      "metadata": {
        "id": "efNKMti3nw0D",
        "colab_type": "code",
        "colab": {}
      },
      "source": [
        "# score with the tuned model\n",
        "rdm_mdl_glove_xgb_test_score =rdm_mdl_glove_xgb.score(test_tweet_vectors, y_test_split)\n",
        "print(rdm_mdl_glove_xgb_test_score)"
      ],
      "execution_count": 0,
      "outputs": []
    },
    {
      "cell_type": "markdown",
      "metadata": {
        "id": "a9di36KzZU9t",
        "colab_type": "text"
      },
      "source": [
        "#Handling Out Of Vocabulary Words"
      ]
    },
    {
      "cell_type": "code",
      "metadata": {
        "id": "ImXjahawZV-s",
        "colab_type": "code",
        "colab": {}
      },
      "source": [
        ""
      ],
      "execution_count": 0,
      "outputs": []
    }
  ]
}